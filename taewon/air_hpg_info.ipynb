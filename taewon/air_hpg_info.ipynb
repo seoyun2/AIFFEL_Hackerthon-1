{
  "nbformat": 4,
  "nbformat_minor": 0,
  "metadata": {
    "colab": {
      "name": "Untitled61.ipynb",
      "provenance": [],
      "authorship_tag": "ABX9TyPgMtHglHmiwxqyVAw2jpqb",
      "include_colab_link": true
    },
    "kernelspec": {
      "name": "python3",
      "display_name": "Python 3"
    },
    "language_info": {
      "name": "python"
    }
  },
  "cells": [
    {
      "cell_type": "markdown",
      "metadata": {
        "id": "view-in-github",
        "colab_type": "text"
      },
      "source": [
        "<a href=\"https://colab.research.google.com/github/t1seo/AIFFEL_Hackerthon-1/blob/main/taewon/air_hpg_info.ipynb\" target=\"_parent\"><img src=\"https://colab.research.google.com/assets/colab-badge.svg\" alt=\"Open In Colab\"/></a>"
      ]
    },
    {
      "cell_type": "code",
      "metadata": {
        "id": "6Kqo_RUru7Yf"
      },
      "source": [
        "from google.colab import drive\n",
        "drive.mount('/content/drive')"
      ],
      "execution_count": null,
      "outputs": []
    },
    {
      "cell_type": "code",
      "metadata": {
        "id": "93czypqBvEDr"
      },
      "source": [
        "cd /content/drive/MyDrive/data/Restaurant_Visitor_Forecasting"
      ],
      "execution_count": null,
      "outputs": []
    },
    {
      "cell_type": "code",
      "metadata": {
        "id": "xeGVFaj-vFOt"
      },
      "source": [
        "import pandas as pd\n",
        "import matplotlib.pyplot as plt\n",
        "import seaborn as sns\n",
        "import missingno as msno\n",
        "\n",
        "%matplotlib inline\n",
        "%config InlineBackend.figure_format = 'retina'\n",
        "\n",
        "import warnings\n",
        "warnings.filterwarnings(\"ignore\")"
      ],
      "execution_count": null,
      "outputs": []
    },
    {
      "cell_type": "code",
      "metadata": {
        "id": "NbaXm_OzvLMC"
      },
      "source": [
        "air_reserve = pd.read_csv('air_reserve.csv')\n",
        "hpg_reserve = pd.read_csv('hpg_reserve.csv')\n",
        "air_store_info = pd.read_csv('air_store_info.csv')\n",
        "hpg_store_info = pd.read_csv('hpg_store_info.csv')\n",
        "store_id_relation = pd.read_csv('store_id_relation.csv')\n",
        "air_visit_data = pd.read_csv('air_visit_data.csv')\n",
        "sample_submission = pd.read_csv('sample_submission.csv')\n",
        "date_info = pd.read_csv('date_info.csv')"
      ],
      "execution_count": null,
      "outputs": []
    },
    {
      "cell_type": "markdown",
      "metadata": {
        "id": "crYeoBMD8l0K"
      },
      "source": [
        "## Air Store Info"
      ]
    },
    {
      "cell_type": "code",
      "metadata": {
        "id": "fn-zutmJv8nk"
      },
      "source": [
        "air_store_info.head()"
      ],
      "execution_count": null,
      "outputs": []
    },
    {
      "cell_type": "code",
      "metadata": {
        "id": "O-yGR96aqKeK"
      },
      "source": [
        "print(\"Air Store Info Row: \", len(air_store_info))"
      ],
      "execution_count": null,
      "outputs": []
    },
    {
      "cell_type": "markdown",
      "metadata": {
        "id": "WHZmO7nhqRcC"
      },
      "source": [
        "- 총 829개의 row가 있다."
      ]
    },
    {
      "cell_type": "markdown",
      "metadata": {
        "id": "F0a7FFWhrHhX"
      },
      "source": [
        "### air_store_info 업종별 식당 개수 파악"
      ]
    },
    {
      "cell_type": "code",
      "metadata": {
        "id": "KgfvFgVq7rmw"
      },
      "source": [
        "air_genre = air_store_info[['air_genre_name']]\n",
        "air_genre.head()"
      ],
      "execution_count": null,
      "outputs": []
    },
    {
      "cell_type": "code",
      "metadata": {
        "id": "S_h2Oq9y85wH"
      },
      "source": [
        "air_genre.value_counts()"
      ],
      "execution_count": null,
      "outputs": []
    },
    {
      "cell_type": "markdown",
      "metadata": {
        "id": "K-WQofzQqjUS"
      },
      "source": [
        "- `air_store_info`에 있는 업종별 개수를 파악해보았더니 `Izakaya`가 가장 많고 그 다음으로 `Cafe/Sweets', 'Dining bar` 순으로 많다."
      ]
    },
    {
      "cell_type": "code",
      "metadata": {
        "id": "6x54BtCK-T2T"
      },
      "source": [
        "air_genre = air_store_info[\"air_genre_name\"].value_counts().reset_index()\n",
        "air_genre = air_genre.rename(columns={\"index\":\"air_genre\", \"air_genre_name\":\"count\"})\n",
        "air_genre"
      ],
      "execution_count": null,
      "outputs": []
    },
    {
      "cell_type": "code",
      "metadata": {
        "id": "IrWELPOT-lU6"
      },
      "source": [
        "plt.figure(figsize=(15, 10))\n",
        "sns.set(font_scale=2) \n",
        "sns.barplot(y = air_genre[\"air_genre\"], x = air_genre[\"count\"])"
      ],
      "execution_count": null,
      "outputs": []
    },
    {
      "cell_type": "markdown",
      "metadata": {
        "id": "k-7pKqRsqgoX"
      },
      "source": [
        "- 막대 그래프로 시각화 한 결과 `air_store_info`에서 `Izakaya`업종이 가장 많은 것을 확인할 수 있다."
      ]
    },
    {
      "cell_type": "markdown",
      "metadata": {
        "id": "ctS8nZgfrOgE"
      },
      "source": [
        "### air_store_info 지역별 식당 개수 파악"
      ]
    },
    {
      "cell_type": "code",
      "metadata": {
        "id": "OziMH5xJ_590"
      },
      "source": [
        "air_area = air_store_info[\"air_area_name\"].value_counts().reset_index()\n",
        "air_area = air_area.rename(columns={\"index\":\"air_area\", \"air_area_name\":\"count\"})\n",
        "air_area"
      ],
      "execution_count": null,
      "outputs": []
    },
    {
      "cell_type": "code",
      "metadata": {
        "id": "xpGmMavJBofI"
      },
      "source": [
        "# top 15 지역\n",
        "air_area_15 = air_area.loc[:15, :]\n",
        "air_area_15"
      ],
      "execution_count": null,
      "outputs": []
    },
    {
      "cell_type": "markdown",
      "metadata": {
        "id": "dmwlyRserbOc"
      },
      "source": [
        "- `air_store_info`의 식당들은 `Fukuoka`와 `Tokyo`에 많은 위치해 있는 것을 확인할 수 있다. "
      ]
    },
    {
      "cell_type": "code",
      "metadata": {
        "id": "3zapSe7bBPhA"
      },
      "source": [
        "plt.figure(figsize=(15, 10))\n",
        "sns.barplot(y = air_area_15[\"air_area\"], x = air_area_15[\"count\"])"
      ],
      "execution_count": null,
      "outputs": []
    },
    {
      "cell_type": "markdown",
      "metadata": {
        "id": "nOFpao7irooJ"
      },
      "source": [
        "- 막대 그래프로 시각화 한 결과도 마찬가지로 후쿠오카와 도쿄에 식당들이 많이 위치해 있는 것을 확인할 수 있다."
      ]
    },
    {
      "cell_type": "markdown",
      "metadata": {
        "id": "bWRJZRlUEiRQ"
      },
      "source": [
        "### Air Info 지도\n",
        "\n",
        "Air Info에 있는 식당들이 어느 지역에 많이 분포되어 있는지 지도로 확인해본다."
      ]
    },
    {
      "cell_type": "code",
      "metadata": {
        "id": "JSC9M8QnBaGp"
      },
      "source": [
        "import folium\n",
        "from folium import plugins\n",
        "\n",
        "folium.__version__"
      ],
      "execution_count": null,
      "outputs": []
    },
    {
      "cell_type": "code",
      "metadata": {
        "id": "QvDtqBcSRX5e"
      },
      "source": [
        "air_store_info.head()"
      ],
      "execution_count": null,
      "outputs": []
    },
    {
      "cell_type": "code",
      "metadata": {
        "id": "EkNX5qVJRN51"
      },
      "source": [
        "location = air_store_info.groupby(['air_store_id', 'air_genre_name'])['latitude', 'longitude'].mean().reset_index()\n",
        "lacationlist = location[['latitude', 'longitude']]\n",
        "locationlist = lacationlist.values.tolist()\n",
        "\n",
        "map = folium.Map(location=[39, 139], \n",
        "                        tiles = \"Stamen Toner\",# width=1000, height=500,\n",
        "                        zoom_start = 5)\n",
        "marker_cluster=plugins.MarkerCluster().add_to(map)\n",
        "for point in range(0, len(location)):\n",
        "    folium.Marker(locationlist[point], popup=location['air_genre_name'][point], \n",
        "    icon=folium.Icon(color='white', icon_color='red', \n",
        "                     #icon='fa fa-info-circle',\n",
        "                     icon='fa fa-circle-o-notch fa-spin',\n",
        "                     angle=0, \n",
        "                     prefix='fa')).add_to(marker_cluster)\n",
        "map"
      ],
      "execution_count": null,
      "outputs": []
    },
    {
      "cell_type": "markdown",
      "metadata": {
        "id": "joNew9iqj_3F"
      },
      "source": [
        "## HPG Store Info"
      ]
    },
    {
      "cell_type": "code",
      "metadata": {
        "id": "jr0YmbyORzjH"
      },
      "source": [
        "hpg_store_info.head()"
      ],
      "execution_count": null,
      "outputs": []
    },
    {
      "cell_type": "code",
      "metadata": {
        "id": "RSGz2ZyWsK53"
      },
      "source": [
        "print(\"HOG Store Info Row: \", len(hpg_store_info))"
      ],
      "execution_count": null,
      "outputs": []
    },
    {
      "cell_type": "markdown",
      "metadata": {
        "id": "5f8Jzd8Isu2R"
      },
      "source": [
        "- `hpg`에는 `air`(829)보다 더 많은 row들이 있다."
      ]
    },
    {
      "cell_type": "markdown",
      "metadata": {
        "id": "_sXlH1fxsHEV"
      },
      "source": [
        "### HPG Store 업종별 식당 개수 파악"
      ]
    },
    {
      "cell_type": "code",
      "metadata": {
        "id": "kolBeynAlEDI"
      },
      "source": [
        "hpg_genre = hpg_store_info[['hpg_genre_name']]\n",
        "hpg_genre.head()"
      ],
      "execution_count": null,
      "outputs": []
    },
    {
      "cell_type": "code",
      "metadata": {
        "id": "SU2E_CsllLTD"
      },
      "source": [
        "hpg_genre.value_counts()"
      ],
      "execution_count": null,
      "outputs": []
    },
    {
      "cell_type": "markdown",
      "metadata": {
        "id": "lLUpfe2wn6mH"
      },
      "source": [
        "- `hpg_store_info`의 `genre`를 확인해보니 `Japanse_style`이 가장 많다. 이를 시각화 해보자."
      ]
    },
    {
      "cell_type": "code",
      "metadata": {
        "id": "3R4UQ_3SlPlB"
      },
      "source": [
        "hpg_genre = hpg_genre[\"hpg_genre_name\"].value_counts().reset_index()\n",
        "hpg_genre = hpg_genre.rename(columns={\"index\":\"hpg_genre\", \"hpg_genre_name\":\"count\"})\n",
        "hpg_genre"
      ],
      "execution_count": null,
      "outputs": []
    },
    {
      "cell_type": "markdown",
      "metadata": {
        "id": "OiahtXBTor9r"
      },
      "source": [
        "- `air_store_info`보다 더 다양한 업종이 있는 것을 볼 수 있다.\n",
        "- `Japananese Style`의 식당이 가장 많은 것을 확인해 볼 수 있다."
      ]
    },
    {
      "cell_type": "code",
      "metadata": {
        "id": "uOeQJla5lUsj"
      },
      "source": [
        "plt.figure(figsize=(15, 10))\n",
        "plt.rc('ytick', labelsize=14)\n",
        "sns.barplot(y = hpg_genre[\"hpg_genre\"], x = hpg_genre[\"count\"])"
      ],
      "execution_count": null,
      "outputs": []
    },
    {
      "cell_type": "markdown",
      "metadata": {
        "id": "06aD5sFptxPN"
      },
      "source": [
        "- `Japanese style`의 식당이 가장 많고 `International cuisine`과 `Creation`이 뒤를 잇는다."
      ]
    },
    {
      "cell_type": "markdown",
      "metadata": {
        "id": "vokyw0f4sbxF"
      },
      "source": [
        "### hpg_store 지역별 식당 개수 파악"
      ]
    },
    {
      "cell_type": "code",
      "metadata": {
        "id": "3Pg3uNRMojxO"
      },
      "source": [
        "hpg_area = hpg_store_info[\"hpg_area_name\"].value_counts().reset_index()\n",
        "hpg_area = hpg_area.rename(columns={\"index\":\"hpg_area\", \"hpg_area_name\":\"count\"})\n",
        "hpg_area"
      ],
      "execution_count": null,
      "outputs": []
    },
    {
      "cell_type": "code",
      "metadata": {
        "id": "DlSYCkSOo_lz"
      },
      "source": [
        "hpg_area_15 = hpg_area.loc[:15, :]\n",
        "hpg_area_15"
      ],
      "execution_count": null,
      "outputs": []
    },
    {
      "cell_type": "markdown",
      "metadata": {
        "id": "-oYyiZcstcaN"
      },
      "source": [
        "- `air`에는 후쿠오카의 식당들이 가장 많았었는데 `hpg`에는 도쿄 신주쿠의 식당이 가장 많이 있다."
      ]
    },
    {
      "cell_type": "code",
      "metadata": {
        "id": "oGtIw-yfsj5E"
      },
      "source": [
        "plt.figure(figsize=(15, 10))\n",
        "sns.barplot(y = hpg_area_15[\"hpg_area\"], x = hpg_area_15[\"count\"])"
      ],
      "execution_count": null,
      "outputs": []
    },
    {
      "cell_type": "markdown",
      "metadata": {
        "id": "HjaHC9eyt6GC"
      },
      "source": [
        "- `hpg`에는 도쿄 지역의 식당이 가장 많다."
      ]
    },
    {
      "cell_type": "markdown",
      "metadata": {
        "id": "SxMKtJnBpF_g"
      },
      "source": [
        "### HPG Store Info 지도"
      ]
    },
    {
      "cell_type": "code",
      "metadata": {
        "id": "6mFHsR4KpoDJ"
      },
      "source": [
        "import folium\n",
        "from folium import plugins\n",
        "\n",
        "folium.__version__"
      ],
      "execution_count": null,
      "outputs": []
    },
    {
      "cell_type": "code",
      "metadata": {
        "id": "W2DkzAZOpwqR"
      },
      "source": [
        "hpg_store_info.head()"
      ],
      "execution_count": null,
      "outputs": []
    },
    {
      "cell_type": "code",
      "metadata": {
        "id": "6X_GHjgBpypW"
      },
      "source": [
        "location = hpg_store_info.groupby(['hpg_store_id', 'hpg_genre_name'])['latitude', 'longitude'].mean().reset_index()\n",
        "lacationlist = location[['latitude', 'longitude']]\n",
        "locationlist = lacationlist.values.tolist()\n",
        "\n",
        "map = folium.Map(location=[39, 139], \n",
        "                        tiles = \"Stamen Toner\",\n",
        "                        zoom_start = 5)\n",
        "marker_cluster=plugins.MarkerCluster().add_to(map)\n",
        "for point in range(0, len(location)):\n",
        "    folium.Marker(locationlist[point], popup=location['hpg_genre_name'][point], \n",
        "    icon=folium.Icon(color='white', icon_color='red', \n",
        "                     icon='fa fa-circle-o-notch fa-spin',\n",
        "                     angle=0, \n",
        "                     prefix='fa')).add_to(marker_cluster)\n",
        "map"
      ],
      "execution_count": null,
      "outputs": []
    },
    {
      "cell_type": "code",
      "metadata": {
        "id": "5nlLDzCup8AI"
      },
      "source": [
        ""
      ],
      "execution_count": null,
      "outputs": []
    }
  ]
}