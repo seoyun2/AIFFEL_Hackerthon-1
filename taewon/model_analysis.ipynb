{
  "nbformat": 4,
  "nbformat_minor": 0,
  "metadata": {
    "colab": {
      "name": "Hackerton_1.ipynb",
      "provenance": [],
      "include_colab_link": true
    },
    "kernelspec": {
      "name": "python3",
      "display_name": "Python 3"
    },
    "language_info": {
      "name": "python"
    }
  },
  "cells": [
    {
      "cell_type": "markdown",
      "metadata": {
        "id": "view-in-github",
        "colab_type": "text"
      },
      "source": [
        "<a href=\"https://colab.research.google.com/github/t1seo/AIFFEL_Hackerthon-1/blob/main/taewon/model_analysis.ipynb\" target=\"_parent\"><img src=\"https://colab.research.google.com/assets/colab-badge.svg\" alt=\"Open In Colab\"/></a>"
      ]
    },
    {
      "cell_type": "code",
      "metadata": {
        "id": "i0OJoh34Y2cB",
        "outputId": "823ffd1d-b21d-4503-f9c2-28969ad39f09",
        "colab": {
          "base_uri": "https://localhost:8080/"
        }
      },
      "source": [
        "from google.colab import drive\n",
        "drive.mount('/content/drive')"
      ],
      "execution_count": 1,
      "outputs": [
        {
          "output_type": "stream",
          "text": [
            "Drive already mounted at /content/drive; to attempt to forcibly remount, call drive.mount(\"/content/drive\", force_remount=True).\n"
          ],
          "name": "stdout"
        }
      ]
    },
    {
      "cell_type": "code",
      "metadata": {
        "id": "OW9_l0fGY3tq",
        "outputId": "d869091c-2f81-4dcc-c5f7-7932faff6ddf",
        "colab": {
          "base_uri": "https://localhost:8080/"
        }
      },
      "source": [
        "cd /content/drive/MyDrive/data/Restaurant_Visitor_Forecasting"
      ],
      "execution_count": 2,
      "outputs": [
        {
          "output_type": "stream",
          "text": [
            "/content/drive/MyDrive/data/Restaurant_Visitor_Forecasting\n"
          ],
          "name": "stdout"
        }
      ]
    },
    {
      "cell_type": "code",
      "metadata": {
        "id": "a7E6z7gxPv1y"
      },
      "source": [
        "import numpy as np\n",
        "import pandas as pd\n",
        "from sklearn import ensemble, neighbors, linear_model, metrics, preprocessing\n",
        "from datetime import datetime"
      ],
      "execution_count": 3,
      "outputs": []
    },
    {
      "cell_type": "markdown",
      "metadata": {
        "id": "gMiCsag5z7np"
      },
      "source": [
        "## 데이터 불러오기"
      ]
    },
    {
      "cell_type": "code",
      "metadata": {
        "id": "Zx0WGV4LQbhd"
      },
      "source": [
        "data = {\n",
        "    'tra': pd.read_csv('air_visit_data.csv'),\n",
        "    'as': pd.read_csv('air_store_info.csv'),\n",
        "    'hs': pd.read_csv('hpg_store_info.csv'),\n",
        "    'ar': pd.read_csv('air_reserve.csv'),\n",
        "    'hr': pd.read_csv('hpg_reserve.csv'),\n",
        "    'id': pd.read_csv('store_id_relation.csv'),\n",
        "    'tes': pd.read_csv('sample_submission.csv'),\n",
        "    'hol': pd.read_csv('date_info.csv').rename(columns={'calendar_date':'visit_date'})\n",
        "}"
      ],
      "execution_count": 4,
      "outputs": []
    },
    {
      "cell_type": "markdown",
      "metadata": {
        "id": "tgQ3IwHz5yJ1"
      },
      "source": [
        "# 데이터 전처리"
      ]
    },
    {
      "cell_type": "markdown",
      "metadata": {
        "id": "b6RpGoyR3BA9"
      },
      "source": [
        "### hpg 데이터 중에서 store_id_relation에 있는 id만 사용한다\n",
        "\n",
        "`hpg` 데이터에는 타깃 데이터인 `visitors`가 없다. (`visitors`는 `air_visit_data`에 있다)\n",
        "\n",
        "키 값이 없는 `hpg` 데이터는 과감히 쳐내준다.\n",
        "\n",
        "#### ===코멘트 수정 필요===="
      ]
    },
    {
      "cell_type": "code",
      "metadata": {
        "id": "GcNYWPOY4vqO"
      },
      "source": [
        "# len(data['as'])"
      ],
      "execution_count": 5,
      "outputs": []
    },
    {
      "cell_type": "code",
      "metadata": {
        "id": "YSpqfYp64yUc"
      },
      "source": [
        "# air_visits에 있는 식당ID가 모두 air_store_info에 있는가? \n",
        "# data['tra']['air_store_id'].isin(data['as']['air_store_id']).all()"
      ],
      "execution_count": 6,
      "outputs": []
    },
    {
      "cell_type": "code",
      "metadata": {
        "id": "leQeJRpT0fLZ",
        "outputId": "3673e441-6790-464d-f3fd-2da929dbeb15",
        "colab": {
          "base_uri": "https://localhost:8080/",
          "height": 419
        }
      },
      "source": [
        "data['id'] # id는 총 150개"
      ],
      "execution_count": 7,
      "outputs": [
        {
          "output_type": "execute_result",
          "data": {
            "text/html": [
              "<div>\n",
              "<style scoped>\n",
              "    .dataframe tbody tr th:only-of-type {\n",
              "        vertical-align: middle;\n",
              "    }\n",
              "\n",
              "    .dataframe tbody tr th {\n",
              "        vertical-align: top;\n",
              "    }\n",
              "\n",
              "    .dataframe thead th {\n",
              "        text-align: right;\n",
              "    }\n",
              "</style>\n",
              "<table border=\"1\" class=\"dataframe\">\n",
              "  <thead>\n",
              "    <tr style=\"text-align: right;\">\n",
              "      <th></th>\n",
              "      <th>air_store_id</th>\n",
              "      <th>hpg_store_id</th>\n",
              "    </tr>\n",
              "  </thead>\n",
              "  <tbody>\n",
              "    <tr>\n",
              "      <th>0</th>\n",
              "      <td>air_63b13c56b7201bd9</td>\n",
              "      <td>hpg_4bc649e72e2a239a</td>\n",
              "    </tr>\n",
              "    <tr>\n",
              "      <th>1</th>\n",
              "      <td>air_a24bf50c3e90d583</td>\n",
              "      <td>hpg_c34b496d0305a809</td>\n",
              "    </tr>\n",
              "    <tr>\n",
              "      <th>2</th>\n",
              "      <td>air_c7f78b4f3cba33ff</td>\n",
              "      <td>hpg_cd8ae0d9bbd58ff9</td>\n",
              "    </tr>\n",
              "    <tr>\n",
              "      <th>3</th>\n",
              "      <td>air_947eb2cae4f3e8f2</td>\n",
              "      <td>hpg_de24ea49dc25d6b8</td>\n",
              "    </tr>\n",
              "    <tr>\n",
              "      <th>4</th>\n",
              "      <td>air_965b2e0cf4119003</td>\n",
              "      <td>hpg_653238a84804d8e7</td>\n",
              "    </tr>\n",
              "    <tr>\n",
              "      <th>...</th>\n",
              "      <td>...</td>\n",
              "      <td>...</td>\n",
              "    </tr>\n",
              "    <tr>\n",
              "      <th>145</th>\n",
              "      <td>air_b8925441167c3152</td>\n",
              "      <td>hpg_0cc0abae3a8b52de</td>\n",
              "    </tr>\n",
              "    <tr>\n",
              "      <th>146</th>\n",
              "      <td>air_f8233ad00755c35c</td>\n",
              "      <td>hpg_098e4dd30e54fee6</td>\n",
              "    </tr>\n",
              "    <tr>\n",
              "      <th>147</th>\n",
              "      <td>air_6607fe3671242ce3</td>\n",
              "      <td>hpg_1004356dc8ab69ec</td>\n",
              "    </tr>\n",
              "    <tr>\n",
              "      <th>148</th>\n",
              "      <td>air_ccd19a5bc5573ae5</td>\n",
              "      <td>hpg_df22bf146d2c7e19</td>\n",
              "    </tr>\n",
              "    <tr>\n",
              "      <th>149</th>\n",
              "      <td>air_465bddfed3353b23</td>\n",
              "      <td>hpg_23c5945dc1a72454</td>\n",
              "    </tr>\n",
              "  </tbody>\n",
              "</table>\n",
              "<p>150 rows × 2 columns</p>\n",
              "</div>"
            ],
            "text/plain": [
              "             air_store_id          hpg_store_id\n",
              "0    air_63b13c56b7201bd9  hpg_4bc649e72e2a239a\n",
              "1    air_a24bf50c3e90d583  hpg_c34b496d0305a809\n",
              "2    air_c7f78b4f3cba33ff  hpg_cd8ae0d9bbd58ff9\n",
              "3    air_947eb2cae4f3e8f2  hpg_de24ea49dc25d6b8\n",
              "4    air_965b2e0cf4119003  hpg_653238a84804d8e7\n",
              "..                    ...                   ...\n",
              "145  air_b8925441167c3152  hpg_0cc0abae3a8b52de\n",
              "146  air_f8233ad00755c35c  hpg_098e4dd30e54fee6\n",
              "147  air_6607fe3671242ce3  hpg_1004356dc8ab69ec\n",
              "148  air_ccd19a5bc5573ae5  hpg_df22bf146d2c7e19\n",
              "149  air_465bddfed3353b23  hpg_23c5945dc1a72454\n",
              "\n",
              "[150 rows x 2 columns]"
            ]
          },
          "metadata": {
            "tags": []
          },
          "execution_count": 7
        }
      ]
    },
    {
      "cell_type": "markdown",
      "metadata": {
        "id": "nrpDtMod3Xxz"
      },
      "source": [
        "- `id`는 총 150개이고 `hpg` 데이터 중에서 `id`에 있는 데이터들만 사용을 한다."
      ]
    },
    {
      "cell_type": "code",
      "metadata": {
        "id": "LOK6dMuf2tvp",
        "outputId": "aa5380fb-88b8-466c-e464-2f34238a619d",
        "colab": {
          "base_uri": "https://localhost:8080/"
        }
      },
      "source": [
        "len(data['hr'])"
      ],
      "execution_count": 8,
      "outputs": [
        {
          "output_type": "execute_result",
          "data": {
            "text/plain": [
              "2000320"
            ]
          },
          "metadata": {
            "tags": []
          },
          "execution_count": 8
        }
      ]
    },
    {
      "cell_type": "code",
      "metadata": {
        "colab": {
          "base_uri": "https://localhost:8080/",
          "height": 204
        },
        "id": "q7R9pu-7Q-Ni",
        "outputId": "6900acab-5101-4548-e530-40314ad88dec"
      },
      "source": [
        "# hpg_reserve.csv에 store_id_relation.csv를 hpg_store_id 기준으로 inner merge\n",
        "data['hr'] = pd.merge(data['hr'], data['id'], how='inner', on=['hpg_store_id'])\n",
        "\n",
        "data['hr'].head()"
      ],
      "execution_count": 9,
      "outputs": [
        {
          "output_type": "execute_result",
          "data": {
            "text/html": [
              "<div>\n",
              "<style scoped>\n",
              "    .dataframe tbody tr th:only-of-type {\n",
              "        vertical-align: middle;\n",
              "    }\n",
              "\n",
              "    .dataframe tbody tr th {\n",
              "        vertical-align: top;\n",
              "    }\n",
              "\n",
              "    .dataframe thead th {\n",
              "        text-align: right;\n",
              "    }\n",
              "</style>\n",
              "<table border=\"1\" class=\"dataframe\">\n",
              "  <thead>\n",
              "    <tr style=\"text-align: right;\">\n",
              "      <th></th>\n",
              "      <th>hpg_store_id</th>\n",
              "      <th>visit_datetime</th>\n",
              "      <th>reserve_datetime</th>\n",
              "      <th>reserve_visitors</th>\n",
              "      <th>air_store_id</th>\n",
              "    </tr>\n",
              "  </thead>\n",
              "  <tbody>\n",
              "    <tr>\n",
              "      <th>0</th>\n",
              "      <td>hpg_878cc70b1abc76f7</td>\n",
              "      <td>2016-01-01 19:00:00</td>\n",
              "      <td>2016-01-01 15:00:00</td>\n",
              "      <td>4</td>\n",
              "      <td>air_db80363d35f10926</td>\n",
              "    </tr>\n",
              "    <tr>\n",
              "      <th>1</th>\n",
              "      <td>hpg_878cc70b1abc76f7</td>\n",
              "      <td>2016-01-02 19:00:00</td>\n",
              "      <td>2016-01-02 14:00:00</td>\n",
              "      <td>2</td>\n",
              "      <td>air_db80363d35f10926</td>\n",
              "    </tr>\n",
              "    <tr>\n",
              "      <th>2</th>\n",
              "      <td>hpg_878cc70b1abc76f7</td>\n",
              "      <td>2016-01-03 18:00:00</td>\n",
              "      <td>2016-01-02 20:00:00</td>\n",
              "      <td>6</td>\n",
              "      <td>air_db80363d35f10926</td>\n",
              "    </tr>\n",
              "    <tr>\n",
              "      <th>3</th>\n",
              "      <td>hpg_878cc70b1abc76f7</td>\n",
              "      <td>2016-01-06 20:00:00</td>\n",
              "      <td>2016-01-04 22:00:00</td>\n",
              "      <td>3</td>\n",
              "      <td>air_db80363d35f10926</td>\n",
              "    </tr>\n",
              "    <tr>\n",
              "      <th>4</th>\n",
              "      <td>hpg_878cc70b1abc76f7</td>\n",
              "      <td>2016-01-11 18:00:00</td>\n",
              "      <td>2016-01-11 14:00:00</td>\n",
              "      <td>2</td>\n",
              "      <td>air_db80363d35f10926</td>\n",
              "    </tr>\n",
              "  </tbody>\n",
              "</table>\n",
              "</div>"
            ],
            "text/plain": [
              "           hpg_store_id  ...          air_store_id\n",
              "0  hpg_878cc70b1abc76f7  ...  air_db80363d35f10926\n",
              "1  hpg_878cc70b1abc76f7  ...  air_db80363d35f10926\n",
              "2  hpg_878cc70b1abc76f7  ...  air_db80363d35f10926\n",
              "3  hpg_878cc70b1abc76f7  ...  air_db80363d35f10926\n",
              "4  hpg_878cc70b1abc76f7  ...  air_db80363d35f10926\n",
              "\n",
              "[5 rows x 5 columns]"
            ]
          },
          "metadata": {
            "tags": []
          },
          "execution_count": 9
        }
      ]
    },
    {
      "cell_type": "code",
      "metadata": {
        "id": "tfvseNOI0ZSj",
        "outputId": "b4589d4f-3169-484e-d558-ff4830b93341",
        "colab": {
          "base_uri": "https://localhost:8080/"
        }
      },
      "source": [
        "len(data['hr'])"
      ],
      "execution_count": 10,
      "outputs": [
        {
          "output_type": "execute_result",
          "data": {
            "text/plain": [
              "28183"
            ]
          },
          "metadata": {
            "tags": []
          },
          "execution_count": 10
        }
      ]
    },
    {
      "cell_type": "markdown",
      "metadata": {
        "id": "CfqWd61_3jjd"
      },
      "source": [
        "- `id`만 있는 데이터들만 `merge`한 결과 데이터 개수가 크게 줄었다. \n",
        "    - 2000320 -> 28183"
      ]
    },
    {
      "cell_type": "markdown",
      "metadata": {
        "id": "ceVmu5ih5tb-"
      },
      "source": [
        "## 시계열 데이터 처리\n",
        "- 연월일시 -> 연월일\n",
        "- `reserve_datetime_diff` 컬럼 생성(예약한 시간 - 방문 예정 시간)\n",
        "\n",
        "---\n",
        "*reserve_datetime_diff* 상관관계"
      ]
    },
    {
      "cell_type": "code",
      "metadata": {
        "id": "ARHKD8fURZD9"
      },
      "source": [
        "for df in ['ar', 'hr']:\n",
        "    data[df]['visit_datetime'] = pd.to_datetime(data[df]['visit_datetime'])\n",
        "      # str을 datetime으로 변환\n",
        "    data[df]['visit_datetime'] = data[df]['visit_datetime'].dt.date\n",
        "      # datetime을 dt.date로 변환 \n",
        "    data[df]['reserve_datetime'] = pd.to_datetime(data[df]['reserve_datetime'])\n",
        "      # str을 datetime으로 변환\n",
        "    data[df]['reserve_datetime'] = data[df]['reserve_datetime'].dt.date\n",
        "      # datetime을 dt.date로 변환 \n",
        "    data[df]['reserve_datetime_diff'] = data[df].apply(lambda r: (r['visit_datetime'] - r['reserve_datetime']).days, axis=1)\n",
        "      # difference time을 의미하는 변수 생성 (예약한 시간 - 실제 방문 시간)\n",
        "    # data[df] = data[df].groupby(['air_store_id','visit_datetime'], as_index=False)[['reserve_datetime_diff', 'reserve_visitors']].sum()\n",
        "    # data[df] = data[df].rename(columns={'visit_datetime':'visit_date'})\n",
        "      # air_reserve와 hpg_ reserve로 group을 나눔\n",
        "# print(data[df].head())"
      ],
      "execution_count": 11,
      "outputs": []
    },
    {
      "cell_type": "code",
      "metadata": {
        "id": "qiPuuJTQ6oV3",
        "outputId": "10419613-f978-496a-db16-28104ae32218",
        "colab": {
          "base_uri": "https://localhost:8080/",
          "height": 204
        }
      },
      "source": [
        "data['ar'].head()"
      ],
      "execution_count": 12,
      "outputs": [
        {
          "output_type": "execute_result",
          "data": {
            "text/html": [
              "<div>\n",
              "<style scoped>\n",
              "    .dataframe tbody tr th:only-of-type {\n",
              "        vertical-align: middle;\n",
              "    }\n",
              "\n",
              "    .dataframe tbody tr th {\n",
              "        vertical-align: top;\n",
              "    }\n",
              "\n",
              "    .dataframe thead th {\n",
              "        text-align: right;\n",
              "    }\n",
              "</style>\n",
              "<table border=\"1\" class=\"dataframe\">\n",
              "  <thead>\n",
              "    <tr style=\"text-align: right;\">\n",
              "      <th></th>\n",
              "      <th>air_store_id</th>\n",
              "      <th>visit_datetime</th>\n",
              "      <th>reserve_datetime</th>\n",
              "      <th>reserve_visitors</th>\n",
              "      <th>reserve_datetime_diff</th>\n",
              "    </tr>\n",
              "  </thead>\n",
              "  <tbody>\n",
              "    <tr>\n",
              "      <th>0</th>\n",
              "      <td>air_877f79706adbfb06</td>\n",
              "      <td>2016-01-01</td>\n",
              "      <td>2016-01-01</td>\n",
              "      <td>1</td>\n",
              "      <td>0</td>\n",
              "    </tr>\n",
              "    <tr>\n",
              "      <th>1</th>\n",
              "      <td>air_db4b38ebe7a7ceff</td>\n",
              "      <td>2016-01-01</td>\n",
              "      <td>2016-01-01</td>\n",
              "      <td>3</td>\n",
              "      <td>0</td>\n",
              "    </tr>\n",
              "    <tr>\n",
              "      <th>2</th>\n",
              "      <td>air_db4b38ebe7a7ceff</td>\n",
              "      <td>2016-01-01</td>\n",
              "      <td>2016-01-01</td>\n",
              "      <td>6</td>\n",
              "      <td>0</td>\n",
              "    </tr>\n",
              "    <tr>\n",
              "      <th>3</th>\n",
              "      <td>air_877f79706adbfb06</td>\n",
              "      <td>2016-01-01</td>\n",
              "      <td>2016-01-01</td>\n",
              "      <td>2</td>\n",
              "      <td>0</td>\n",
              "    </tr>\n",
              "    <tr>\n",
              "      <th>4</th>\n",
              "      <td>air_db80363d35f10926</td>\n",
              "      <td>2016-01-01</td>\n",
              "      <td>2016-01-01</td>\n",
              "      <td>5</td>\n",
              "      <td>0</td>\n",
              "    </tr>\n",
              "  </tbody>\n",
              "</table>\n",
              "</div>"
            ],
            "text/plain": [
              "           air_store_id visit_datetime  ... reserve_visitors  reserve_datetime_diff\n",
              "0  air_877f79706adbfb06     2016-01-01  ...                1                      0\n",
              "1  air_db4b38ebe7a7ceff     2016-01-01  ...                3                      0\n",
              "2  air_db4b38ebe7a7ceff     2016-01-01  ...                6                      0\n",
              "3  air_877f79706adbfb06     2016-01-01  ...                2                      0\n",
              "4  air_db80363d35f10926     2016-01-01  ...                5                      0\n",
              "\n",
              "[5 rows x 5 columns]"
            ]
          },
          "metadata": {
            "tags": []
          },
          "execution_count": 12
        }
      ]
    },
    {
      "cell_type": "code",
      "metadata": {
        "id": "5n7afxvT6pdE",
        "outputId": "12eb8115-b3ec-48a9-f626-6545f7e27735",
        "colab": {
          "base_uri": "https://localhost:8080/",
          "height": 204
        }
      },
      "source": [
        "data['hr'].head()"
      ],
      "execution_count": 13,
      "outputs": [
        {
          "output_type": "execute_result",
          "data": {
            "text/html": [
              "<div>\n",
              "<style scoped>\n",
              "    .dataframe tbody tr th:only-of-type {\n",
              "        vertical-align: middle;\n",
              "    }\n",
              "\n",
              "    .dataframe tbody tr th {\n",
              "        vertical-align: top;\n",
              "    }\n",
              "\n",
              "    .dataframe thead th {\n",
              "        text-align: right;\n",
              "    }\n",
              "</style>\n",
              "<table border=\"1\" class=\"dataframe\">\n",
              "  <thead>\n",
              "    <tr style=\"text-align: right;\">\n",
              "      <th></th>\n",
              "      <th>hpg_store_id</th>\n",
              "      <th>visit_datetime</th>\n",
              "      <th>reserve_datetime</th>\n",
              "      <th>reserve_visitors</th>\n",
              "      <th>air_store_id</th>\n",
              "      <th>reserve_datetime_diff</th>\n",
              "    </tr>\n",
              "  </thead>\n",
              "  <tbody>\n",
              "    <tr>\n",
              "      <th>0</th>\n",
              "      <td>hpg_878cc70b1abc76f7</td>\n",
              "      <td>2016-01-01</td>\n",
              "      <td>2016-01-01</td>\n",
              "      <td>4</td>\n",
              "      <td>air_db80363d35f10926</td>\n",
              "      <td>0</td>\n",
              "    </tr>\n",
              "    <tr>\n",
              "      <th>1</th>\n",
              "      <td>hpg_878cc70b1abc76f7</td>\n",
              "      <td>2016-01-02</td>\n",
              "      <td>2016-01-02</td>\n",
              "      <td>2</td>\n",
              "      <td>air_db80363d35f10926</td>\n",
              "      <td>0</td>\n",
              "    </tr>\n",
              "    <tr>\n",
              "      <th>2</th>\n",
              "      <td>hpg_878cc70b1abc76f7</td>\n",
              "      <td>2016-01-03</td>\n",
              "      <td>2016-01-02</td>\n",
              "      <td>6</td>\n",
              "      <td>air_db80363d35f10926</td>\n",
              "      <td>1</td>\n",
              "    </tr>\n",
              "    <tr>\n",
              "      <th>3</th>\n",
              "      <td>hpg_878cc70b1abc76f7</td>\n",
              "      <td>2016-01-06</td>\n",
              "      <td>2016-01-04</td>\n",
              "      <td>3</td>\n",
              "      <td>air_db80363d35f10926</td>\n",
              "      <td>2</td>\n",
              "    </tr>\n",
              "    <tr>\n",
              "      <th>4</th>\n",
              "      <td>hpg_878cc70b1abc76f7</td>\n",
              "      <td>2016-01-11</td>\n",
              "      <td>2016-01-11</td>\n",
              "      <td>2</td>\n",
              "      <td>air_db80363d35f10926</td>\n",
              "      <td>0</td>\n",
              "    </tr>\n",
              "  </tbody>\n",
              "</table>\n",
              "</div>"
            ],
            "text/plain": [
              "           hpg_store_id  ... reserve_datetime_diff\n",
              "0  hpg_878cc70b1abc76f7  ...                     0\n",
              "1  hpg_878cc70b1abc76f7  ...                     0\n",
              "2  hpg_878cc70b1abc76f7  ...                     1\n",
              "3  hpg_878cc70b1abc76f7  ...                     2\n",
              "4  hpg_878cc70b1abc76f7  ...                     0\n",
              "\n",
              "[5 rows x 6 columns]"
            ]
          },
          "metadata": {
            "tags": []
          },
          "execution_count": 13
        }
      ]
    },
    {
      "cell_type": "markdown",
      "metadata": {
        "id": "eAtYySVT65v0"
      },
      "source": [
        "### `air_store_id`와 `visit_datetime`으로 `groupby`"
      ]
    },
    {
      "cell_type": "code",
      "metadata": {
        "id": "YRu7k9Ou6lHi"
      },
      "source": [
        "for df in ['ar', 'hr']:\n",
        "    data[df] = data[df].groupby(['air_store_id','visit_datetime'], as_index=False)[['reserve_datetime_diff', 'reserve_visitors']].sum()\n",
        "    data[df] = data[df].rename(columns={'visit_datetime':'visit_date'})"
      ],
      "execution_count": 14,
      "outputs": []
    },
    {
      "cell_type": "code",
      "metadata": {
        "id": "vbt1k03-tJLj",
        "outputId": "e91022e0-5d34-4890-e658-fc4a61852afa",
        "colab": {
          "base_uri": "https://localhost:8080/",
          "height": 204
        }
      },
      "source": [
        "data['ar'].head()"
      ],
      "execution_count": 15,
      "outputs": [
        {
          "output_type": "execute_result",
          "data": {
            "text/html": [
              "<div>\n",
              "<style scoped>\n",
              "    .dataframe tbody tr th:only-of-type {\n",
              "        vertical-align: middle;\n",
              "    }\n",
              "\n",
              "    .dataframe tbody tr th {\n",
              "        vertical-align: top;\n",
              "    }\n",
              "\n",
              "    .dataframe thead th {\n",
              "        text-align: right;\n",
              "    }\n",
              "</style>\n",
              "<table border=\"1\" class=\"dataframe\">\n",
              "  <thead>\n",
              "    <tr style=\"text-align: right;\">\n",
              "      <th></th>\n",
              "      <th>air_store_id</th>\n",
              "      <th>visit_date</th>\n",
              "      <th>reserve_datetime_diff</th>\n",
              "      <th>reserve_visitors</th>\n",
              "    </tr>\n",
              "  </thead>\n",
              "  <tbody>\n",
              "    <tr>\n",
              "      <th>0</th>\n",
              "      <td>air_00a91d42b08b08d9</td>\n",
              "      <td>2016-10-31</td>\n",
              "      <td>0</td>\n",
              "      <td>2</td>\n",
              "    </tr>\n",
              "    <tr>\n",
              "      <th>1</th>\n",
              "      <td>air_00a91d42b08b08d9</td>\n",
              "      <td>2016-12-05</td>\n",
              "      <td>4</td>\n",
              "      <td>9</td>\n",
              "    </tr>\n",
              "    <tr>\n",
              "      <th>2</th>\n",
              "      <td>air_00a91d42b08b08d9</td>\n",
              "      <td>2016-12-14</td>\n",
              "      <td>6</td>\n",
              "      <td>18</td>\n",
              "    </tr>\n",
              "    <tr>\n",
              "      <th>3</th>\n",
              "      <td>air_00a91d42b08b08d9</td>\n",
              "      <td>2016-12-17</td>\n",
              "      <td>6</td>\n",
              "      <td>2</td>\n",
              "    </tr>\n",
              "    <tr>\n",
              "      <th>4</th>\n",
              "      <td>air_00a91d42b08b08d9</td>\n",
              "      <td>2016-12-20</td>\n",
              "      <td>2</td>\n",
              "      <td>4</td>\n",
              "    </tr>\n",
              "  </tbody>\n",
              "</table>\n",
              "</div>"
            ],
            "text/plain": [
              "           air_store_id  visit_date  reserve_datetime_diff  reserve_visitors\n",
              "0  air_00a91d42b08b08d9  2016-10-31                      0                 2\n",
              "1  air_00a91d42b08b08d9  2016-12-05                      4                 9\n",
              "2  air_00a91d42b08b08d9  2016-12-14                      6                18\n",
              "3  air_00a91d42b08b08d9  2016-12-17                      6                 2\n",
              "4  air_00a91d42b08b08d9  2016-12-20                      2                 4"
            ]
          },
          "metadata": {
            "tags": []
          },
          "execution_count": 15
        }
      ]
    },
    {
      "cell_type": "code",
      "metadata": {
        "id": "5HvxXpzFtOkc",
        "outputId": "d90d9ee0-703c-4b6e-d942-212c63bdac69",
        "colab": {
          "base_uri": "https://localhost:8080/",
          "height": 204
        }
      },
      "source": [
        "data['hr'].head()"
      ],
      "execution_count": 16,
      "outputs": [
        {
          "output_type": "execute_result",
          "data": {
            "text/html": [
              "<div>\n",
              "<style scoped>\n",
              "    .dataframe tbody tr th:only-of-type {\n",
              "        vertical-align: middle;\n",
              "    }\n",
              "\n",
              "    .dataframe tbody tr th {\n",
              "        vertical-align: top;\n",
              "    }\n",
              "\n",
              "    .dataframe thead th {\n",
              "        text-align: right;\n",
              "    }\n",
              "</style>\n",
              "<table border=\"1\" class=\"dataframe\">\n",
              "  <thead>\n",
              "    <tr style=\"text-align: right;\">\n",
              "      <th></th>\n",
              "      <th>air_store_id</th>\n",
              "      <th>visit_date</th>\n",
              "      <th>reserve_datetime_diff</th>\n",
              "      <th>reserve_visitors</th>\n",
              "    </tr>\n",
              "  </thead>\n",
              "  <tbody>\n",
              "    <tr>\n",
              "      <th>0</th>\n",
              "      <td>air_00a91d42b08b08d9</td>\n",
              "      <td>2016-01-14</td>\n",
              "      <td>3</td>\n",
              "      <td>2</td>\n",
              "    </tr>\n",
              "    <tr>\n",
              "      <th>1</th>\n",
              "      <td>air_00a91d42b08b08d9</td>\n",
              "      <td>2016-01-15</td>\n",
              "      <td>6</td>\n",
              "      <td>4</td>\n",
              "    </tr>\n",
              "    <tr>\n",
              "      <th>2</th>\n",
              "      <td>air_00a91d42b08b08d9</td>\n",
              "      <td>2016-01-16</td>\n",
              "      <td>3</td>\n",
              "      <td>2</td>\n",
              "    </tr>\n",
              "    <tr>\n",
              "      <th>3</th>\n",
              "      <td>air_00a91d42b08b08d9</td>\n",
              "      <td>2016-01-22</td>\n",
              "      <td>3</td>\n",
              "      <td>2</td>\n",
              "    </tr>\n",
              "    <tr>\n",
              "      <th>4</th>\n",
              "      <td>air_00a91d42b08b08d9</td>\n",
              "      <td>2016-01-29</td>\n",
              "      <td>6</td>\n",
              "      <td>5</td>\n",
              "    </tr>\n",
              "  </tbody>\n",
              "</table>\n",
              "</div>"
            ],
            "text/plain": [
              "           air_store_id  visit_date  reserve_datetime_diff  reserve_visitors\n",
              "0  air_00a91d42b08b08d9  2016-01-14                      3                 2\n",
              "1  air_00a91d42b08b08d9  2016-01-15                      6                 4\n",
              "2  air_00a91d42b08b08d9  2016-01-16                      3                 2\n",
              "3  air_00a91d42b08b08d9  2016-01-22                      3                 2\n",
              "4  air_00a91d42b08b08d9  2016-01-29                      6                 5"
            ]
          },
          "metadata": {
            "tags": []
          },
          "execution_count": 16
        }
      ]
    },
    {
      "cell_type": "markdown",
      "metadata": {
        "id": "owJgeglgtXUt"
      },
      "source": [
        "- `visit_datetime`에서 날짜만 뽑아서 새로운 컬럼을 만들어준다.\n",
        "- `lambda` 함수를 이용해 방문 예정 시간 `visit_datetime`과 예약한 시간 `reserve_datetime`을 뺴줘 새로운 컬럼인 `reserve_datetime_diff`를 만들어준다.\n"
      ]
    },
    {
      "cell_type": "markdown",
      "metadata": {
        "id": "F3yb2GGF7QgG"
      },
      "source": [
        "## training data (`air_visit_data`) feature 추가"
      ]
    },
    {
      "cell_type": "code",
      "metadata": {
        "id": "GPhahHVzvx4Z",
        "outputId": "6253d326-dd5a-4711-c166-b1437d4d2f88",
        "colab": {
          "base_uri": "https://localhost:8080/",
          "height": 419
        }
      },
      "source": [
        "data['tra']"
      ],
      "execution_count": 17,
      "outputs": [
        {
          "output_type": "execute_result",
          "data": {
            "text/html": [
              "<div>\n",
              "<style scoped>\n",
              "    .dataframe tbody tr th:only-of-type {\n",
              "        vertical-align: middle;\n",
              "    }\n",
              "\n",
              "    .dataframe tbody tr th {\n",
              "        vertical-align: top;\n",
              "    }\n",
              "\n",
              "    .dataframe thead th {\n",
              "        text-align: right;\n",
              "    }\n",
              "</style>\n",
              "<table border=\"1\" class=\"dataframe\">\n",
              "  <thead>\n",
              "    <tr style=\"text-align: right;\">\n",
              "      <th></th>\n",
              "      <th>air_store_id</th>\n",
              "      <th>visit_date</th>\n",
              "      <th>visitors</th>\n",
              "    </tr>\n",
              "  </thead>\n",
              "  <tbody>\n",
              "    <tr>\n",
              "      <th>0</th>\n",
              "      <td>air_ba937bf13d40fb24</td>\n",
              "      <td>2016-01-13</td>\n",
              "      <td>25</td>\n",
              "    </tr>\n",
              "    <tr>\n",
              "      <th>1</th>\n",
              "      <td>air_ba937bf13d40fb24</td>\n",
              "      <td>2016-01-14</td>\n",
              "      <td>32</td>\n",
              "    </tr>\n",
              "    <tr>\n",
              "      <th>2</th>\n",
              "      <td>air_ba937bf13d40fb24</td>\n",
              "      <td>2016-01-15</td>\n",
              "      <td>29</td>\n",
              "    </tr>\n",
              "    <tr>\n",
              "      <th>3</th>\n",
              "      <td>air_ba937bf13d40fb24</td>\n",
              "      <td>2016-01-16</td>\n",
              "      <td>22</td>\n",
              "    </tr>\n",
              "    <tr>\n",
              "      <th>4</th>\n",
              "      <td>air_ba937bf13d40fb24</td>\n",
              "      <td>2016-01-18</td>\n",
              "      <td>6</td>\n",
              "    </tr>\n",
              "    <tr>\n",
              "      <th>...</th>\n",
              "      <td>...</td>\n",
              "      <td>...</td>\n",
              "      <td>...</td>\n",
              "    </tr>\n",
              "    <tr>\n",
              "      <th>252103</th>\n",
              "      <td>air_24e8414b9b07decb</td>\n",
              "      <td>2017-04-18</td>\n",
              "      <td>6</td>\n",
              "    </tr>\n",
              "    <tr>\n",
              "      <th>252104</th>\n",
              "      <td>air_24e8414b9b07decb</td>\n",
              "      <td>2017-04-19</td>\n",
              "      <td>6</td>\n",
              "    </tr>\n",
              "    <tr>\n",
              "      <th>252105</th>\n",
              "      <td>air_24e8414b9b07decb</td>\n",
              "      <td>2017-04-20</td>\n",
              "      <td>7</td>\n",
              "    </tr>\n",
              "    <tr>\n",
              "      <th>252106</th>\n",
              "      <td>air_24e8414b9b07decb</td>\n",
              "      <td>2017-04-21</td>\n",
              "      <td>8</td>\n",
              "    </tr>\n",
              "    <tr>\n",
              "      <th>252107</th>\n",
              "      <td>air_24e8414b9b07decb</td>\n",
              "      <td>2017-04-22</td>\n",
              "      <td>5</td>\n",
              "    </tr>\n",
              "  </tbody>\n",
              "</table>\n",
              "<p>252108 rows × 3 columns</p>\n",
              "</div>"
            ],
            "text/plain": [
              "                air_store_id  visit_date  visitors\n",
              "0       air_ba937bf13d40fb24  2016-01-13        25\n",
              "1       air_ba937bf13d40fb24  2016-01-14        32\n",
              "2       air_ba937bf13d40fb24  2016-01-15        29\n",
              "3       air_ba937bf13d40fb24  2016-01-16        22\n",
              "4       air_ba937bf13d40fb24  2016-01-18         6\n",
              "...                      ...         ...       ...\n",
              "252103  air_24e8414b9b07decb  2017-04-18         6\n",
              "252104  air_24e8414b9b07decb  2017-04-19         6\n",
              "252105  air_24e8414b9b07decb  2017-04-20         7\n",
              "252106  air_24e8414b9b07decb  2017-04-21         8\n",
              "252107  air_24e8414b9b07decb  2017-04-22         5\n",
              "\n",
              "[252108 rows x 3 columns]"
            ]
          },
          "metadata": {
            "tags": []
          },
          "execution_count": 17
        }
      ]
    },
    {
      "cell_type": "markdown",
      "metadata": {
        "id": "Mhrm5fkh7pVG"
      },
      "source": [
        "### 요일(dow), 연(year), 월(month)를 의미하는 컬럼 추가"
      ]
    },
    {
      "cell_type": "code",
      "metadata": {
        "colab": {
          "base_uri": "https://localhost:8080/",
          "height": 204
        },
        "id": "NfBhxo5ZSdEb",
        "outputId": "28f81acc-661d-495d-c44a-e8329dbf8715"
      },
      "source": [
        "# air_visit_data\n",
        "\n",
        "data['tra']['visit_date'] = pd.to_datetime(data['tra']['visit_date'])\n",
        "  # str을 datetime으로 변환\n",
        "data['tra']['dow'] = data['tra']['visit_date'].dt.dayofweek\n",
        "  # 요일을 의미하는 숫자 변수 생성\n",
        "data['tra']['year'] = data['tra']['visit_date'].dt.year\n",
        "  # 년도 year 변수 생성\n",
        "data['tra']['month'] = data['tra']['visit_date'].dt.month\n",
        "  # 달 month 변수 생성\n",
        "data['tra']['visit_date'] = data['tra']['visit_date'].dt.date\n",
        "  # datetime을 dt.date로 변환\n",
        "data['tra'].head()"
      ],
      "execution_count": 18,
      "outputs": [
        {
          "output_type": "execute_result",
          "data": {
            "text/html": [
              "<div>\n",
              "<style scoped>\n",
              "    .dataframe tbody tr th:only-of-type {\n",
              "        vertical-align: middle;\n",
              "    }\n",
              "\n",
              "    .dataframe tbody tr th {\n",
              "        vertical-align: top;\n",
              "    }\n",
              "\n",
              "    .dataframe thead th {\n",
              "        text-align: right;\n",
              "    }\n",
              "</style>\n",
              "<table border=\"1\" class=\"dataframe\">\n",
              "  <thead>\n",
              "    <tr style=\"text-align: right;\">\n",
              "      <th></th>\n",
              "      <th>air_store_id</th>\n",
              "      <th>visit_date</th>\n",
              "      <th>visitors</th>\n",
              "      <th>dow</th>\n",
              "      <th>year</th>\n",
              "      <th>month</th>\n",
              "    </tr>\n",
              "  </thead>\n",
              "  <tbody>\n",
              "    <tr>\n",
              "      <th>0</th>\n",
              "      <td>air_ba937bf13d40fb24</td>\n",
              "      <td>2016-01-13</td>\n",
              "      <td>25</td>\n",
              "      <td>2</td>\n",
              "      <td>2016</td>\n",
              "      <td>1</td>\n",
              "    </tr>\n",
              "    <tr>\n",
              "      <th>1</th>\n",
              "      <td>air_ba937bf13d40fb24</td>\n",
              "      <td>2016-01-14</td>\n",
              "      <td>32</td>\n",
              "      <td>3</td>\n",
              "      <td>2016</td>\n",
              "      <td>1</td>\n",
              "    </tr>\n",
              "    <tr>\n",
              "      <th>2</th>\n",
              "      <td>air_ba937bf13d40fb24</td>\n",
              "      <td>2016-01-15</td>\n",
              "      <td>29</td>\n",
              "      <td>4</td>\n",
              "      <td>2016</td>\n",
              "      <td>1</td>\n",
              "    </tr>\n",
              "    <tr>\n",
              "      <th>3</th>\n",
              "      <td>air_ba937bf13d40fb24</td>\n",
              "      <td>2016-01-16</td>\n",
              "      <td>22</td>\n",
              "      <td>5</td>\n",
              "      <td>2016</td>\n",
              "      <td>1</td>\n",
              "    </tr>\n",
              "    <tr>\n",
              "      <th>4</th>\n",
              "      <td>air_ba937bf13d40fb24</td>\n",
              "      <td>2016-01-18</td>\n",
              "      <td>6</td>\n",
              "      <td>0</td>\n",
              "      <td>2016</td>\n",
              "      <td>1</td>\n",
              "    </tr>\n",
              "  </tbody>\n",
              "</table>\n",
              "</div>"
            ],
            "text/plain": [
              "           air_store_id  visit_date  visitors  dow  year  month\n",
              "0  air_ba937bf13d40fb24  2016-01-13        25    2  2016      1\n",
              "1  air_ba937bf13d40fb24  2016-01-14        32    3  2016      1\n",
              "2  air_ba937bf13d40fb24  2016-01-15        29    4  2016      1\n",
              "3  air_ba937bf13d40fb24  2016-01-16        22    5  2016      1\n",
              "4  air_ba937bf13d40fb24  2016-01-18         6    0  2016      1"
            ]
          },
          "metadata": {
            "tags": []
          },
          "execution_count": 18
        }
      ]
    },
    {
      "cell_type": "markdown",
      "metadata": {
        "id": "GjaYVt4i9BLp"
      },
      "source": [
        "## 테스트 데이터 셋에 컬럼 추가"
      ]
    },
    {
      "cell_type": "code",
      "metadata": {
        "id": "WvfW1w72vtOy",
        "outputId": "1e9a1010-9d80-494b-f2b8-5460bcf52431",
        "colab": {
          "base_uri": "https://localhost:8080/",
          "height": 419
        }
      },
      "source": [
        "data['tes']"
      ],
      "execution_count": 19,
      "outputs": [
        {
          "output_type": "execute_result",
          "data": {
            "text/html": [
              "<div>\n",
              "<style scoped>\n",
              "    .dataframe tbody tr th:only-of-type {\n",
              "        vertical-align: middle;\n",
              "    }\n",
              "\n",
              "    .dataframe tbody tr th {\n",
              "        vertical-align: top;\n",
              "    }\n",
              "\n",
              "    .dataframe thead th {\n",
              "        text-align: right;\n",
              "    }\n",
              "</style>\n",
              "<table border=\"1\" class=\"dataframe\">\n",
              "  <thead>\n",
              "    <tr style=\"text-align: right;\">\n",
              "      <th></th>\n",
              "      <th>id</th>\n",
              "      <th>visitors</th>\n",
              "    </tr>\n",
              "  </thead>\n",
              "  <tbody>\n",
              "    <tr>\n",
              "      <th>0</th>\n",
              "      <td>air_00a91d42b08b08d9_2017-04-23</td>\n",
              "      <td>0</td>\n",
              "    </tr>\n",
              "    <tr>\n",
              "      <th>1</th>\n",
              "      <td>air_00a91d42b08b08d9_2017-04-24</td>\n",
              "      <td>0</td>\n",
              "    </tr>\n",
              "    <tr>\n",
              "      <th>2</th>\n",
              "      <td>air_00a91d42b08b08d9_2017-04-25</td>\n",
              "      <td>0</td>\n",
              "    </tr>\n",
              "    <tr>\n",
              "      <th>3</th>\n",
              "      <td>air_00a91d42b08b08d9_2017-04-26</td>\n",
              "      <td>0</td>\n",
              "    </tr>\n",
              "    <tr>\n",
              "      <th>4</th>\n",
              "      <td>air_00a91d42b08b08d9_2017-04-27</td>\n",
              "      <td>0</td>\n",
              "    </tr>\n",
              "    <tr>\n",
              "      <th>...</th>\n",
              "      <td>...</td>\n",
              "      <td>...</td>\n",
              "    </tr>\n",
              "    <tr>\n",
              "      <th>32014</th>\n",
              "      <td>air_fff68b929994bfbd_2017-05-27</td>\n",
              "      <td>0</td>\n",
              "    </tr>\n",
              "    <tr>\n",
              "      <th>32015</th>\n",
              "      <td>air_fff68b929994bfbd_2017-05-28</td>\n",
              "      <td>0</td>\n",
              "    </tr>\n",
              "    <tr>\n",
              "      <th>32016</th>\n",
              "      <td>air_fff68b929994bfbd_2017-05-29</td>\n",
              "      <td>0</td>\n",
              "    </tr>\n",
              "    <tr>\n",
              "      <th>32017</th>\n",
              "      <td>air_fff68b929994bfbd_2017-05-30</td>\n",
              "      <td>0</td>\n",
              "    </tr>\n",
              "    <tr>\n",
              "      <th>32018</th>\n",
              "      <td>air_fff68b929994bfbd_2017-05-31</td>\n",
              "      <td>0</td>\n",
              "    </tr>\n",
              "  </tbody>\n",
              "</table>\n",
              "<p>32019 rows × 2 columns</p>\n",
              "</div>"
            ],
            "text/plain": [
              "                                    id  visitors\n",
              "0      air_00a91d42b08b08d9_2017-04-23         0\n",
              "1      air_00a91d42b08b08d9_2017-04-24         0\n",
              "2      air_00a91d42b08b08d9_2017-04-25         0\n",
              "3      air_00a91d42b08b08d9_2017-04-26         0\n",
              "4      air_00a91d42b08b08d9_2017-04-27         0\n",
              "...                                ...       ...\n",
              "32014  air_fff68b929994bfbd_2017-05-27         0\n",
              "32015  air_fff68b929994bfbd_2017-05-28         0\n",
              "32016  air_fff68b929994bfbd_2017-05-29         0\n",
              "32017  air_fff68b929994bfbd_2017-05-30         0\n",
              "32018  air_fff68b929994bfbd_2017-05-31         0\n",
              "\n",
              "[32019 rows x 2 columns]"
            ]
          },
          "metadata": {
            "tags": []
          },
          "execution_count": 19
        }
      ]
    },
    {
      "cell_type": "markdown",
      "metadata": {
        "id": "FJ_6U8Uu9T-y"
      },
      "source": [
        "### 테스트 셋 컬럼 추가\n",
        "- 예측해야 하는 날\n",
        "- `air_store_id`\n",
        "- 요일, 연도, 달(month)"
      ]
    },
    {
      "cell_type": "code",
      "metadata": {
        "colab": {
          "base_uri": "https://localhost:8080/",
          "height": 204
        },
        "id": "LZ-8PI2uS9f2",
        "outputId": "0357fc3b-637c-4b1e-d1ec-5fb8bdd22611"
      },
      "source": [
        "# sample_submission\n",
        "\n",
        "data['tes']['visit_date'] = data['tes']['id'].map(lambda x: str(x).split('_')[2])\n",
        "  # id 변수에서 날짜를 뽑아와 visit_date 변수 생성\n",
        "data['tes']['air_store_id'] = data['tes']['id'].map(lambda x: '_'.join(x.split('_')[:2]))\n",
        "  # id 변수에서 store id를 뽑아와 air_store_id 변수 생성\n",
        "data['tes']['visit_date'] = pd.to_datetime(data['tes']['visit_date'])\n",
        "  # str을 datetime으로 변환\n",
        "data['tes']['dow'] = data['tes']['visit_date'].dt.dayofweek\n",
        "  # 요일을 의미하는 숫자 변수 생성\n",
        "data['tes']['year'] = data['tes']['visit_date'].dt.year\n",
        "  # 년도 year 변수 생성\n",
        "data['tes']['month'] = data['tes']['visit_date'].dt.month\n",
        "  # 달 month 변수 생성\n",
        "data['tes']['visit_date'] = data['tes']['visit_date'].dt.date\n",
        "  # datetime을 dt.date로 변환\n",
        "\n",
        "data['tes'].head()"
      ],
      "execution_count": 20,
      "outputs": [
        {
          "output_type": "execute_result",
          "data": {
            "text/html": [
              "<div>\n",
              "<style scoped>\n",
              "    .dataframe tbody tr th:only-of-type {\n",
              "        vertical-align: middle;\n",
              "    }\n",
              "\n",
              "    .dataframe tbody tr th {\n",
              "        vertical-align: top;\n",
              "    }\n",
              "\n",
              "    .dataframe thead th {\n",
              "        text-align: right;\n",
              "    }\n",
              "</style>\n",
              "<table border=\"1\" class=\"dataframe\">\n",
              "  <thead>\n",
              "    <tr style=\"text-align: right;\">\n",
              "      <th></th>\n",
              "      <th>id</th>\n",
              "      <th>visitors</th>\n",
              "      <th>visit_date</th>\n",
              "      <th>air_store_id</th>\n",
              "      <th>dow</th>\n",
              "      <th>year</th>\n",
              "      <th>month</th>\n",
              "    </tr>\n",
              "  </thead>\n",
              "  <tbody>\n",
              "    <tr>\n",
              "      <th>0</th>\n",
              "      <td>air_00a91d42b08b08d9_2017-04-23</td>\n",
              "      <td>0</td>\n",
              "      <td>2017-04-23</td>\n",
              "      <td>air_00a91d42b08b08d9</td>\n",
              "      <td>6</td>\n",
              "      <td>2017</td>\n",
              "      <td>4</td>\n",
              "    </tr>\n",
              "    <tr>\n",
              "      <th>1</th>\n",
              "      <td>air_00a91d42b08b08d9_2017-04-24</td>\n",
              "      <td>0</td>\n",
              "      <td>2017-04-24</td>\n",
              "      <td>air_00a91d42b08b08d9</td>\n",
              "      <td>0</td>\n",
              "      <td>2017</td>\n",
              "      <td>4</td>\n",
              "    </tr>\n",
              "    <tr>\n",
              "      <th>2</th>\n",
              "      <td>air_00a91d42b08b08d9_2017-04-25</td>\n",
              "      <td>0</td>\n",
              "      <td>2017-04-25</td>\n",
              "      <td>air_00a91d42b08b08d9</td>\n",
              "      <td>1</td>\n",
              "      <td>2017</td>\n",
              "      <td>4</td>\n",
              "    </tr>\n",
              "    <tr>\n",
              "      <th>3</th>\n",
              "      <td>air_00a91d42b08b08d9_2017-04-26</td>\n",
              "      <td>0</td>\n",
              "      <td>2017-04-26</td>\n",
              "      <td>air_00a91d42b08b08d9</td>\n",
              "      <td>2</td>\n",
              "      <td>2017</td>\n",
              "      <td>4</td>\n",
              "    </tr>\n",
              "    <tr>\n",
              "      <th>4</th>\n",
              "      <td>air_00a91d42b08b08d9_2017-04-27</td>\n",
              "      <td>0</td>\n",
              "      <td>2017-04-27</td>\n",
              "      <td>air_00a91d42b08b08d9</td>\n",
              "      <td>3</td>\n",
              "      <td>2017</td>\n",
              "      <td>4</td>\n",
              "    </tr>\n",
              "  </tbody>\n",
              "</table>\n",
              "</div>"
            ],
            "text/plain": [
              "                                id  visitors  visit_date  ... dow  year  month\n",
              "0  air_00a91d42b08b08d9_2017-04-23         0  2017-04-23  ...   6  2017      4\n",
              "1  air_00a91d42b08b08d9_2017-04-24         0  2017-04-24  ...   0  2017      4\n",
              "2  air_00a91d42b08b08d9_2017-04-25         0  2017-04-25  ...   1  2017      4\n",
              "3  air_00a91d42b08b08d9_2017-04-26         0  2017-04-26  ...   2  2017      4\n",
              "4  air_00a91d42b08b08d9_2017-04-27         0  2017-04-27  ...   3  2017      4\n",
              "\n",
              "[5 rows x 7 columns]"
            ]
          },
          "metadata": {
            "tags": []
          },
          "execution_count": 20
        }
      ]
    },
    {
      "cell_type": "markdown",
      "metadata": {
        "id": "_OC0U9i9FwSx"
      },
      "source": [
        "### 테스트 셋 821개의 식당 -> x7  = 5747\n",
        "- 요일 7개\n",
        "- 821 x 7 = 5747개"
      ]
    },
    {
      "cell_type": "code",
      "metadata": {
        "id": "H5bWmHDsyS4S",
        "outputId": "6fcd302b-a12d-443b-a7d8-87b46d35b551",
        "colab": {
          "base_uri": "https://localhost:8080/"
        }
      },
      "source": [
        "# test 데이터에서 식당 목록만 뽑아낸다\n",
        "unique_stores = data['tes']['air_store_id'].unique()\n",
        "print(len(unique_stores))"
      ],
      "execution_count": 21,
      "outputs": [
        {
          "output_type": "stream",
          "text": [
            "821\n"
          ],
          "name": "stdout"
        }
      ]
    },
    {
      "cell_type": "markdown",
      "metadata": {
        "id": "FrFuIMYl-moY"
      },
      "source": [
        "- `test` 셋에는 총 821개의 식당이 있다."
      ]
    },
    {
      "cell_type": "code",
      "metadata": {
        "colab": {
          "base_uri": "https://localhost:8080/"
        },
        "id": "JRpXsoZIT4a_",
        "outputId": "40045b28-812f-47f4-b34c-185aab06f9c6"
      },
      "source": [
        "# unique_stores = data['tes']['air_store_id'].unique() # air_store id만을 뽑아낸다.\n",
        "\n",
        "# 일주일에 해당하는 만큼 unique_stores x 7\n",
        "stores = pd.concat([pd.DataFrame({'air_store_id': unique_stores, \n",
        "                                  'dow': [i] * len(unique_stores)}) for i in range(7)], \n",
        "                   axis=0, \n",
        "                   ignore_index=True).reset_index(drop=True)\n",
        "\n",
        "print(len(stores))"
      ],
      "execution_count": 22,
      "outputs": [
        {
          "output_type": "stream",
          "text": [
            "5747\n"
          ],
          "name": "stdout"
        }
      ]
    },
    {
      "cell_type": "code",
      "metadata": {
        "id": "I8hfSkHqylTE",
        "outputId": "369daa5a-b5a3-4a48-f53f-a12158730f15",
        "colab": {
          "base_uri": "https://localhost:8080/",
          "height": 266
        }
      },
      "source": [
        "stores.tail(7)"
      ],
      "execution_count": 23,
      "outputs": [
        {
          "output_type": "execute_result",
          "data": {
            "text/html": [
              "<div>\n",
              "<style scoped>\n",
              "    .dataframe tbody tr th:only-of-type {\n",
              "        vertical-align: middle;\n",
              "    }\n",
              "\n",
              "    .dataframe tbody tr th {\n",
              "        vertical-align: top;\n",
              "    }\n",
              "\n",
              "    .dataframe thead th {\n",
              "        text-align: right;\n",
              "    }\n",
              "</style>\n",
              "<table border=\"1\" class=\"dataframe\">\n",
              "  <thead>\n",
              "    <tr style=\"text-align: right;\">\n",
              "      <th></th>\n",
              "      <th>air_store_id</th>\n",
              "      <th>dow</th>\n",
              "    </tr>\n",
              "  </thead>\n",
              "  <tbody>\n",
              "    <tr>\n",
              "      <th>5740</th>\n",
              "      <td>air_fe22ef5a9cbef123</td>\n",
              "      <td>6</td>\n",
              "    </tr>\n",
              "    <tr>\n",
              "      <th>5741</th>\n",
              "      <td>air_fe58c074ec1445ea</td>\n",
              "      <td>6</td>\n",
              "    </tr>\n",
              "    <tr>\n",
              "      <th>5742</th>\n",
              "      <td>air_fea5dc9594450608</td>\n",
              "      <td>6</td>\n",
              "    </tr>\n",
              "    <tr>\n",
              "      <th>5743</th>\n",
              "      <td>air_fee8dcf4d619598e</td>\n",
              "      <td>6</td>\n",
              "    </tr>\n",
              "    <tr>\n",
              "      <th>5744</th>\n",
              "      <td>air_fef9ccb3ba0da2f7</td>\n",
              "      <td>6</td>\n",
              "    </tr>\n",
              "    <tr>\n",
              "      <th>5745</th>\n",
              "      <td>air_ffcc2d5087e1b476</td>\n",
              "      <td>6</td>\n",
              "    </tr>\n",
              "    <tr>\n",
              "      <th>5746</th>\n",
              "      <td>air_fff68b929994bfbd</td>\n",
              "      <td>6</td>\n",
              "    </tr>\n",
              "  </tbody>\n",
              "</table>\n",
              "</div>"
            ],
            "text/plain": [
              "              air_store_id  dow\n",
              "5740  air_fe22ef5a9cbef123    6\n",
              "5741  air_fe58c074ec1445ea    6\n",
              "5742  air_fea5dc9594450608    6\n",
              "5743  air_fee8dcf4d619598e    6\n",
              "5744  air_fef9ccb3ba0da2f7    6\n",
              "5745  air_ffcc2d5087e1b476    6\n",
              "5746  air_fff68b929994bfbd    6"
            ]
          },
          "metadata": {
            "tags": []
          },
          "execution_count": 23
        }
      ]
    },
    {
      "cell_type": "markdown",
      "metadata": {
        "id": "zAdkIvVY-vIE"
      },
      "source": [
        "## 가게의 '요일별' `visitors`의 산술 통계량 계산\n",
        "- min\n",
        "- mean\n",
        "- median\n",
        "- max\n",
        "- count ??"
      ]
    },
    {
      "cell_type": "code",
      "metadata": {
        "colab": {
          "base_uri": "https://localhost:8080/",
          "height": 204
        },
        "id": "olbj1WGKUh0g",
        "outputId": "85ebcc96-0afa-403f-e4a5-bea950a3c3c4"
      },
      "source": [
        "# 산술 통계량을 뽑아내서 feature로 train data에 추가해준다 -> 자료\n",
        "\n",
        "tmp = data['tra'].groupby(['air_store_id','dow'], as_index=False)['visitors'].min().rename(columns={'visitors':'min_visitors'})\n",
        "stores = pd.merge(stores, tmp, how='left', on=['air_store_id','dow']) \n",
        "tmp = data['tra'].groupby(['air_store_id','dow'], as_index=False)['visitors'].mean().rename(columns={'visitors':'mean_visitors'})\n",
        "stores = pd.merge(stores, tmp, how='left', on=['air_store_id','dow'])\n",
        "tmp = data['tra'].groupby(['air_store_id','dow'], as_index=False)['visitors'].median().rename(columns={'visitors':'median_visitors'})\n",
        "stores = pd.merge(stores, tmp, how='left', on=['air_store_id','dow'])\n",
        "tmp = data['tra'].groupby(['air_store_id','dow'], as_index=False)['visitors'].max().rename(columns={'visitors':'max_visitors'})\n",
        "stores = pd.merge(stores, tmp, how='left', on=['air_store_id','dow'])\n",
        "tmp = data['tra'].groupby(['air_store_id','dow'], as_index=False)['visitors'].count().rename(columns={'visitors':'count_observations'})\n",
        "stores = pd.merge(stores, tmp, how='left', on=['air_store_id','dow']) \n",
        "\n",
        "stores.head()"
      ],
      "execution_count": 24,
      "outputs": [
        {
          "output_type": "execute_result",
          "data": {
            "text/html": [
              "<div>\n",
              "<style scoped>\n",
              "    .dataframe tbody tr th:only-of-type {\n",
              "        vertical-align: middle;\n",
              "    }\n",
              "\n",
              "    .dataframe tbody tr th {\n",
              "        vertical-align: top;\n",
              "    }\n",
              "\n",
              "    .dataframe thead th {\n",
              "        text-align: right;\n",
              "    }\n",
              "</style>\n",
              "<table border=\"1\" class=\"dataframe\">\n",
              "  <thead>\n",
              "    <tr style=\"text-align: right;\">\n",
              "      <th></th>\n",
              "      <th>air_store_id</th>\n",
              "      <th>dow</th>\n",
              "      <th>min_visitors</th>\n",
              "      <th>mean_visitors</th>\n",
              "      <th>median_visitors</th>\n",
              "      <th>max_visitors</th>\n",
              "      <th>count_observations</th>\n",
              "    </tr>\n",
              "  </thead>\n",
              "  <tbody>\n",
              "    <tr>\n",
              "      <th>0</th>\n",
              "      <td>air_00a91d42b08b08d9</td>\n",
              "      <td>0</td>\n",
              "      <td>1.0</td>\n",
              "      <td>22.457143</td>\n",
              "      <td>19.0</td>\n",
              "      <td>47.0</td>\n",
              "      <td>35.0</td>\n",
              "    </tr>\n",
              "    <tr>\n",
              "      <th>1</th>\n",
              "      <td>air_0164b9927d20bcc3</td>\n",
              "      <td>0</td>\n",
              "      <td>2.0</td>\n",
              "      <td>7.500000</td>\n",
              "      <td>6.0</td>\n",
              "      <td>19.0</td>\n",
              "      <td>20.0</td>\n",
              "    </tr>\n",
              "    <tr>\n",
              "      <th>2</th>\n",
              "      <td>air_0241aa3964b7f861</td>\n",
              "      <td>0</td>\n",
              "      <td>2.0</td>\n",
              "      <td>8.920635</td>\n",
              "      <td>8.0</td>\n",
              "      <td>23.0</td>\n",
              "      <td>63.0</td>\n",
              "    </tr>\n",
              "    <tr>\n",
              "      <th>3</th>\n",
              "      <td>air_0328696196e46f18</td>\n",
              "      <td>0</td>\n",
              "      <td>2.0</td>\n",
              "      <td>6.416667</td>\n",
              "      <td>4.0</td>\n",
              "      <td>27.0</td>\n",
              "      <td>12.0</td>\n",
              "    </tr>\n",
              "    <tr>\n",
              "      <th>4</th>\n",
              "      <td>air_034a3d5b40d5b1b1</td>\n",
              "      <td>0</td>\n",
              "      <td>1.0</td>\n",
              "      <td>11.864865</td>\n",
              "      <td>10.0</td>\n",
              "      <td>66.0</td>\n",
              "      <td>37.0</td>\n",
              "    </tr>\n",
              "  </tbody>\n",
              "</table>\n",
              "</div>"
            ],
            "text/plain": [
              "           air_store_id  dow  ...  max_visitors  count_observations\n",
              "0  air_00a91d42b08b08d9    0  ...          47.0                35.0\n",
              "1  air_0164b9927d20bcc3    0  ...          19.0                20.0\n",
              "2  air_0241aa3964b7f861    0  ...          23.0                63.0\n",
              "3  air_0328696196e46f18    0  ...          27.0                12.0\n",
              "4  air_034a3d5b40d5b1b1    0  ...          66.0                37.0\n",
              "\n",
              "[5 rows x 7 columns]"
            ]
          },
          "metadata": {
            "tags": []
          },
          "execution_count": 24
        }
      ]
    },
    {
      "cell_type": "code",
      "metadata": {
        "id": "0haniUU9ARTf",
        "outputId": "0a785ba6-5f54-4b41-c3b0-48000812e6ca",
        "colab": {
          "base_uri": "https://localhost:8080/"
        }
      },
      "source": [
        "print(len(stores))"
      ],
      "execution_count": 25,
      "outputs": [
        {
          "output_type": "stream",
          "text": [
            "5747\n"
          ],
          "name": "stdout"
        }
      ]
    },
    {
      "cell_type": "markdown",
      "metadata": {
        "id": "U_X5DnXQ_rEl"
      },
      "source": [
        "## 요일별 통계량에 `air_store_info` merge"
      ]
    },
    {
      "cell_type": "code",
      "metadata": {
        "colab": {
          "base_uri": "https://localhost:8080/",
          "height": 272
        },
        "id": "eObtL54SVGgM",
        "outputId": "391fd116-d556-4b53-f346-92cd1eed1b6d"
      },
      "source": [
        "# air store를 stores에 merge\n",
        "stores = pd.merge(stores, data['as'], how='left', on=['air_store_id']) \n",
        "stores.head()"
      ],
      "execution_count": 26,
      "outputs": [
        {
          "output_type": "execute_result",
          "data": {
            "text/html": [
              "<div>\n",
              "<style scoped>\n",
              "    .dataframe tbody tr th:only-of-type {\n",
              "        vertical-align: middle;\n",
              "    }\n",
              "\n",
              "    .dataframe tbody tr th {\n",
              "        vertical-align: top;\n",
              "    }\n",
              "\n",
              "    .dataframe thead th {\n",
              "        text-align: right;\n",
              "    }\n",
              "</style>\n",
              "<table border=\"1\" class=\"dataframe\">\n",
              "  <thead>\n",
              "    <tr style=\"text-align: right;\">\n",
              "      <th></th>\n",
              "      <th>air_store_id</th>\n",
              "      <th>dow</th>\n",
              "      <th>min_visitors</th>\n",
              "      <th>mean_visitors</th>\n",
              "      <th>median_visitors</th>\n",
              "      <th>max_visitors</th>\n",
              "      <th>count_observations</th>\n",
              "      <th>air_genre_name</th>\n",
              "      <th>air_area_name</th>\n",
              "      <th>latitude</th>\n",
              "      <th>longitude</th>\n",
              "    </tr>\n",
              "  </thead>\n",
              "  <tbody>\n",
              "    <tr>\n",
              "      <th>0</th>\n",
              "      <td>air_00a91d42b08b08d9</td>\n",
              "      <td>0</td>\n",
              "      <td>1.0</td>\n",
              "      <td>22.457143</td>\n",
              "      <td>19.0</td>\n",
              "      <td>47.0</td>\n",
              "      <td>35.0</td>\n",
              "      <td>Italian/French</td>\n",
              "      <td>Tōkyō-to Chiyoda-ku Kudanminami</td>\n",
              "      <td>35.694003</td>\n",
              "      <td>139.753595</td>\n",
              "    </tr>\n",
              "    <tr>\n",
              "      <th>1</th>\n",
              "      <td>air_0164b9927d20bcc3</td>\n",
              "      <td>0</td>\n",
              "      <td>2.0</td>\n",
              "      <td>7.500000</td>\n",
              "      <td>6.0</td>\n",
              "      <td>19.0</td>\n",
              "      <td>20.0</td>\n",
              "      <td>Italian/French</td>\n",
              "      <td>Tōkyō-to Minato-ku Shibakōen</td>\n",
              "      <td>35.658068</td>\n",
              "      <td>139.751599</td>\n",
              "    </tr>\n",
              "    <tr>\n",
              "      <th>2</th>\n",
              "      <td>air_0241aa3964b7f861</td>\n",
              "      <td>0</td>\n",
              "      <td>2.0</td>\n",
              "      <td>8.920635</td>\n",
              "      <td>8.0</td>\n",
              "      <td>23.0</td>\n",
              "      <td>63.0</td>\n",
              "      <td>Izakaya</td>\n",
              "      <td>Tōkyō-to Taitō-ku Higashiueno</td>\n",
              "      <td>35.712607</td>\n",
              "      <td>139.779996</td>\n",
              "    </tr>\n",
              "    <tr>\n",
              "      <th>3</th>\n",
              "      <td>air_0328696196e46f18</td>\n",
              "      <td>0</td>\n",
              "      <td>2.0</td>\n",
              "      <td>6.416667</td>\n",
              "      <td>4.0</td>\n",
              "      <td>27.0</td>\n",
              "      <td>12.0</td>\n",
              "      <td>Dining bar</td>\n",
              "      <td>Ōsaka-fu Ōsaka-shi Nakanochō</td>\n",
              "      <td>34.701279</td>\n",
              "      <td>135.528090</td>\n",
              "    </tr>\n",
              "    <tr>\n",
              "      <th>4</th>\n",
              "      <td>air_034a3d5b40d5b1b1</td>\n",
              "      <td>0</td>\n",
              "      <td>1.0</td>\n",
              "      <td>11.864865</td>\n",
              "      <td>10.0</td>\n",
              "      <td>66.0</td>\n",
              "      <td>37.0</td>\n",
              "      <td>Cafe/Sweets</td>\n",
              "      <td>Ōsaka-fu Ōsaka-shi Ōhiraki</td>\n",
              "      <td>34.692337</td>\n",
              "      <td>135.472229</td>\n",
              "    </tr>\n",
              "  </tbody>\n",
              "</table>\n",
              "</div>"
            ],
            "text/plain": [
              "           air_store_id  dow  ...   latitude   longitude\n",
              "0  air_00a91d42b08b08d9    0  ...  35.694003  139.753595\n",
              "1  air_0164b9927d20bcc3    0  ...  35.658068  139.751599\n",
              "2  air_0241aa3964b7f861    0  ...  35.712607  139.779996\n",
              "3  air_0328696196e46f18    0  ...  34.701279  135.528090\n",
              "4  air_034a3d5b40d5b1b1    0  ...  34.692337  135.472229\n",
              "\n",
              "[5 rows x 11 columns]"
            ]
          },
          "metadata": {
            "tags": []
          },
          "execution_count": 26
        }
      ]
    },
    {
      "cell_type": "code",
      "metadata": {
        "id": "rM4_mV5WzE5p",
        "outputId": "241dfc23-0adc-4768-9ceb-0e08d1e4e46f",
        "colab": {
          "base_uri": "https://localhost:8080/"
        }
      },
      "source": [
        "print(len(stores))"
      ],
      "execution_count": 27,
      "outputs": [
        {
          "output_type": "stream",
          "text": [
            "5747\n"
          ],
          "name": "stdout"
        }
      ]
    },
    {
      "cell_type": "markdown",
      "metadata": {
        "id": "YRLc2x2gAnAo"
      },
      "source": [
        "## 업종과 식당 위치를 라벨 인코딩"
      ]
    },
    {
      "cell_type": "code",
      "metadata": {
        "colab": {
          "base_uri": "https://localhost:8080/",
          "height": 204
        },
        "id": "Oq_mBd2BUxwk",
        "outputId": "29817b78-880b-4fa3-aba5-06ee7b06887f"
      },
      "source": [
        "lbl = preprocessing.LabelEncoder()\n",
        "  # labelEncoding 진행 \n",
        "stores['air_genre_name'] = lbl.fit_transform(stores['air_genre_name'])\n",
        "stores['air_area_name'] = lbl.fit_transform(stores['air_area_name'])\n",
        "\n",
        "stores.head()"
      ],
      "execution_count": 28,
      "outputs": [
        {
          "output_type": "execute_result",
          "data": {
            "text/html": [
              "<div>\n",
              "<style scoped>\n",
              "    .dataframe tbody tr th:only-of-type {\n",
              "        vertical-align: middle;\n",
              "    }\n",
              "\n",
              "    .dataframe tbody tr th {\n",
              "        vertical-align: top;\n",
              "    }\n",
              "\n",
              "    .dataframe thead th {\n",
              "        text-align: right;\n",
              "    }\n",
              "</style>\n",
              "<table border=\"1\" class=\"dataframe\">\n",
              "  <thead>\n",
              "    <tr style=\"text-align: right;\">\n",
              "      <th></th>\n",
              "      <th>air_store_id</th>\n",
              "      <th>dow</th>\n",
              "      <th>min_visitors</th>\n",
              "      <th>mean_visitors</th>\n",
              "      <th>median_visitors</th>\n",
              "      <th>max_visitors</th>\n",
              "      <th>count_observations</th>\n",
              "      <th>air_genre_name</th>\n",
              "      <th>air_area_name</th>\n",
              "      <th>latitude</th>\n",
              "      <th>longitude</th>\n",
              "    </tr>\n",
              "  </thead>\n",
              "  <tbody>\n",
              "    <tr>\n",
              "      <th>0</th>\n",
              "      <td>air_00a91d42b08b08d9</td>\n",
              "      <td>0</td>\n",
              "      <td>1.0</td>\n",
              "      <td>22.457143</td>\n",
              "      <td>19.0</td>\n",
              "      <td>47.0</td>\n",
              "      <td>35.0</td>\n",
              "      <td>6</td>\n",
              "      <td>44</td>\n",
              "      <td>35.694003</td>\n",
              "      <td>139.753595</td>\n",
              "    </tr>\n",
              "    <tr>\n",
              "      <th>1</th>\n",
              "      <td>air_0164b9927d20bcc3</td>\n",
              "      <td>0</td>\n",
              "      <td>2.0</td>\n",
              "      <td>7.500000</td>\n",
              "      <td>6.0</td>\n",
              "      <td>19.0</td>\n",
              "      <td>20.0</td>\n",
              "      <td>6</td>\n",
              "      <td>62</td>\n",
              "      <td>35.658068</td>\n",
              "      <td>139.751599</td>\n",
              "    </tr>\n",
              "    <tr>\n",
              "      <th>2</th>\n",
              "      <td>air_0241aa3964b7f861</td>\n",
              "      <td>0</td>\n",
              "      <td>2.0</td>\n",
              "      <td>8.920635</td>\n",
              "      <td>8.0</td>\n",
              "      <td>23.0</td>\n",
              "      <td>63.0</td>\n",
              "      <td>7</td>\n",
              "      <td>82</td>\n",
              "      <td>35.712607</td>\n",
              "      <td>139.779996</td>\n",
              "    </tr>\n",
              "    <tr>\n",
              "      <th>3</th>\n",
              "      <td>air_0328696196e46f18</td>\n",
              "      <td>0</td>\n",
              "      <td>2.0</td>\n",
              "      <td>6.416667</td>\n",
              "      <td>4.0</td>\n",
              "      <td>27.0</td>\n",
              "      <td>12.0</td>\n",
              "      <td>4</td>\n",
              "      <td>98</td>\n",
              "      <td>34.701279</td>\n",
              "      <td>135.528090</td>\n",
              "    </tr>\n",
              "    <tr>\n",
              "      <th>4</th>\n",
              "      <td>air_034a3d5b40d5b1b1</td>\n",
              "      <td>0</td>\n",
              "      <td>1.0</td>\n",
              "      <td>11.864865</td>\n",
              "      <td>10.0</td>\n",
              "      <td>66.0</td>\n",
              "      <td>37.0</td>\n",
              "      <td>2</td>\n",
              "      <td>102</td>\n",
              "      <td>34.692337</td>\n",
              "      <td>135.472229</td>\n",
              "    </tr>\n",
              "  </tbody>\n",
              "</table>\n",
              "</div>"
            ],
            "text/plain": [
              "           air_store_id  dow  ...   latitude   longitude\n",
              "0  air_00a91d42b08b08d9    0  ...  35.694003  139.753595\n",
              "1  air_0164b9927d20bcc3    0  ...  35.658068  139.751599\n",
              "2  air_0241aa3964b7f861    0  ...  35.712607  139.779996\n",
              "3  air_0328696196e46f18    0  ...  34.701279  135.528090\n",
              "4  air_034a3d5b40d5b1b1    0  ...  34.692337  135.472229\n",
              "\n",
              "[5 rows x 11 columns]"
            ]
          },
          "metadata": {
            "tags": []
          },
          "execution_count": 28
        }
      ]
    },
    {
      "cell_type": "markdown",
      "metadata": {
        "id": "3yKUYMTMAzjm"
      },
      "source": [
        "## 연휴 데이터 전처리"
      ]
    },
    {
      "cell_type": "code",
      "metadata": {
        "id": "c_1AKs8ozdmK",
        "outputId": "d29731d8-25e0-4003-be08-abf96e6232c4",
        "colab": {
          "base_uri": "https://localhost:8080/",
          "height": 419
        }
      },
      "source": [
        "data['hol']"
      ],
      "execution_count": 29,
      "outputs": [
        {
          "output_type": "execute_result",
          "data": {
            "text/html": [
              "<div>\n",
              "<style scoped>\n",
              "    .dataframe tbody tr th:only-of-type {\n",
              "        vertical-align: middle;\n",
              "    }\n",
              "\n",
              "    .dataframe tbody tr th {\n",
              "        vertical-align: top;\n",
              "    }\n",
              "\n",
              "    .dataframe thead th {\n",
              "        text-align: right;\n",
              "    }\n",
              "</style>\n",
              "<table border=\"1\" class=\"dataframe\">\n",
              "  <thead>\n",
              "    <tr style=\"text-align: right;\">\n",
              "      <th></th>\n",
              "      <th>visit_date</th>\n",
              "      <th>day_of_week</th>\n",
              "      <th>holiday_flg</th>\n",
              "    </tr>\n",
              "  </thead>\n",
              "  <tbody>\n",
              "    <tr>\n",
              "      <th>0</th>\n",
              "      <td>2016-01-01</td>\n",
              "      <td>Friday</td>\n",
              "      <td>1</td>\n",
              "    </tr>\n",
              "    <tr>\n",
              "      <th>1</th>\n",
              "      <td>2016-01-02</td>\n",
              "      <td>Saturday</td>\n",
              "      <td>1</td>\n",
              "    </tr>\n",
              "    <tr>\n",
              "      <th>2</th>\n",
              "      <td>2016-01-03</td>\n",
              "      <td>Sunday</td>\n",
              "      <td>1</td>\n",
              "    </tr>\n",
              "    <tr>\n",
              "      <th>3</th>\n",
              "      <td>2016-01-04</td>\n",
              "      <td>Monday</td>\n",
              "      <td>0</td>\n",
              "    </tr>\n",
              "    <tr>\n",
              "      <th>4</th>\n",
              "      <td>2016-01-05</td>\n",
              "      <td>Tuesday</td>\n",
              "      <td>0</td>\n",
              "    </tr>\n",
              "    <tr>\n",
              "      <th>...</th>\n",
              "      <td>...</td>\n",
              "      <td>...</td>\n",
              "      <td>...</td>\n",
              "    </tr>\n",
              "    <tr>\n",
              "      <th>512</th>\n",
              "      <td>2017-05-27</td>\n",
              "      <td>Saturday</td>\n",
              "      <td>0</td>\n",
              "    </tr>\n",
              "    <tr>\n",
              "      <th>513</th>\n",
              "      <td>2017-05-28</td>\n",
              "      <td>Sunday</td>\n",
              "      <td>0</td>\n",
              "    </tr>\n",
              "    <tr>\n",
              "      <th>514</th>\n",
              "      <td>2017-05-29</td>\n",
              "      <td>Monday</td>\n",
              "      <td>0</td>\n",
              "    </tr>\n",
              "    <tr>\n",
              "      <th>515</th>\n",
              "      <td>2017-05-30</td>\n",
              "      <td>Tuesday</td>\n",
              "      <td>0</td>\n",
              "    </tr>\n",
              "    <tr>\n",
              "      <th>516</th>\n",
              "      <td>2017-05-31</td>\n",
              "      <td>Wednesday</td>\n",
              "      <td>0</td>\n",
              "    </tr>\n",
              "  </tbody>\n",
              "</table>\n",
              "<p>517 rows × 3 columns</p>\n",
              "</div>"
            ],
            "text/plain": [
              "     visit_date day_of_week  holiday_flg\n",
              "0    2016-01-01      Friday            1\n",
              "1    2016-01-02    Saturday            1\n",
              "2    2016-01-03      Sunday            1\n",
              "3    2016-01-04      Monday            0\n",
              "4    2016-01-05     Tuesday            0\n",
              "..          ...         ...          ...\n",
              "512  2017-05-27    Saturday            0\n",
              "513  2017-05-28      Sunday            0\n",
              "514  2017-05-29      Monday            0\n",
              "515  2017-05-30     Tuesday            0\n",
              "516  2017-05-31   Wednesday            0\n",
              "\n",
              "[517 rows x 3 columns]"
            ]
          },
          "metadata": {
            "tags": []
          },
          "execution_count": 29
        }
      ]
    },
    {
      "cell_type": "markdown",
      "metadata": {
        "id": "EevoPP5ZA5bC"
      },
      "source": [
        "### 요일을 라벨 인코딩"
      ]
    },
    {
      "cell_type": "code",
      "metadata": {
        "colab": {
          "base_uri": "https://localhost:8080/",
          "height": 419
        },
        "id": "jgbX-QbQVODY",
        "outputId": "7360719a-0ca4-42c8-c391-35bb5e6445ec"
      },
      "source": [
        "data['hol']['visit_date'] = pd.to_datetime(data['hol']['visit_date'])\n",
        "data['hol']['day_of_week'] = lbl.fit_transform(data['hol']['day_of_week'])\n",
        "data['hol']['visit_date'] = data['hol']['visit_date'].dt.date\n",
        "data['hol']"
      ],
      "execution_count": 30,
      "outputs": [
        {
          "output_type": "execute_result",
          "data": {
            "text/html": [
              "<div>\n",
              "<style scoped>\n",
              "    .dataframe tbody tr th:only-of-type {\n",
              "        vertical-align: middle;\n",
              "    }\n",
              "\n",
              "    .dataframe tbody tr th {\n",
              "        vertical-align: top;\n",
              "    }\n",
              "\n",
              "    .dataframe thead th {\n",
              "        text-align: right;\n",
              "    }\n",
              "</style>\n",
              "<table border=\"1\" class=\"dataframe\">\n",
              "  <thead>\n",
              "    <tr style=\"text-align: right;\">\n",
              "      <th></th>\n",
              "      <th>visit_date</th>\n",
              "      <th>day_of_week</th>\n",
              "      <th>holiday_flg</th>\n",
              "    </tr>\n",
              "  </thead>\n",
              "  <tbody>\n",
              "    <tr>\n",
              "      <th>0</th>\n",
              "      <td>2016-01-01</td>\n",
              "      <td>0</td>\n",
              "      <td>1</td>\n",
              "    </tr>\n",
              "    <tr>\n",
              "      <th>1</th>\n",
              "      <td>2016-01-02</td>\n",
              "      <td>2</td>\n",
              "      <td>1</td>\n",
              "    </tr>\n",
              "    <tr>\n",
              "      <th>2</th>\n",
              "      <td>2016-01-03</td>\n",
              "      <td>3</td>\n",
              "      <td>1</td>\n",
              "    </tr>\n",
              "    <tr>\n",
              "      <th>3</th>\n",
              "      <td>2016-01-04</td>\n",
              "      <td>1</td>\n",
              "      <td>0</td>\n",
              "    </tr>\n",
              "    <tr>\n",
              "      <th>4</th>\n",
              "      <td>2016-01-05</td>\n",
              "      <td>5</td>\n",
              "      <td>0</td>\n",
              "    </tr>\n",
              "    <tr>\n",
              "      <th>...</th>\n",
              "      <td>...</td>\n",
              "      <td>...</td>\n",
              "      <td>...</td>\n",
              "    </tr>\n",
              "    <tr>\n",
              "      <th>512</th>\n",
              "      <td>2017-05-27</td>\n",
              "      <td>2</td>\n",
              "      <td>0</td>\n",
              "    </tr>\n",
              "    <tr>\n",
              "      <th>513</th>\n",
              "      <td>2017-05-28</td>\n",
              "      <td>3</td>\n",
              "      <td>0</td>\n",
              "    </tr>\n",
              "    <tr>\n",
              "      <th>514</th>\n",
              "      <td>2017-05-29</td>\n",
              "      <td>1</td>\n",
              "      <td>0</td>\n",
              "    </tr>\n",
              "    <tr>\n",
              "      <th>515</th>\n",
              "      <td>2017-05-30</td>\n",
              "      <td>5</td>\n",
              "      <td>0</td>\n",
              "    </tr>\n",
              "    <tr>\n",
              "      <th>516</th>\n",
              "      <td>2017-05-31</td>\n",
              "      <td>6</td>\n",
              "      <td>0</td>\n",
              "    </tr>\n",
              "  </tbody>\n",
              "</table>\n",
              "<p>517 rows × 3 columns</p>\n",
              "</div>"
            ],
            "text/plain": [
              "     visit_date  day_of_week  holiday_flg\n",
              "0    2016-01-01            0            1\n",
              "1    2016-01-02            2            1\n",
              "2    2016-01-03            3            1\n",
              "3    2016-01-04            1            0\n",
              "4    2016-01-05            5            0\n",
              "..          ...          ...          ...\n",
              "512  2017-05-27            2            0\n",
              "513  2017-05-28            3            0\n",
              "514  2017-05-29            1            0\n",
              "515  2017-05-30            5            0\n",
              "516  2017-05-31            6            0\n",
              "\n",
              "[517 rows x 3 columns]"
            ]
          },
          "metadata": {
            "tags": []
          },
          "execution_count": 30
        }
      ]
    },
    {
      "cell_type": "markdown",
      "metadata": {
        "id": "XJ4s1nJJBAbG"
      },
      "source": [
        "## train 데이터에 holiday 데이터 merge"
      ]
    },
    {
      "cell_type": "code",
      "metadata": {
        "id": "ncrhEARczlD2",
        "outputId": "50efeb4e-005c-4ad2-99c4-753bfa1ef1a9",
        "colab": {
          "base_uri": "https://localhost:8080/",
          "height": 204
        }
      },
      "source": [
        "  # holiday의 날짜 변수 가공한뒤 merge\n",
        "train = pd.merge(data['tra'], data['hol'], how='left', on=['visit_date']) \n",
        "\n",
        "train.head()"
      ],
      "execution_count": 31,
      "outputs": [
        {
          "output_type": "execute_result",
          "data": {
            "text/html": [
              "<div>\n",
              "<style scoped>\n",
              "    .dataframe tbody tr th:only-of-type {\n",
              "        vertical-align: middle;\n",
              "    }\n",
              "\n",
              "    .dataframe tbody tr th {\n",
              "        vertical-align: top;\n",
              "    }\n",
              "\n",
              "    .dataframe thead th {\n",
              "        text-align: right;\n",
              "    }\n",
              "</style>\n",
              "<table border=\"1\" class=\"dataframe\">\n",
              "  <thead>\n",
              "    <tr style=\"text-align: right;\">\n",
              "      <th></th>\n",
              "      <th>air_store_id</th>\n",
              "      <th>visit_date</th>\n",
              "      <th>visitors</th>\n",
              "      <th>dow</th>\n",
              "      <th>year</th>\n",
              "      <th>month</th>\n",
              "      <th>day_of_week</th>\n",
              "      <th>holiday_flg</th>\n",
              "    </tr>\n",
              "  </thead>\n",
              "  <tbody>\n",
              "    <tr>\n",
              "      <th>0</th>\n",
              "      <td>air_ba937bf13d40fb24</td>\n",
              "      <td>2016-01-13</td>\n",
              "      <td>25</td>\n",
              "      <td>2</td>\n",
              "      <td>2016</td>\n",
              "      <td>1</td>\n",
              "      <td>6</td>\n",
              "      <td>0</td>\n",
              "    </tr>\n",
              "    <tr>\n",
              "      <th>1</th>\n",
              "      <td>air_ba937bf13d40fb24</td>\n",
              "      <td>2016-01-14</td>\n",
              "      <td>32</td>\n",
              "      <td>3</td>\n",
              "      <td>2016</td>\n",
              "      <td>1</td>\n",
              "      <td>4</td>\n",
              "      <td>0</td>\n",
              "    </tr>\n",
              "    <tr>\n",
              "      <th>2</th>\n",
              "      <td>air_ba937bf13d40fb24</td>\n",
              "      <td>2016-01-15</td>\n",
              "      <td>29</td>\n",
              "      <td>4</td>\n",
              "      <td>2016</td>\n",
              "      <td>1</td>\n",
              "      <td>0</td>\n",
              "      <td>0</td>\n",
              "    </tr>\n",
              "    <tr>\n",
              "      <th>3</th>\n",
              "      <td>air_ba937bf13d40fb24</td>\n",
              "      <td>2016-01-16</td>\n",
              "      <td>22</td>\n",
              "      <td>5</td>\n",
              "      <td>2016</td>\n",
              "      <td>1</td>\n",
              "      <td>2</td>\n",
              "      <td>0</td>\n",
              "    </tr>\n",
              "    <tr>\n",
              "      <th>4</th>\n",
              "      <td>air_ba937bf13d40fb24</td>\n",
              "      <td>2016-01-18</td>\n",
              "      <td>6</td>\n",
              "      <td>0</td>\n",
              "      <td>2016</td>\n",
              "      <td>1</td>\n",
              "      <td>1</td>\n",
              "      <td>0</td>\n",
              "    </tr>\n",
              "  </tbody>\n",
              "</table>\n",
              "</div>"
            ],
            "text/plain": [
              "           air_store_id  visit_date  visitors  ...  month  day_of_week  holiday_flg\n",
              "0  air_ba937bf13d40fb24  2016-01-13        25  ...      1            6            0\n",
              "1  air_ba937bf13d40fb24  2016-01-14        32  ...      1            4            0\n",
              "2  air_ba937bf13d40fb24  2016-01-15        29  ...      1            0            0\n",
              "3  air_ba937bf13d40fb24  2016-01-16        22  ...      1            2            0\n",
              "4  air_ba937bf13d40fb24  2016-01-18         6  ...      1            1            0\n",
              "\n",
              "[5 rows x 8 columns]"
            ]
          },
          "metadata": {
            "tags": []
          },
          "execution_count": 31
        }
      ]
    },
    {
      "cell_type": "markdown",
      "metadata": {
        "id": "UGHnKZgpBFm1"
      },
      "source": [
        "## test 데이터에 holiday 데이터 merge"
      ]
    },
    {
      "cell_type": "code",
      "metadata": {
        "colab": {
          "base_uri": "https://localhost:8080/",
          "height": 204
        },
        "id": "9M11Fdr8VaFC",
        "outputId": "9a62e84b-2f5e-4f11-8fd1-5744ae273b39"
      },
      "source": [
        "test = pd.merge(data['tes'], data['hol'], how='left', on=['visit_date'])\n",
        "test.head()"
      ],
      "execution_count": 32,
      "outputs": [
        {
          "output_type": "execute_result",
          "data": {
            "text/html": [
              "<div>\n",
              "<style scoped>\n",
              "    .dataframe tbody tr th:only-of-type {\n",
              "        vertical-align: middle;\n",
              "    }\n",
              "\n",
              "    .dataframe tbody tr th {\n",
              "        vertical-align: top;\n",
              "    }\n",
              "\n",
              "    .dataframe thead th {\n",
              "        text-align: right;\n",
              "    }\n",
              "</style>\n",
              "<table border=\"1\" class=\"dataframe\">\n",
              "  <thead>\n",
              "    <tr style=\"text-align: right;\">\n",
              "      <th></th>\n",
              "      <th>id</th>\n",
              "      <th>visitors</th>\n",
              "      <th>visit_date</th>\n",
              "      <th>air_store_id</th>\n",
              "      <th>dow</th>\n",
              "      <th>year</th>\n",
              "      <th>month</th>\n",
              "      <th>day_of_week</th>\n",
              "      <th>holiday_flg</th>\n",
              "    </tr>\n",
              "  </thead>\n",
              "  <tbody>\n",
              "    <tr>\n",
              "      <th>0</th>\n",
              "      <td>air_00a91d42b08b08d9_2017-04-23</td>\n",
              "      <td>0</td>\n",
              "      <td>2017-04-23</td>\n",
              "      <td>air_00a91d42b08b08d9</td>\n",
              "      <td>6</td>\n",
              "      <td>2017</td>\n",
              "      <td>4</td>\n",
              "      <td>3</td>\n",
              "      <td>0</td>\n",
              "    </tr>\n",
              "    <tr>\n",
              "      <th>1</th>\n",
              "      <td>air_00a91d42b08b08d9_2017-04-24</td>\n",
              "      <td>0</td>\n",
              "      <td>2017-04-24</td>\n",
              "      <td>air_00a91d42b08b08d9</td>\n",
              "      <td>0</td>\n",
              "      <td>2017</td>\n",
              "      <td>4</td>\n",
              "      <td>1</td>\n",
              "      <td>0</td>\n",
              "    </tr>\n",
              "    <tr>\n",
              "      <th>2</th>\n",
              "      <td>air_00a91d42b08b08d9_2017-04-25</td>\n",
              "      <td>0</td>\n",
              "      <td>2017-04-25</td>\n",
              "      <td>air_00a91d42b08b08d9</td>\n",
              "      <td>1</td>\n",
              "      <td>2017</td>\n",
              "      <td>4</td>\n",
              "      <td>5</td>\n",
              "      <td>0</td>\n",
              "    </tr>\n",
              "    <tr>\n",
              "      <th>3</th>\n",
              "      <td>air_00a91d42b08b08d9_2017-04-26</td>\n",
              "      <td>0</td>\n",
              "      <td>2017-04-26</td>\n",
              "      <td>air_00a91d42b08b08d9</td>\n",
              "      <td>2</td>\n",
              "      <td>2017</td>\n",
              "      <td>4</td>\n",
              "      <td>6</td>\n",
              "      <td>0</td>\n",
              "    </tr>\n",
              "    <tr>\n",
              "      <th>4</th>\n",
              "      <td>air_00a91d42b08b08d9_2017-04-27</td>\n",
              "      <td>0</td>\n",
              "      <td>2017-04-27</td>\n",
              "      <td>air_00a91d42b08b08d9</td>\n",
              "      <td>3</td>\n",
              "      <td>2017</td>\n",
              "      <td>4</td>\n",
              "      <td>4</td>\n",
              "      <td>0</td>\n",
              "    </tr>\n",
              "  </tbody>\n",
              "</table>\n",
              "</div>"
            ],
            "text/plain": [
              "                                id  visitors  ... day_of_week holiday_flg\n",
              "0  air_00a91d42b08b08d9_2017-04-23         0  ...           3           0\n",
              "1  air_00a91d42b08b08d9_2017-04-24         0  ...           1           0\n",
              "2  air_00a91d42b08b08d9_2017-04-25         0  ...           5           0\n",
              "3  air_00a91d42b08b08d9_2017-04-26         0  ...           6           0\n",
              "4  air_00a91d42b08b08d9_2017-04-27         0  ...           4           0\n",
              "\n",
              "[5 rows x 9 columns]"
            ]
          },
          "metadata": {
            "tags": []
          },
          "execution_count": 32
        }
      ]
    },
    {
      "cell_type": "markdown",
      "metadata": {
        "id": "0e016nHdBI-Y"
      },
      "source": [
        "## train 데이터에 stores 데이터(요일별 데이터) merge"
      ]
    },
    {
      "cell_type": "code",
      "metadata": {
        "colab": {
          "base_uri": "https://localhost:8080/",
          "height": 204
        },
        "id": "IYWsZNJTVqNY",
        "outputId": "1dc2bf16-c867-4450-ebab-835029dd17fa"
      },
      "source": [
        "train = pd.merge(data['tra'], stores, how='left', on=['air_store_id','dow']) \n",
        "train.head()"
      ],
      "execution_count": 33,
      "outputs": [
        {
          "output_type": "execute_result",
          "data": {
            "text/html": [
              "<div>\n",
              "<style scoped>\n",
              "    .dataframe tbody tr th:only-of-type {\n",
              "        vertical-align: middle;\n",
              "    }\n",
              "\n",
              "    .dataframe tbody tr th {\n",
              "        vertical-align: top;\n",
              "    }\n",
              "\n",
              "    .dataframe thead th {\n",
              "        text-align: right;\n",
              "    }\n",
              "</style>\n",
              "<table border=\"1\" class=\"dataframe\">\n",
              "  <thead>\n",
              "    <tr style=\"text-align: right;\">\n",
              "      <th></th>\n",
              "      <th>air_store_id</th>\n",
              "      <th>visit_date</th>\n",
              "      <th>visitors</th>\n",
              "      <th>dow</th>\n",
              "      <th>year</th>\n",
              "      <th>month</th>\n",
              "      <th>min_visitors</th>\n",
              "      <th>mean_visitors</th>\n",
              "      <th>median_visitors</th>\n",
              "      <th>max_visitors</th>\n",
              "      <th>count_observations</th>\n",
              "      <th>air_genre_name</th>\n",
              "      <th>air_area_name</th>\n",
              "      <th>latitude</th>\n",
              "      <th>longitude</th>\n",
              "    </tr>\n",
              "  </thead>\n",
              "  <tbody>\n",
              "    <tr>\n",
              "      <th>0</th>\n",
              "      <td>air_ba937bf13d40fb24</td>\n",
              "      <td>2016-01-13</td>\n",
              "      <td>25</td>\n",
              "      <td>2</td>\n",
              "      <td>2016</td>\n",
              "      <td>1</td>\n",
              "      <td>7.0</td>\n",
              "      <td>23.843750</td>\n",
              "      <td>25.0</td>\n",
              "      <td>57.0</td>\n",
              "      <td>64.0</td>\n",
              "      <td>4.0</td>\n",
              "      <td>62.0</td>\n",
              "      <td>35.658068</td>\n",
              "      <td>139.751599</td>\n",
              "    </tr>\n",
              "    <tr>\n",
              "      <th>1</th>\n",
              "      <td>air_ba937bf13d40fb24</td>\n",
              "      <td>2016-01-14</td>\n",
              "      <td>32</td>\n",
              "      <td>3</td>\n",
              "      <td>2016</td>\n",
              "      <td>1</td>\n",
              "      <td>2.0</td>\n",
              "      <td>20.292308</td>\n",
              "      <td>21.0</td>\n",
              "      <td>54.0</td>\n",
              "      <td>65.0</td>\n",
              "      <td>4.0</td>\n",
              "      <td>62.0</td>\n",
              "      <td>35.658068</td>\n",
              "      <td>139.751599</td>\n",
              "    </tr>\n",
              "    <tr>\n",
              "      <th>2</th>\n",
              "      <td>air_ba937bf13d40fb24</td>\n",
              "      <td>2016-01-15</td>\n",
              "      <td>29</td>\n",
              "      <td>4</td>\n",
              "      <td>2016</td>\n",
              "      <td>1</td>\n",
              "      <td>4.0</td>\n",
              "      <td>34.738462</td>\n",
              "      <td>35.0</td>\n",
              "      <td>61.0</td>\n",
              "      <td>65.0</td>\n",
              "      <td>4.0</td>\n",
              "      <td>62.0</td>\n",
              "      <td>35.658068</td>\n",
              "      <td>139.751599</td>\n",
              "    </tr>\n",
              "    <tr>\n",
              "      <th>3</th>\n",
              "      <td>air_ba937bf13d40fb24</td>\n",
              "      <td>2016-01-16</td>\n",
              "      <td>22</td>\n",
              "      <td>5</td>\n",
              "      <td>2016</td>\n",
              "      <td>1</td>\n",
              "      <td>6.0</td>\n",
              "      <td>27.651515</td>\n",
              "      <td>27.0</td>\n",
              "      <td>53.0</td>\n",
              "      <td>66.0</td>\n",
              "      <td>4.0</td>\n",
              "      <td>62.0</td>\n",
              "      <td>35.658068</td>\n",
              "      <td>139.751599</td>\n",
              "    </tr>\n",
              "    <tr>\n",
              "      <th>4</th>\n",
              "      <td>air_ba937bf13d40fb24</td>\n",
              "      <td>2016-01-18</td>\n",
              "      <td>6</td>\n",
              "      <td>0</td>\n",
              "      <td>2016</td>\n",
              "      <td>1</td>\n",
              "      <td>2.0</td>\n",
              "      <td>13.754386</td>\n",
              "      <td>12.0</td>\n",
              "      <td>34.0</td>\n",
              "      <td>57.0</td>\n",
              "      <td>4.0</td>\n",
              "      <td>62.0</td>\n",
              "      <td>35.658068</td>\n",
              "      <td>139.751599</td>\n",
              "    </tr>\n",
              "  </tbody>\n",
              "</table>\n",
              "</div>"
            ],
            "text/plain": [
              "           air_store_id  visit_date  ...   latitude   longitude\n",
              "0  air_ba937bf13d40fb24  2016-01-13  ...  35.658068  139.751599\n",
              "1  air_ba937bf13d40fb24  2016-01-14  ...  35.658068  139.751599\n",
              "2  air_ba937bf13d40fb24  2016-01-15  ...  35.658068  139.751599\n",
              "3  air_ba937bf13d40fb24  2016-01-16  ...  35.658068  139.751599\n",
              "4  air_ba937bf13d40fb24  2016-01-18  ...  35.658068  139.751599\n",
              "\n",
              "[5 rows x 15 columns]"
            ]
          },
          "metadata": {
            "tags": []
          },
          "execution_count": 33
        }
      ]
    },
    {
      "cell_type": "markdown",
      "metadata": {
        "id": "TaFqMkyZBSTJ"
      },
      "source": [
        "## test 데이터에 stores 데이터(요일별 데이터) merge"
      ]
    },
    {
      "cell_type": "code",
      "metadata": {
        "colab": {
          "base_uri": "https://localhost:8080/",
          "height": 309
        },
        "id": "3hvoUPOnVslS",
        "outputId": "6829b64a-877c-4296-c44b-e2a24300725a"
      },
      "source": [
        "test = pd.merge(data['tes'], stores, how='left', on=['air_store_id','dow'])\n",
        "test.head()"
      ],
      "execution_count": 34,
      "outputs": [
        {
          "output_type": "execute_result",
          "data": {
            "text/html": [
              "<div>\n",
              "<style scoped>\n",
              "    .dataframe tbody tr th:only-of-type {\n",
              "        vertical-align: middle;\n",
              "    }\n",
              "\n",
              "    .dataframe tbody tr th {\n",
              "        vertical-align: top;\n",
              "    }\n",
              "\n",
              "    .dataframe thead th {\n",
              "        text-align: right;\n",
              "    }\n",
              "</style>\n",
              "<table border=\"1\" class=\"dataframe\">\n",
              "  <thead>\n",
              "    <tr style=\"text-align: right;\">\n",
              "      <th></th>\n",
              "      <th>id</th>\n",
              "      <th>visitors</th>\n",
              "      <th>visit_date</th>\n",
              "      <th>air_store_id</th>\n",
              "      <th>dow</th>\n",
              "      <th>year</th>\n",
              "      <th>month</th>\n",
              "      <th>min_visitors</th>\n",
              "      <th>mean_visitors</th>\n",
              "      <th>median_visitors</th>\n",
              "      <th>max_visitors</th>\n",
              "      <th>count_observations</th>\n",
              "      <th>air_genre_name</th>\n",
              "      <th>air_area_name</th>\n",
              "      <th>latitude</th>\n",
              "      <th>longitude</th>\n",
              "    </tr>\n",
              "  </thead>\n",
              "  <tbody>\n",
              "    <tr>\n",
              "      <th>0</th>\n",
              "      <td>air_00a91d42b08b08d9_2017-04-23</td>\n",
              "      <td>0</td>\n",
              "      <td>2017-04-23</td>\n",
              "      <td>air_00a91d42b08b08d9</td>\n",
              "      <td>6</td>\n",
              "      <td>2017</td>\n",
              "      <td>4</td>\n",
              "      <td>2.0</td>\n",
              "      <td>2.000000</td>\n",
              "      <td>2.0</td>\n",
              "      <td>2.0</td>\n",
              "      <td>1.0</td>\n",
              "      <td>6</td>\n",
              "      <td>44</td>\n",
              "      <td>35.694003</td>\n",
              "      <td>139.753595</td>\n",
              "    </tr>\n",
              "    <tr>\n",
              "      <th>1</th>\n",
              "      <td>air_00a91d42b08b08d9_2017-04-24</td>\n",
              "      <td>0</td>\n",
              "      <td>2017-04-24</td>\n",
              "      <td>air_00a91d42b08b08d9</td>\n",
              "      <td>0</td>\n",
              "      <td>2017</td>\n",
              "      <td>4</td>\n",
              "      <td>1.0</td>\n",
              "      <td>22.457143</td>\n",
              "      <td>19.0</td>\n",
              "      <td>47.0</td>\n",
              "      <td>35.0</td>\n",
              "      <td>6</td>\n",
              "      <td>44</td>\n",
              "      <td>35.694003</td>\n",
              "      <td>139.753595</td>\n",
              "    </tr>\n",
              "    <tr>\n",
              "      <th>2</th>\n",
              "      <td>air_00a91d42b08b08d9_2017-04-25</td>\n",
              "      <td>0</td>\n",
              "      <td>2017-04-25</td>\n",
              "      <td>air_00a91d42b08b08d9</td>\n",
              "      <td>1</td>\n",
              "      <td>2017</td>\n",
              "      <td>4</td>\n",
              "      <td>1.0</td>\n",
              "      <td>24.350000</td>\n",
              "      <td>24.5</td>\n",
              "      <td>43.0</td>\n",
              "      <td>40.0</td>\n",
              "      <td>6</td>\n",
              "      <td>44</td>\n",
              "      <td>35.694003</td>\n",
              "      <td>139.753595</td>\n",
              "    </tr>\n",
              "    <tr>\n",
              "      <th>3</th>\n",
              "      <td>air_00a91d42b08b08d9_2017-04-26</td>\n",
              "      <td>0</td>\n",
              "      <td>2017-04-26</td>\n",
              "      <td>air_00a91d42b08b08d9</td>\n",
              "      <td>2</td>\n",
              "      <td>2017</td>\n",
              "      <td>4</td>\n",
              "      <td>15.0</td>\n",
              "      <td>28.125000</td>\n",
              "      <td>28.0</td>\n",
              "      <td>52.0</td>\n",
              "      <td>40.0</td>\n",
              "      <td>6</td>\n",
              "      <td>44</td>\n",
              "      <td>35.694003</td>\n",
              "      <td>139.753595</td>\n",
              "    </tr>\n",
              "    <tr>\n",
              "      <th>4</th>\n",
              "      <td>air_00a91d42b08b08d9_2017-04-27</td>\n",
              "      <td>0</td>\n",
              "      <td>2017-04-27</td>\n",
              "      <td>air_00a91d42b08b08d9</td>\n",
              "      <td>3</td>\n",
              "      <td>2017</td>\n",
              "      <td>4</td>\n",
              "      <td>15.0</td>\n",
              "      <td>29.868421</td>\n",
              "      <td>30.0</td>\n",
              "      <td>47.0</td>\n",
              "      <td>38.0</td>\n",
              "      <td>6</td>\n",
              "      <td>44</td>\n",
              "      <td>35.694003</td>\n",
              "      <td>139.753595</td>\n",
              "    </tr>\n",
              "  </tbody>\n",
              "</table>\n",
              "</div>"
            ],
            "text/plain": [
              "                                id  visitors  ...   latitude   longitude\n",
              "0  air_00a91d42b08b08d9_2017-04-23         0  ...  35.694003  139.753595\n",
              "1  air_00a91d42b08b08d9_2017-04-24         0  ...  35.694003  139.753595\n",
              "2  air_00a91d42b08b08d9_2017-04-25         0  ...  35.694003  139.753595\n",
              "3  air_00a91d42b08b08d9_2017-04-26         0  ...  35.694003  139.753595\n",
              "4  air_00a91d42b08b08d9_2017-04-27         0  ...  35.694003  139.753595\n",
              "\n",
              "[5 rows x 16 columns]"
            ]
          },
          "metadata": {
            "tags": []
          },
          "execution_count": 34
        }
      ]
    },
    {
      "cell_type": "markdown",
      "metadata": {
        "id": "5VhkK53mB1ik"
      },
      "source": [
        "## train과 test 데이터에 air 데이터, hpg 데이터 merge"
      ]
    },
    {
      "cell_type": "code",
      "metadata": {
        "id": "dYHoHQ_XBvLQ",
        "outputId": "756cbd3e-9fbc-4441-e771-ec0c40665a9a",
        "colab": {
          "base_uri": "https://localhost:8080/",
          "height": 204
        }
      },
      "source": [
        "train.head()"
      ],
      "execution_count": 35,
      "outputs": [
        {
          "output_type": "execute_result",
          "data": {
            "text/html": [
              "<div>\n",
              "<style scoped>\n",
              "    .dataframe tbody tr th:only-of-type {\n",
              "        vertical-align: middle;\n",
              "    }\n",
              "\n",
              "    .dataframe tbody tr th {\n",
              "        vertical-align: top;\n",
              "    }\n",
              "\n",
              "    .dataframe thead th {\n",
              "        text-align: right;\n",
              "    }\n",
              "</style>\n",
              "<table border=\"1\" class=\"dataframe\">\n",
              "  <thead>\n",
              "    <tr style=\"text-align: right;\">\n",
              "      <th></th>\n",
              "      <th>air_store_id</th>\n",
              "      <th>visit_date</th>\n",
              "      <th>visitors</th>\n",
              "      <th>dow</th>\n",
              "      <th>year</th>\n",
              "      <th>month</th>\n",
              "      <th>min_visitors</th>\n",
              "      <th>mean_visitors</th>\n",
              "      <th>median_visitors</th>\n",
              "      <th>max_visitors</th>\n",
              "      <th>count_observations</th>\n",
              "      <th>air_genre_name</th>\n",
              "      <th>air_area_name</th>\n",
              "      <th>latitude</th>\n",
              "      <th>longitude</th>\n",
              "    </tr>\n",
              "  </thead>\n",
              "  <tbody>\n",
              "    <tr>\n",
              "      <th>0</th>\n",
              "      <td>air_ba937bf13d40fb24</td>\n",
              "      <td>2016-01-13</td>\n",
              "      <td>25</td>\n",
              "      <td>2</td>\n",
              "      <td>2016</td>\n",
              "      <td>1</td>\n",
              "      <td>7.0</td>\n",
              "      <td>23.843750</td>\n",
              "      <td>25.0</td>\n",
              "      <td>57.0</td>\n",
              "      <td>64.0</td>\n",
              "      <td>4.0</td>\n",
              "      <td>62.0</td>\n",
              "      <td>35.658068</td>\n",
              "      <td>139.751599</td>\n",
              "    </tr>\n",
              "    <tr>\n",
              "      <th>1</th>\n",
              "      <td>air_ba937bf13d40fb24</td>\n",
              "      <td>2016-01-14</td>\n",
              "      <td>32</td>\n",
              "      <td>3</td>\n",
              "      <td>2016</td>\n",
              "      <td>1</td>\n",
              "      <td>2.0</td>\n",
              "      <td>20.292308</td>\n",
              "      <td>21.0</td>\n",
              "      <td>54.0</td>\n",
              "      <td>65.0</td>\n",
              "      <td>4.0</td>\n",
              "      <td>62.0</td>\n",
              "      <td>35.658068</td>\n",
              "      <td>139.751599</td>\n",
              "    </tr>\n",
              "    <tr>\n",
              "      <th>2</th>\n",
              "      <td>air_ba937bf13d40fb24</td>\n",
              "      <td>2016-01-15</td>\n",
              "      <td>29</td>\n",
              "      <td>4</td>\n",
              "      <td>2016</td>\n",
              "      <td>1</td>\n",
              "      <td>4.0</td>\n",
              "      <td>34.738462</td>\n",
              "      <td>35.0</td>\n",
              "      <td>61.0</td>\n",
              "      <td>65.0</td>\n",
              "      <td>4.0</td>\n",
              "      <td>62.0</td>\n",
              "      <td>35.658068</td>\n",
              "      <td>139.751599</td>\n",
              "    </tr>\n",
              "    <tr>\n",
              "      <th>3</th>\n",
              "      <td>air_ba937bf13d40fb24</td>\n",
              "      <td>2016-01-16</td>\n",
              "      <td>22</td>\n",
              "      <td>5</td>\n",
              "      <td>2016</td>\n",
              "      <td>1</td>\n",
              "      <td>6.0</td>\n",
              "      <td>27.651515</td>\n",
              "      <td>27.0</td>\n",
              "      <td>53.0</td>\n",
              "      <td>66.0</td>\n",
              "      <td>4.0</td>\n",
              "      <td>62.0</td>\n",
              "      <td>35.658068</td>\n",
              "      <td>139.751599</td>\n",
              "    </tr>\n",
              "    <tr>\n",
              "      <th>4</th>\n",
              "      <td>air_ba937bf13d40fb24</td>\n",
              "      <td>2016-01-18</td>\n",
              "      <td>6</td>\n",
              "      <td>0</td>\n",
              "      <td>2016</td>\n",
              "      <td>1</td>\n",
              "      <td>2.0</td>\n",
              "      <td>13.754386</td>\n",
              "      <td>12.0</td>\n",
              "      <td>34.0</td>\n",
              "      <td>57.0</td>\n",
              "      <td>4.0</td>\n",
              "      <td>62.0</td>\n",
              "      <td>35.658068</td>\n",
              "      <td>139.751599</td>\n",
              "    </tr>\n",
              "  </tbody>\n",
              "</table>\n",
              "</div>"
            ],
            "text/plain": [
              "           air_store_id  visit_date  ...   latitude   longitude\n",
              "0  air_ba937bf13d40fb24  2016-01-13  ...  35.658068  139.751599\n",
              "1  air_ba937bf13d40fb24  2016-01-14  ...  35.658068  139.751599\n",
              "2  air_ba937bf13d40fb24  2016-01-15  ...  35.658068  139.751599\n",
              "3  air_ba937bf13d40fb24  2016-01-16  ...  35.658068  139.751599\n",
              "4  air_ba937bf13d40fb24  2016-01-18  ...  35.658068  139.751599\n",
              "\n",
              "[5 rows x 15 columns]"
            ]
          },
          "metadata": {
            "tags": []
          },
          "execution_count": 35
        }
      ]
    },
    {
      "cell_type": "code",
      "metadata": {
        "id": "03zy4WI8BzPI",
        "outputId": "f6190171-3c15-4f64-d797-be79ee979821",
        "colab": {
          "base_uri": "https://localhost:8080/",
          "height": 309
        }
      },
      "source": [
        "test.head()"
      ],
      "execution_count": 36,
      "outputs": [
        {
          "output_type": "execute_result",
          "data": {
            "text/html": [
              "<div>\n",
              "<style scoped>\n",
              "    .dataframe tbody tr th:only-of-type {\n",
              "        vertical-align: middle;\n",
              "    }\n",
              "\n",
              "    .dataframe tbody tr th {\n",
              "        vertical-align: top;\n",
              "    }\n",
              "\n",
              "    .dataframe thead th {\n",
              "        text-align: right;\n",
              "    }\n",
              "</style>\n",
              "<table border=\"1\" class=\"dataframe\">\n",
              "  <thead>\n",
              "    <tr style=\"text-align: right;\">\n",
              "      <th></th>\n",
              "      <th>id</th>\n",
              "      <th>visitors</th>\n",
              "      <th>visit_date</th>\n",
              "      <th>air_store_id</th>\n",
              "      <th>dow</th>\n",
              "      <th>year</th>\n",
              "      <th>month</th>\n",
              "      <th>min_visitors</th>\n",
              "      <th>mean_visitors</th>\n",
              "      <th>median_visitors</th>\n",
              "      <th>max_visitors</th>\n",
              "      <th>count_observations</th>\n",
              "      <th>air_genre_name</th>\n",
              "      <th>air_area_name</th>\n",
              "      <th>latitude</th>\n",
              "      <th>longitude</th>\n",
              "    </tr>\n",
              "  </thead>\n",
              "  <tbody>\n",
              "    <tr>\n",
              "      <th>0</th>\n",
              "      <td>air_00a91d42b08b08d9_2017-04-23</td>\n",
              "      <td>0</td>\n",
              "      <td>2017-04-23</td>\n",
              "      <td>air_00a91d42b08b08d9</td>\n",
              "      <td>6</td>\n",
              "      <td>2017</td>\n",
              "      <td>4</td>\n",
              "      <td>2.0</td>\n",
              "      <td>2.000000</td>\n",
              "      <td>2.0</td>\n",
              "      <td>2.0</td>\n",
              "      <td>1.0</td>\n",
              "      <td>6</td>\n",
              "      <td>44</td>\n",
              "      <td>35.694003</td>\n",
              "      <td>139.753595</td>\n",
              "    </tr>\n",
              "    <tr>\n",
              "      <th>1</th>\n",
              "      <td>air_00a91d42b08b08d9_2017-04-24</td>\n",
              "      <td>0</td>\n",
              "      <td>2017-04-24</td>\n",
              "      <td>air_00a91d42b08b08d9</td>\n",
              "      <td>0</td>\n",
              "      <td>2017</td>\n",
              "      <td>4</td>\n",
              "      <td>1.0</td>\n",
              "      <td>22.457143</td>\n",
              "      <td>19.0</td>\n",
              "      <td>47.0</td>\n",
              "      <td>35.0</td>\n",
              "      <td>6</td>\n",
              "      <td>44</td>\n",
              "      <td>35.694003</td>\n",
              "      <td>139.753595</td>\n",
              "    </tr>\n",
              "    <tr>\n",
              "      <th>2</th>\n",
              "      <td>air_00a91d42b08b08d9_2017-04-25</td>\n",
              "      <td>0</td>\n",
              "      <td>2017-04-25</td>\n",
              "      <td>air_00a91d42b08b08d9</td>\n",
              "      <td>1</td>\n",
              "      <td>2017</td>\n",
              "      <td>4</td>\n",
              "      <td>1.0</td>\n",
              "      <td>24.350000</td>\n",
              "      <td>24.5</td>\n",
              "      <td>43.0</td>\n",
              "      <td>40.0</td>\n",
              "      <td>6</td>\n",
              "      <td>44</td>\n",
              "      <td>35.694003</td>\n",
              "      <td>139.753595</td>\n",
              "    </tr>\n",
              "    <tr>\n",
              "      <th>3</th>\n",
              "      <td>air_00a91d42b08b08d9_2017-04-26</td>\n",
              "      <td>0</td>\n",
              "      <td>2017-04-26</td>\n",
              "      <td>air_00a91d42b08b08d9</td>\n",
              "      <td>2</td>\n",
              "      <td>2017</td>\n",
              "      <td>4</td>\n",
              "      <td>15.0</td>\n",
              "      <td>28.125000</td>\n",
              "      <td>28.0</td>\n",
              "      <td>52.0</td>\n",
              "      <td>40.0</td>\n",
              "      <td>6</td>\n",
              "      <td>44</td>\n",
              "      <td>35.694003</td>\n",
              "      <td>139.753595</td>\n",
              "    </tr>\n",
              "    <tr>\n",
              "      <th>4</th>\n",
              "      <td>air_00a91d42b08b08d9_2017-04-27</td>\n",
              "      <td>0</td>\n",
              "      <td>2017-04-27</td>\n",
              "      <td>air_00a91d42b08b08d9</td>\n",
              "      <td>3</td>\n",
              "      <td>2017</td>\n",
              "      <td>4</td>\n",
              "      <td>15.0</td>\n",
              "      <td>29.868421</td>\n",
              "      <td>30.0</td>\n",
              "      <td>47.0</td>\n",
              "      <td>38.0</td>\n",
              "      <td>6</td>\n",
              "      <td>44</td>\n",
              "      <td>35.694003</td>\n",
              "      <td>139.753595</td>\n",
              "    </tr>\n",
              "  </tbody>\n",
              "</table>\n",
              "</div>"
            ],
            "text/plain": [
              "                                id  visitors  ...   latitude   longitude\n",
              "0  air_00a91d42b08b08d9_2017-04-23         0  ...  35.694003  139.753595\n",
              "1  air_00a91d42b08b08d9_2017-04-24         0  ...  35.694003  139.753595\n",
              "2  air_00a91d42b08b08d9_2017-04-25         0  ...  35.694003  139.753595\n",
              "3  air_00a91d42b08b08d9_2017-04-26         0  ...  35.694003  139.753595\n",
              "4  air_00a91d42b08b08d9_2017-04-27         0  ...  35.694003  139.753595\n",
              "\n",
              "[5 rows x 16 columns]"
            ]
          },
          "metadata": {
            "tags": []
          },
          "execution_count": 36
        }
      ]
    },
    {
      "cell_type": "code",
      "metadata": {
        "id": "XcavZ35jV0EM"
      },
      "source": [
        "for df in ['ar', 'hr']:\n",
        "    train = pd.merge(train, data[df], how='left', on=['air_store_id','visit_date']) \n",
        "    test = pd.merge(test, data[df], how='left', on=['air_store_id','visit_date'])"
      ],
      "execution_count": 37,
      "outputs": []
    },
    {
      "cell_type": "code",
      "metadata": {
        "id": "_h0wJ79IB6hZ",
        "outputId": "50fd1723-0754-491f-fe8a-7aad6aae2552",
        "colab": {
          "base_uri": "https://localhost:8080/",
          "height": 224
        }
      },
      "source": [
        "train.head()"
      ],
      "execution_count": 38,
      "outputs": [
        {
          "output_type": "execute_result",
          "data": {
            "text/html": [
              "<div>\n",
              "<style scoped>\n",
              "    .dataframe tbody tr th:only-of-type {\n",
              "        vertical-align: middle;\n",
              "    }\n",
              "\n",
              "    .dataframe tbody tr th {\n",
              "        vertical-align: top;\n",
              "    }\n",
              "\n",
              "    .dataframe thead th {\n",
              "        text-align: right;\n",
              "    }\n",
              "</style>\n",
              "<table border=\"1\" class=\"dataframe\">\n",
              "  <thead>\n",
              "    <tr style=\"text-align: right;\">\n",
              "      <th></th>\n",
              "      <th>air_store_id</th>\n",
              "      <th>visit_date</th>\n",
              "      <th>visitors</th>\n",
              "      <th>dow</th>\n",
              "      <th>year</th>\n",
              "      <th>month</th>\n",
              "      <th>min_visitors</th>\n",
              "      <th>mean_visitors</th>\n",
              "      <th>median_visitors</th>\n",
              "      <th>max_visitors</th>\n",
              "      <th>count_observations</th>\n",
              "      <th>air_genre_name</th>\n",
              "      <th>air_area_name</th>\n",
              "      <th>latitude</th>\n",
              "      <th>longitude</th>\n",
              "      <th>reserve_datetime_diff_x</th>\n",
              "      <th>reserve_visitors_x</th>\n",
              "      <th>reserve_datetime_diff_y</th>\n",
              "      <th>reserve_visitors_y</th>\n",
              "    </tr>\n",
              "  </thead>\n",
              "  <tbody>\n",
              "    <tr>\n",
              "      <th>0</th>\n",
              "      <td>air_ba937bf13d40fb24</td>\n",
              "      <td>2016-01-13</td>\n",
              "      <td>25</td>\n",
              "      <td>2</td>\n",
              "      <td>2016</td>\n",
              "      <td>1</td>\n",
              "      <td>7.0</td>\n",
              "      <td>23.843750</td>\n",
              "      <td>25.0</td>\n",
              "      <td>57.0</td>\n",
              "      <td>64.0</td>\n",
              "      <td>4.0</td>\n",
              "      <td>62.0</td>\n",
              "      <td>35.658068</td>\n",
              "      <td>139.751599</td>\n",
              "      <td>NaN</td>\n",
              "      <td>NaN</td>\n",
              "      <td>NaN</td>\n",
              "      <td>NaN</td>\n",
              "    </tr>\n",
              "    <tr>\n",
              "      <th>1</th>\n",
              "      <td>air_ba937bf13d40fb24</td>\n",
              "      <td>2016-01-14</td>\n",
              "      <td>32</td>\n",
              "      <td>3</td>\n",
              "      <td>2016</td>\n",
              "      <td>1</td>\n",
              "      <td>2.0</td>\n",
              "      <td>20.292308</td>\n",
              "      <td>21.0</td>\n",
              "      <td>54.0</td>\n",
              "      <td>65.0</td>\n",
              "      <td>4.0</td>\n",
              "      <td>62.0</td>\n",
              "      <td>35.658068</td>\n",
              "      <td>139.751599</td>\n",
              "      <td>NaN</td>\n",
              "      <td>NaN</td>\n",
              "      <td>NaN</td>\n",
              "      <td>NaN</td>\n",
              "    </tr>\n",
              "    <tr>\n",
              "      <th>2</th>\n",
              "      <td>air_ba937bf13d40fb24</td>\n",
              "      <td>2016-01-15</td>\n",
              "      <td>29</td>\n",
              "      <td>4</td>\n",
              "      <td>2016</td>\n",
              "      <td>1</td>\n",
              "      <td>4.0</td>\n",
              "      <td>34.738462</td>\n",
              "      <td>35.0</td>\n",
              "      <td>61.0</td>\n",
              "      <td>65.0</td>\n",
              "      <td>4.0</td>\n",
              "      <td>62.0</td>\n",
              "      <td>35.658068</td>\n",
              "      <td>139.751599</td>\n",
              "      <td>NaN</td>\n",
              "      <td>NaN</td>\n",
              "      <td>NaN</td>\n",
              "      <td>NaN</td>\n",
              "    </tr>\n",
              "    <tr>\n",
              "      <th>3</th>\n",
              "      <td>air_ba937bf13d40fb24</td>\n",
              "      <td>2016-01-16</td>\n",
              "      <td>22</td>\n",
              "      <td>5</td>\n",
              "      <td>2016</td>\n",
              "      <td>1</td>\n",
              "      <td>6.0</td>\n",
              "      <td>27.651515</td>\n",
              "      <td>27.0</td>\n",
              "      <td>53.0</td>\n",
              "      <td>66.0</td>\n",
              "      <td>4.0</td>\n",
              "      <td>62.0</td>\n",
              "      <td>35.658068</td>\n",
              "      <td>139.751599</td>\n",
              "      <td>NaN</td>\n",
              "      <td>NaN</td>\n",
              "      <td>NaN</td>\n",
              "      <td>NaN</td>\n",
              "    </tr>\n",
              "    <tr>\n",
              "      <th>4</th>\n",
              "      <td>air_ba937bf13d40fb24</td>\n",
              "      <td>2016-01-18</td>\n",
              "      <td>6</td>\n",
              "      <td>0</td>\n",
              "      <td>2016</td>\n",
              "      <td>1</td>\n",
              "      <td>2.0</td>\n",
              "      <td>13.754386</td>\n",
              "      <td>12.0</td>\n",
              "      <td>34.0</td>\n",
              "      <td>57.0</td>\n",
              "      <td>4.0</td>\n",
              "      <td>62.0</td>\n",
              "      <td>35.658068</td>\n",
              "      <td>139.751599</td>\n",
              "      <td>NaN</td>\n",
              "      <td>NaN</td>\n",
              "      <td>NaN</td>\n",
              "      <td>NaN</td>\n",
              "    </tr>\n",
              "  </tbody>\n",
              "</table>\n",
              "</div>"
            ],
            "text/plain": [
              "           air_store_id  ... reserve_visitors_y\n",
              "0  air_ba937bf13d40fb24  ...                NaN\n",
              "1  air_ba937bf13d40fb24  ...                NaN\n",
              "2  air_ba937bf13d40fb24  ...                NaN\n",
              "3  air_ba937bf13d40fb24  ...                NaN\n",
              "4  air_ba937bf13d40fb24  ...                NaN\n",
              "\n",
              "[5 rows x 19 columns]"
            ]
          },
          "metadata": {
            "tags": []
          },
          "execution_count": 38
        }
      ]
    },
    {
      "cell_type": "code",
      "metadata": {
        "id": "jas9Kx8vB7NE",
        "outputId": "d1205697-798a-448f-cfdf-709669e73603",
        "colab": {
          "base_uri": "https://localhost:8080/",
          "height": 309
        }
      },
      "source": [
        "test.head()"
      ],
      "execution_count": 39,
      "outputs": [
        {
          "output_type": "execute_result",
          "data": {
            "text/html": [
              "<div>\n",
              "<style scoped>\n",
              "    .dataframe tbody tr th:only-of-type {\n",
              "        vertical-align: middle;\n",
              "    }\n",
              "\n",
              "    .dataframe tbody tr th {\n",
              "        vertical-align: top;\n",
              "    }\n",
              "\n",
              "    .dataframe thead th {\n",
              "        text-align: right;\n",
              "    }\n",
              "</style>\n",
              "<table border=\"1\" class=\"dataframe\">\n",
              "  <thead>\n",
              "    <tr style=\"text-align: right;\">\n",
              "      <th></th>\n",
              "      <th>id</th>\n",
              "      <th>visitors</th>\n",
              "      <th>visit_date</th>\n",
              "      <th>air_store_id</th>\n",
              "      <th>dow</th>\n",
              "      <th>year</th>\n",
              "      <th>month</th>\n",
              "      <th>min_visitors</th>\n",
              "      <th>mean_visitors</th>\n",
              "      <th>median_visitors</th>\n",
              "      <th>max_visitors</th>\n",
              "      <th>count_observations</th>\n",
              "      <th>air_genre_name</th>\n",
              "      <th>air_area_name</th>\n",
              "      <th>latitude</th>\n",
              "      <th>longitude</th>\n",
              "      <th>reserve_datetime_diff_x</th>\n",
              "      <th>reserve_visitors_x</th>\n",
              "      <th>reserve_datetime_diff_y</th>\n",
              "      <th>reserve_visitors_y</th>\n",
              "    </tr>\n",
              "  </thead>\n",
              "  <tbody>\n",
              "    <tr>\n",
              "      <th>0</th>\n",
              "      <td>air_00a91d42b08b08d9_2017-04-23</td>\n",
              "      <td>0</td>\n",
              "      <td>2017-04-23</td>\n",
              "      <td>air_00a91d42b08b08d9</td>\n",
              "      <td>6</td>\n",
              "      <td>2017</td>\n",
              "      <td>4</td>\n",
              "      <td>2.0</td>\n",
              "      <td>2.000000</td>\n",
              "      <td>2.0</td>\n",
              "      <td>2.0</td>\n",
              "      <td>1.0</td>\n",
              "      <td>6</td>\n",
              "      <td>44</td>\n",
              "      <td>35.694003</td>\n",
              "      <td>139.753595</td>\n",
              "      <td>NaN</td>\n",
              "      <td>NaN</td>\n",
              "      <td>NaN</td>\n",
              "      <td>NaN</td>\n",
              "    </tr>\n",
              "    <tr>\n",
              "      <th>1</th>\n",
              "      <td>air_00a91d42b08b08d9_2017-04-24</td>\n",
              "      <td>0</td>\n",
              "      <td>2017-04-24</td>\n",
              "      <td>air_00a91d42b08b08d9</td>\n",
              "      <td>0</td>\n",
              "      <td>2017</td>\n",
              "      <td>4</td>\n",
              "      <td>1.0</td>\n",
              "      <td>22.457143</td>\n",
              "      <td>19.0</td>\n",
              "      <td>47.0</td>\n",
              "      <td>35.0</td>\n",
              "      <td>6</td>\n",
              "      <td>44</td>\n",
              "      <td>35.694003</td>\n",
              "      <td>139.753595</td>\n",
              "      <td>NaN</td>\n",
              "      <td>NaN</td>\n",
              "      <td>NaN</td>\n",
              "      <td>NaN</td>\n",
              "    </tr>\n",
              "    <tr>\n",
              "      <th>2</th>\n",
              "      <td>air_00a91d42b08b08d9_2017-04-25</td>\n",
              "      <td>0</td>\n",
              "      <td>2017-04-25</td>\n",
              "      <td>air_00a91d42b08b08d9</td>\n",
              "      <td>1</td>\n",
              "      <td>2017</td>\n",
              "      <td>4</td>\n",
              "      <td>1.0</td>\n",
              "      <td>24.350000</td>\n",
              "      <td>24.5</td>\n",
              "      <td>43.0</td>\n",
              "      <td>40.0</td>\n",
              "      <td>6</td>\n",
              "      <td>44</td>\n",
              "      <td>35.694003</td>\n",
              "      <td>139.753595</td>\n",
              "      <td>NaN</td>\n",
              "      <td>NaN</td>\n",
              "      <td>NaN</td>\n",
              "      <td>NaN</td>\n",
              "    </tr>\n",
              "    <tr>\n",
              "      <th>3</th>\n",
              "      <td>air_00a91d42b08b08d9_2017-04-26</td>\n",
              "      <td>0</td>\n",
              "      <td>2017-04-26</td>\n",
              "      <td>air_00a91d42b08b08d9</td>\n",
              "      <td>2</td>\n",
              "      <td>2017</td>\n",
              "      <td>4</td>\n",
              "      <td>15.0</td>\n",
              "      <td>28.125000</td>\n",
              "      <td>28.0</td>\n",
              "      <td>52.0</td>\n",
              "      <td>40.0</td>\n",
              "      <td>6</td>\n",
              "      <td>44</td>\n",
              "      <td>35.694003</td>\n",
              "      <td>139.753595</td>\n",
              "      <td>NaN</td>\n",
              "      <td>NaN</td>\n",
              "      <td>NaN</td>\n",
              "      <td>NaN</td>\n",
              "    </tr>\n",
              "    <tr>\n",
              "      <th>4</th>\n",
              "      <td>air_00a91d42b08b08d9_2017-04-27</td>\n",
              "      <td>0</td>\n",
              "      <td>2017-04-27</td>\n",
              "      <td>air_00a91d42b08b08d9</td>\n",
              "      <td>3</td>\n",
              "      <td>2017</td>\n",
              "      <td>4</td>\n",
              "      <td>15.0</td>\n",
              "      <td>29.868421</td>\n",
              "      <td>30.0</td>\n",
              "      <td>47.0</td>\n",
              "      <td>38.0</td>\n",
              "      <td>6</td>\n",
              "      <td>44</td>\n",
              "      <td>35.694003</td>\n",
              "      <td>139.753595</td>\n",
              "      <td>NaN</td>\n",
              "      <td>NaN</td>\n",
              "      <td>NaN</td>\n",
              "      <td>NaN</td>\n",
              "    </tr>\n",
              "  </tbody>\n",
              "</table>\n",
              "</div>"
            ],
            "text/plain": [
              "                                id  ...  reserve_visitors_y\n",
              "0  air_00a91d42b08b08d9_2017-04-23  ...                 NaN\n",
              "1  air_00a91d42b08b08d9_2017-04-24  ...                 NaN\n",
              "2  air_00a91d42b08b08d9_2017-04-25  ...                 NaN\n",
              "3  air_00a91d42b08b08d9_2017-04-26  ...                 NaN\n",
              "4  air_00a91d42b08b08d9_2017-04-27  ...                 NaN\n",
              "\n",
              "[5 rows x 20 columns]"
            ]
          },
          "metadata": {
            "tags": []
          },
          "execution_count": 39
        }
      ]
    },
    {
      "cell_type": "markdown",
      "metadata": {
        "id": "CZV1Mj4RCWJA"
      },
      "source": [
        "## train과 test 데이터에서 reserve관련 데이터 NaN 값들을 -1로 채워준다\n",
        "\n",
        "이 값들은 예약을 하지 않고 온 손님들을 의미한다."
      ]
    },
    {
      "cell_type": "code",
      "metadata": {
        "colab": {
          "base_uri": "https://localhost:8080/"
        },
        "id": "VGJzJE-ZWL9h",
        "outputId": "9a2fab4d-abcd-4d15-f7a9-9e19323f3b7e"
      },
      "source": [
        "print(train.describe())\n",
        "print(train.head())"
      ],
      "execution_count": 40,
      "outputs": [
        {
          "output_type": "stream",
          "text": [
            "            visitors  ...  reserve_visitors_y\n",
            "count  252108.000000  ...        13550.000000\n",
            "mean       20.973761  ...            6.803469\n",
            "std        16.757007  ...            7.686077\n",
            "min         1.000000  ...            1.000000\n",
            "25%         9.000000  ...            2.000000\n",
            "50%        17.000000  ...            4.000000\n",
            "75%        29.000000  ...            8.000000\n",
            "max       877.000000  ...          157.000000\n",
            "\n",
            "[8 rows x 17 columns]\n",
            "           air_store_id  ... reserve_visitors_y\n",
            "0  air_ba937bf13d40fb24  ...                NaN\n",
            "1  air_ba937bf13d40fb24  ...                NaN\n",
            "2  air_ba937bf13d40fb24  ...                NaN\n",
            "3  air_ba937bf13d40fb24  ...                NaN\n",
            "4  air_ba937bf13d40fb24  ...                NaN\n",
            "\n",
            "[5 rows x 19 columns]\n"
          ],
          "name": "stdout"
        }
      ]
    },
    {
      "cell_type": "code",
      "metadata": {
        "id": "lTGgPHHwWOWU"
      },
      "source": [
        "col = [c for c in train if c not in ['id', 'air_store_id','visit_date','visitors']]\n",
        "train = train.fillna(-1)\n",
        "test = test.fillna(-1)"
      ],
      "execution_count": 41,
      "outputs": []
    },
    {
      "cell_type": "code",
      "metadata": {
        "colab": {
          "base_uri": "https://localhost:8080/",
          "height": 224
        },
        "id": "xfAIQIvCaZvI",
        "outputId": "fe192784-eebe-4f2b-8b07-71f8c1eb4c99"
      },
      "source": [
        "train.head()"
      ],
      "execution_count": 42,
      "outputs": [
        {
          "output_type": "execute_result",
          "data": {
            "text/html": [
              "<div>\n",
              "<style scoped>\n",
              "    .dataframe tbody tr th:only-of-type {\n",
              "        vertical-align: middle;\n",
              "    }\n",
              "\n",
              "    .dataframe tbody tr th {\n",
              "        vertical-align: top;\n",
              "    }\n",
              "\n",
              "    .dataframe thead th {\n",
              "        text-align: right;\n",
              "    }\n",
              "</style>\n",
              "<table border=\"1\" class=\"dataframe\">\n",
              "  <thead>\n",
              "    <tr style=\"text-align: right;\">\n",
              "      <th></th>\n",
              "      <th>air_store_id</th>\n",
              "      <th>visit_date</th>\n",
              "      <th>visitors</th>\n",
              "      <th>dow</th>\n",
              "      <th>year</th>\n",
              "      <th>month</th>\n",
              "      <th>min_visitors</th>\n",
              "      <th>mean_visitors</th>\n",
              "      <th>median_visitors</th>\n",
              "      <th>max_visitors</th>\n",
              "      <th>count_observations</th>\n",
              "      <th>air_genre_name</th>\n",
              "      <th>air_area_name</th>\n",
              "      <th>latitude</th>\n",
              "      <th>longitude</th>\n",
              "      <th>reserve_datetime_diff_x</th>\n",
              "      <th>reserve_visitors_x</th>\n",
              "      <th>reserve_datetime_diff_y</th>\n",
              "      <th>reserve_visitors_y</th>\n",
              "    </tr>\n",
              "  </thead>\n",
              "  <tbody>\n",
              "    <tr>\n",
              "      <th>0</th>\n",
              "      <td>air_ba937bf13d40fb24</td>\n",
              "      <td>2016-01-13</td>\n",
              "      <td>25</td>\n",
              "      <td>2</td>\n",
              "      <td>2016</td>\n",
              "      <td>1</td>\n",
              "      <td>7.0</td>\n",
              "      <td>23.843750</td>\n",
              "      <td>25.0</td>\n",
              "      <td>57.0</td>\n",
              "      <td>64.0</td>\n",
              "      <td>4.0</td>\n",
              "      <td>62.0</td>\n",
              "      <td>35.658068</td>\n",
              "      <td>139.751599</td>\n",
              "      <td>-1.0</td>\n",
              "      <td>-1.0</td>\n",
              "      <td>-1.0</td>\n",
              "      <td>-1.0</td>\n",
              "    </tr>\n",
              "    <tr>\n",
              "      <th>1</th>\n",
              "      <td>air_ba937bf13d40fb24</td>\n",
              "      <td>2016-01-14</td>\n",
              "      <td>32</td>\n",
              "      <td>3</td>\n",
              "      <td>2016</td>\n",
              "      <td>1</td>\n",
              "      <td>2.0</td>\n",
              "      <td>20.292308</td>\n",
              "      <td>21.0</td>\n",
              "      <td>54.0</td>\n",
              "      <td>65.0</td>\n",
              "      <td>4.0</td>\n",
              "      <td>62.0</td>\n",
              "      <td>35.658068</td>\n",
              "      <td>139.751599</td>\n",
              "      <td>-1.0</td>\n",
              "      <td>-1.0</td>\n",
              "      <td>-1.0</td>\n",
              "      <td>-1.0</td>\n",
              "    </tr>\n",
              "    <tr>\n",
              "      <th>2</th>\n",
              "      <td>air_ba937bf13d40fb24</td>\n",
              "      <td>2016-01-15</td>\n",
              "      <td>29</td>\n",
              "      <td>4</td>\n",
              "      <td>2016</td>\n",
              "      <td>1</td>\n",
              "      <td>4.0</td>\n",
              "      <td>34.738462</td>\n",
              "      <td>35.0</td>\n",
              "      <td>61.0</td>\n",
              "      <td>65.0</td>\n",
              "      <td>4.0</td>\n",
              "      <td>62.0</td>\n",
              "      <td>35.658068</td>\n",
              "      <td>139.751599</td>\n",
              "      <td>-1.0</td>\n",
              "      <td>-1.0</td>\n",
              "      <td>-1.0</td>\n",
              "      <td>-1.0</td>\n",
              "    </tr>\n",
              "    <tr>\n",
              "      <th>3</th>\n",
              "      <td>air_ba937bf13d40fb24</td>\n",
              "      <td>2016-01-16</td>\n",
              "      <td>22</td>\n",
              "      <td>5</td>\n",
              "      <td>2016</td>\n",
              "      <td>1</td>\n",
              "      <td>6.0</td>\n",
              "      <td>27.651515</td>\n",
              "      <td>27.0</td>\n",
              "      <td>53.0</td>\n",
              "      <td>66.0</td>\n",
              "      <td>4.0</td>\n",
              "      <td>62.0</td>\n",
              "      <td>35.658068</td>\n",
              "      <td>139.751599</td>\n",
              "      <td>-1.0</td>\n",
              "      <td>-1.0</td>\n",
              "      <td>-1.0</td>\n",
              "      <td>-1.0</td>\n",
              "    </tr>\n",
              "    <tr>\n",
              "      <th>4</th>\n",
              "      <td>air_ba937bf13d40fb24</td>\n",
              "      <td>2016-01-18</td>\n",
              "      <td>6</td>\n",
              "      <td>0</td>\n",
              "      <td>2016</td>\n",
              "      <td>1</td>\n",
              "      <td>2.0</td>\n",
              "      <td>13.754386</td>\n",
              "      <td>12.0</td>\n",
              "      <td>34.0</td>\n",
              "      <td>57.0</td>\n",
              "      <td>4.0</td>\n",
              "      <td>62.0</td>\n",
              "      <td>35.658068</td>\n",
              "      <td>139.751599</td>\n",
              "      <td>-1.0</td>\n",
              "      <td>-1.0</td>\n",
              "      <td>-1.0</td>\n",
              "      <td>-1.0</td>\n",
              "    </tr>\n",
              "  </tbody>\n",
              "</table>\n",
              "</div>"
            ],
            "text/plain": [
              "           air_store_id  ... reserve_visitors_y\n",
              "0  air_ba937bf13d40fb24  ...               -1.0\n",
              "1  air_ba937bf13d40fb24  ...               -1.0\n",
              "2  air_ba937bf13d40fb24  ...               -1.0\n",
              "3  air_ba937bf13d40fb24  ...               -1.0\n",
              "4  air_ba937bf13d40fb24  ...               -1.0\n",
              "\n",
              "[5 rows x 19 columns]"
            ]
          },
          "metadata": {
            "tags": []
          },
          "execution_count": 42
        }
      ]
    },
    {
      "cell_type": "markdown",
      "metadata": {
        "id": "OSayo8Q7DDr-"
      },
      "source": [
        "## 학습 및 예측"
      ]
    },
    {
      "cell_type": "code",
      "metadata": {
        "id": "EsQssH7JWRno"
      },
      "source": [
        "def RMSLE(y, pred):\n",
        "    return metrics.mean_squared_error(y, pred)**0.5"
      ],
      "execution_count": 43,
      "outputs": []
    },
    {
      "cell_type": "code",
      "metadata": {
        "colab": {
          "base_uri": "https://localhost:8080/"
        },
        "id": "bnWA3E1NWUW8",
        "outputId": "74e0de43-0114-4e29-ac7b-b638d58a5495"
      },
      "source": [
        "lr = linear_model.LinearRegression(n_jobs=-1)\n",
        "etc = ensemble.ExtraTreesRegressor(n_estimators=225, max_depth=5, n_jobs=-1, random_state=3)\n",
        "knn = neighbors.KNeighborsRegressor(n_jobs=-1, n_neighbors=4)\n",
        "\n",
        "lr.fit(train[col], np.log1p(train['visitors'].values))\n",
        "etc.fit(train[col], np.log1p(train['visitors'].values))\n",
        "knn.fit(train[col], np.log1p(train['visitors'].values))\n",
        "\n",
        "print('RMSE LinearRegressor: ', RMSLE(np.log1p(train['visitors'].values), lr.predict(train[col])))\n",
        "print('RMSE ExtraTreesRegressor: ', RMSLE(np.log1p(train['visitors'].values), etc.predict(train[col])))\n",
        "print('RMSE KNNRegressor: ', RMSLE(np.log1p(train['visitors'].values), knn.predict(train[col])))\n",
        "\n",
        "test['visitors'] = (etc.predict(test[col]) / 2) +(knn.predict(test[col]) / 2) # ensemble\n",
        "test['visitors'] = np.expm1(test['visitors']).clip(lower=0.)\n",
        "test[['id','visitors']].to_csv('lr_submission.csv', index=False, float_format='%.2f')"
      ],
      "execution_count": 44,
      "outputs": [
        {
          "output_type": "stream",
          "text": [
            "RMSE LinearRegressor:  0.5559363280886771\n",
            "RMSE ExtraTreesRegressor:  0.5238810527950593\n",
            "RMSE KNNRegressor:  0.4255759709458109\n"
          ],
          "name": "stdout"
        }
      ]
    }
  ]
}