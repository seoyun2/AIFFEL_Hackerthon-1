{
  "nbformat": 4,
  "nbformat_minor": 0,
  "metadata": {
    "colab": {
      "name": "Untitled63.ipynb",
      "private_outputs": true,
      "provenance": [],
      "authorship_tag": "ABX9TyPw8oKW5PiquNVBfLyaKJcG",
      "include_colab_link": true
    },
    "kernelspec": {
      "name": "python3",
      "display_name": "Python 3"
    },
    "language_info": {
      "name": "python"
    }
  },
  "cells": [
    {
      "cell_type": "markdown",
      "metadata": {
        "id": "view-in-github",
        "colab_type": "text"
      },
      "source": [
        "<a href=\"https://colab.research.google.com/github/t1seo/AIFFEL_Hackerthon-1/blob/main/taewon/temp_1.ipynb\" target=\"_parent\"><img src=\"https://colab.research.google.com/assets/colab-badge.svg\" alt=\"Open In Colab\"/></a>"
      ]
    },
    {
      "cell_type": "code",
      "metadata": {
        "id": "tlArQG5EvVSL"
      },
      "source": [
        "from google.colab import drive\n",
        "drive.mount('/content/drive')"
      ],
      "execution_count": null,
      "outputs": []
    },
    {
      "cell_type": "code",
      "metadata": {
        "id": "K6EWCEpVvYKS"
      },
      "source": [
        "cd /content/drive/MyDrive/data/Restaurant_Visitor_Forecasting"
      ],
      "execution_count": null,
      "outputs": []
    },
    {
      "cell_type": "code",
      "metadata": {
        "id": "6VHcrye1vZRd"
      },
      "source": [
        "import pandas as pd\n",
        "import matplotlib.pyplot as plt\n",
        "import seaborn as sns\n",
        "import missingno as msno\n",
        "\n",
        "%matplotlib inline\n",
        "%config InlineBackend.figure_format = 'retina'\n",
        "\n",
        "import warnings\n",
        "warnings.filterwarnings(\"ignore\")"
      ],
      "execution_count": null,
      "outputs": []
    },
    {
      "cell_type": "code",
      "metadata": {
        "id": "GZ4IuhcZvgpZ"
      },
      "source": [
        "air_reserve = pd.read_csv('air_reserve.csv')\n",
        "hpg_reserve = pd.read_csv('hpg_reserve.csv')\n",
        "air_store_info = pd.read_csv('air_store_info.csv')\n",
        "hpg_store_info = pd.read_csv('hpg_store_info.csv')\n",
        "store_id_relation = pd.read_csv('store_id_relation.csv')\n",
        "air_visit_data = pd.read_csv('air_visit_data.csv')\n",
        "sample_submission = pd.read_csv('sample_submission.csv')\n",
        "date_info = pd.read_csv('date_info.csv')"
      ],
      "execution_count": null,
      "outputs": []
    },
    {
      "cell_type": "markdown",
      "metadata": {
        "id": "VbyzmTmnvh_Y"
      },
      "source": [
        "## Air Visit Data EDA\n",
        "\n",
        "\n",
        "- `air_visit_data`에는 해당 날짜에 실제로 식당에 방문한 고객들 수가 담겨져있다.\n",
        "\n",
        "---\n",
        "memo\n",
        "\n",
        "- `air_visit`에는 실제 방문 고객 수가 담겨져 있따.\n",
        "- `air_reserve`에는 `air`로 예약한 손님들이 담겨져 있다.\n",
        "- `hpg_reserve`에는 `hpg`로 예약한 손님들이 담겨져 있다.\n",
        "- `store_id_relation`에는 `air`와 `hpg`에 둘 다 있는 경우의 키 값이 있다."
      ]
    },
    {
      "cell_type": "code",
      "metadata": {
        "id": "334OsHpv_Swk"
      },
      "source": [
        "store_id_relation"
      ],
      "execution_count": null,
      "outputs": []
    },
    {
      "cell_type": "code",
      "metadata": {
        "id": "Y9DiCapzBBJO"
      },
      "source": [
        "air_reserve.head()"
      ],
      "execution_count": null,
      "outputs": []
    },
    {
      "cell_type": "code",
      "metadata": {
        "id": "Sa4KafywA6zA"
      },
      "source": [
        "# air_reserve['air_visitors'] = air_reserve['reserve_visitors']\n",
        "air_reserve = air_reserve.rename(columns={'visit_datetime': 'air_visit_datetime',\n",
        "                                          'reserve_datetime': 'air_reserve_datetime',\n",
        "                                          'reserve_visitors': 'air_reserve_visitors'})\n",
        "air_reserve['air_visit_datetime'] = pd.to_datetime(air_reserve['air_visit_datetime'])\n",
        "air_reserve['air_reserve_datetime'] = pd.to_datetime(air_reserve['air_reserve_datetime'])\n",
        "\n",
        "air_reserve.info()"
      ],
      "execution_count": null,
      "outputs": []
    },
    {
      "cell_type": "code",
      "metadata": {
        "id": "S7NYzrV7FoQM"
      },
      "source": [
        "hpg_reserve = hpg_reserve.rename(columns={'visit_datetime': 'hpg_visit_datetime',\n",
        "                                          'reserve_datetime': 'hpg_reserve_datetime',\n",
        "                                          'reserve_visitors': 'hpg_reserve_visitors'})\n",
        "\n",
        "hpg_reserve['hpg_visit_datetime'] = pd.to_datetime(hpg_reserve['hpg_visit_datetime'])\n",
        "hpg_reserve['hpg_reserve_datetime'] = pd.to_datetime(hpg_reserve['hpg_reserve_datetime'])\n",
        "\n",
        "hpg_reserve.info()"
      ],
      "execution_count": null,
      "outputs": []
    },
    {
      "cell_type": "code",
      "metadata": {
        "id": "ZivVzPTnKI2z"
      },
      "source": [
        "hpg_reserve"
      ],
      "execution_count": null,
      "outputs": []
    },
    {
      "cell_type": "code",
      "metadata": {
        "id": "hvuH9Fkf9iDx"
      },
      "source": [
        "stores = pd.merge(store_id_relation, air_reserve, how='inner', on='air_store_id')\n",
        "stores"
      ],
      "execution_count": null,
      "outputs": []
    },
    {
      "cell_type": "code",
      "metadata": {
        "id": "II-4qggC_jx4"
      },
      "source": [
        "stores = pd.merge(stores, hpg_reserve, how='inner', on='hpg_store_id')\n",
        "stores"
      ],
      "execution_count": null,
      "outputs": []
    },
    {
      "cell_type": "code",
      "metadata": {
        "id": "alhbhyj4MCq1"
      },
      "source": [
        "store_id_relation"
      ],
      "execution_count": null,
      "outputs": []
    },
    {
      "cell_type": "code",
      "metadata": {
        "id": "KV50R-pEK84h"
      },
      "source": [
        ""
      ],
      "execution_count": null,
      "outputs": []
    },
    {
      "cell_type": "code",
      "metadata": {
        "id": "kJtsgDcZLKSV"
      },
      "source": [
        ""
      ],
      "execution_count": null,
      "outputs": []
    }
  ]
}