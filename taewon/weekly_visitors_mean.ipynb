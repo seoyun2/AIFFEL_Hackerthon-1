{
  "nbformat": 4,
  "nbformat_minor": 0,
  "metadata": {
    "colab": {
      "name": "Hackerton_1.ipynb",
      "provenance": [],
      "include_colab_link": true
    },
    "kernelspec": {
      "name": "python3",
      "display_name": "Python 3"
    },
    "language_info": {
      "name": "python"
    }
  },
  "cells": [
    {
      "cell_type": "markdown",
      "metadata": {
        "id": "view-in-github",
        "colab_type": "text"
      },
      "source": [
        "<a href=\"https://colab.research.google.com/github/t1seo/AIFFEL_Hackerthon-1/blob/main/taewon/weekly_visitors_mean.ipynb\" target=\"_parent\"><img src=\"https://colab.research.google.com/assets/colab-badge.svg\" alt=\"Open In Colab\"/></a>"
      ]
    },
    {
      "cell_type": "markdown",
      "metadata": {
        "id": "qfwZOFg5am2z"
      },
      "source": [
        "- [Surprised Yet? - Part2 - (LB: 0.503)](https://www.kaggle.com/jdpaletto/surprised-yet-part2-lb-0-503)"
      ]
    },
    {
      "cell_type": "code",
      "metadata": {
        "colab": {
          "base_uri": "https://localhost:8080/"
        },
        "id": "i0OJoh34Y2cB",
        "outputId": "ac9295e2-35fb-41fb-ef0e-54942fcaac49"
      },
      "source": [
        "from google.colab import drive\n",
        "drive.mount('/content/drive')"
      ],
      "execution_count": 1,
      "outputs": [
        {
          "output_type": "stream",
          "text": [
            "Drive already mounted at /content/drive; to attempt to forcibly remount, call drive.mount(\"/content/drive\", force_remount=True).\n"
          ],
          "name": "stdout"
        }
      ]
    },
    {
      "cell_type": "code",
      "metadata": {
        "colab": {
          "base_uri": "https://localhost:8080/"
        },
        "id": "OW9_l0fGY3tq",
        "outputId": "51e8c03d-5dee-4fdc-8220-8b6eec496dd3"
      },
      "source": [
        "cd /content/drive/MyDrive/data/Restaurant_Visitor_Forecasting"
      ],
      "execution_count": 2,
      "outputs": [
        {
          "output_type": "stream",
          "text": [
            "/content/drive/MyDrive/data/Restaurant_Visitor_Forecasting\n"
          ],
          "name": "stdout"
        }
      ]
    },
    {
      "cell_type": "code",
      "metadata": {
        "id": "a7E6z7gxPv1y"
      },
      "source": [
        "import numpy as np\n",
        "import pandas as pd\n",
        "from sklearn import ensemble, neighbors, linear_model, metrics, preprocessing\n",
        "from datetime import datetime\n",
        "\n",
        "import warnings\n",
        "warnings.filterwarnings(\"ignore\")"
      ],
      "execution_count": 3,
      "outputs": []
    },
    {
      "cell_type": "markdown",
      "metadata": {
        "id": "gMiCsag5z7np"
      },
      "source": [
        "## 데이터 불러오기"
      ]
    },
    {
      "cell_type": "code",
      "metadata": {
        "id": "KaOsakJ6sgPV"
      },
      "source": [
        "air_reserve = pd.read_csv('air_reserve.csv')\n",
        "hpg_reserve = pd.read_csv('hpg_reserve.csv')\n",
        "air_store_info = pd.read_csv('air_store_info.csv')\n",
        "hpg_store_info = pd.read_csv('hpg_store_info.csv')\n",
        "store_id_relation = pd.read_csv('store_id_relation.csv')\n",
        "air_visit_data = pd.read_csv('air_visit_data.csv')\n",
        "sample_submission = pd.read_csv('sample_submission.csv')\n",
        "date_info = pd.read_csv('date_info.csv')"
      ],
      "execution_count": 4,
      "outputs": []
    },
    {
      "cell_type": "code",
      "metadata": {
        "id": "Zx0WGV4LQbhd"
      },
      "source": [
        "# data = {\n",
        "#     'tra': pd.read_csv('air_visit_data.csv'),\n",
        "#     'as': pd.read_csv('air_store_info.csv'),\n",
        "#     'hs': pd.read_csv('hpg_store_info.csv'),\n",
        "#     'ar': pd.read_csv('air_reserve.csv'),\n",
        "#     'hr': pd.read_csv('hpg_reserve.csv'),\n",
        "#     'id': pd.read_csv('store_id_relation.csv'),\n",
        "#     'tes': pd.read_csv('sample_submission.csv'),\n",
        "#     'hol': pd.read_csv('date_info.csv').rename(columns={'calendar_date':'visit_date'})\n",
        "# }"
      ],
      "execution_count": 5,
      "outputs": []
    },
    {
      "cell_type": "markdown",
      "metadata": {
        "id": "b6RpGoyR3BA9"
      },
      "source": [
        "### hpg 데이터 중에서 store_id_relation에 있는 id만 가져오기"
      ]
    },
    {
      "cell_type": "code",
      "metadata": {
        "colab": {
          "base_uri": "https://localhost:8080/",
          "height": 419
        },
        "id": "leQeJRpT0fLZ",
        "outputId": "1f5c75c8-0ef0-4262-d355-685106a42eea"
      },
      "source": [
        "store_id_relation # id는 총 150개"
      ],
      "execution_count": 6,
      "outputs": [
        {
          "output_type": "execute_result",
          "data": {
            "text/html": [
              "<div>\n",
              "<style scoped>\n",
              "    .dataframe tbody tr th:only-of-type {\n",
              "        vertical-align: middle;\n",
              "    }\n",
              "\n",
              "    .dataframe tbody tr th {\n",
              "        vertical-align: top;\n",
              "    }\n",
              "\n",
              "    .dataframe thead th {\n",
              "        text-align: right;\n",
              "    }\n",
              "</style>\n",
              "<table border=\"1\" class=\"dataframe\">\n",
              "  <thead>\n",
              "    <tr style=\"text-align: right;\">\n",
              "      <th></th>\n",
              "      <th>air_store_id</th>\n",
              "      <th>hpg_store_id</th>\n",
              "    </tr>\n",
              "  </thead>\n",
              "  <tbody>\n",
              "    <tr>\n",
              "      <th>0</th>\n",
              "      <td>air_63b13c56b7201bd9</td>\n",
              "      <td>hpg_4bc649e72e2a239a</td>\n",
              "    </tr>\n",
              "    <tr>\n",
              "      <th>1</th>\n",
              "      <td>air_a24bf50c3e90d583</td>\n",
              "      <td>hpg_c34b496d0305a809</td>\n",
              "    </tr>\n",
              "    <tr>\n",
              "      <th>2</th>\n",
              "      <td>air_c7f78b4f3cba33ff</td>\n",
              "      <td>hpg_cd8ae0d9bbd58ff9</td>\n",
              "    </tr>\n",
              "    <tr>\n",
              "      <th>3</th>\n",
              "      <td>air_947eb2cae4f3e8f2</td>\n",
              "      <td>hpg_de24ea49dc25d6b8</td>\n",
              "    </tr>\n",
              "    <tr>\n",
              "      <th>4</th>\n",
              "      <td>air_965b2e0cf4119003</td>\n",
              "      <td>hpg_653238a84804d8e7</td>\n",
              "    </tr>\n",
              "    <tr>\n",
              "      <th>...</th>\n",
              "      <td>...</td>\n",
              "      <td>...</td>\n",
              "    </tr>\n",
              "    <tr>\n",
              "      <th>145</th>\n",
              "      <td>air_b8925441167c3152</td>\n",
              "      <td>hpg_0cc0abae3a8b52de</td>\n",
              "    </tr>\n",
              "    <tr>\n",
              "      <th>146</th>\n",
              "      <td>air_f8233ad00755c35c</td>\n",
              "      <td>hpg_098e4dd30e54fee6</td>\n",
              "    </tr>\n",
              "    <tr>\n",
              "      <th>147</th>\n",
              "      <td>air_6607fe3671242ce3</td>\n",
              "      <td>hpg_1004356dc8ab69ec</td>\n",
              "    </tr>\n",
              "    <tr>\n",
              "      <th>148</th>\n",
              "      <td>air_ccd19a5bc5573ae5</td>\n",
              "      <td>hpg_df22bf146d2c7e19</td>\n",
              "    </tr>\n",
              "    <tr>\n",
              "      <th>149</th>\n",
              "      <td>air_465bddfed3353b23</td>\n",
              "      <td>hpg_23c5945dc1a72454</td>\n",
              "    </tr>\n",
              "  </tbody>\n",
              "</table>\n",
              "<p>150 rows × 2 columns</p>\n",
              "</div>"
            ],
            "text/plain": [
              "             air_store_id          hpg_store_id\n",
              "0    air_63b13c56b7201bd9  hpg_4bc649e72e2a239a\n",
              "1    air_a24bf50c3e90d583  hpg_c34b496d0305a809\n",
              "2    air_c7f78b4f3cba33ff  hpg_cd8ae0d9bbd58ff9\n",
              "3    air_947eb2cae4f3e8f2  hpg_de24ea49dc25d6b8\n",
              "4    air_965b2e0cf4119003  hpg_653238a84804d8e7\n",
              "..                    ...                   ...\n",
              "145  air_b8925441167c3152  hpg_0cc0abae3a8b52de\n",
              "146  air_f8233ad00755c35c  hpg_098e4dd30e54fee6\n",
              "147  air_6607fe3671242ce3  hpg_1004356dc8ab69ec\n",
              "148  air_ccd19a5bc5573ae5  hpg_df22bf146d2c7e19\n",
              "149  air_465bddfed3353b23  hpg_23c5945dc1a72454\n",
              "\n",
              "[150 rows x 2 columns]"
            ]
          },
          "metadata": {
            "tags": []
          },
          "execution_count": 6
        }
      ]
    },
    {
      "cell_type": "markdown",
      "metadata": {
        "id": "nrpDtMod3Xxz"
      },
      "source": [
        "- `id`는 총 150개이고 `hpg` 데이터 중에서 `id`에 있는 데이터들만 사용을 한다."
      ]
    },
    {
      "cell_type": "code",
      "metadata": {
        "colab": {
          "base_uri": "https://localhost:8080/"
        },
        "id": "LOK6dMuf2tvp",
        "outputId": "8de482cd-b882-416c-9af5-eedda521b463"
      },
      "source": [
        "len(hpg_reserve)"
      ],
      "execution_count": 7,
      "outputs": [
        {
          "output_type": "execute_result",
          "data": {
            "text/plain": [
              "2000320"
            ]
          },
          "metadata": {
            "tags": []
          },
          "execution_count": 7
        }
      ]
    },
    {
      "cell_type": "code",
      "metadata": {
        "colab": {
          "base_uri": "https://localhost:8080/",
          "height": 204
        },
        "id": "q7R9pu-7Q-Ni",
        "outputId": "d621c74d-3ad1-4ece-f721-9e5feff12155"
      },
      "source": [
        "# hpg_reserve.csv에 store_id_relation.csv를 hpg_store_id 기준으로 inner merge\n",
        "hpg_reserve = pd.merge(hpg_reserve, store_id_relation, how='inner', on=['hpg_store_id'])\n",
        "\n",
        "hpg_reserve.head()"
      ],
      "execution_count": 8,
      "outputs": [
        {
          "output_type": "execute_result",
          "data": {
            "text/html": [
              "<div>\n",
              "<style scoped>\n",
              "    .dataframe tbody tr th:only-of-type {\n",
              "        vertical-align: middle;\n",
              "    }\n",
              "\n",
              "    .dataframe tbody tr th {\n",
              "        vertical-align: top;\n",
              "    }\n",
              "\n",
              "    .dataframe thead th {\n",
              "        text-align: right;\n",
              "    }\n",
              "</style>\n",
              "<table border=\"1\" class=\"dataframe\">\n",
              "  <thead>\n",
              "    <tr style=\"text-align: right;\">\n",
              "      <th></th>\n",
              "      <th>hpg_store_id</th>\n",
              "      <th>visit_datetime</th>\n",
              "      <th>reserve_datetime</th>\n",
              "      <th>reserve_visitors</th>\n",
              "      <th>air_store_id</th>\n",
              "    </tr>\n",
              "  </thead>\n",
              "  <tbody>\n",
              "    <tr>\n",
              "      <th>0</th>\n",
              "      <td>hpg_878cc70b1abc76f7</td>\n",
              "      <td>2016-01-01 19:00:00</td>\n",
              "      <td>2016-01-01 15:00:00</td>\n",
              "      <td>4</td>\n",
              "      <td>air_db80363d35f10926</td>\n",
              "    </tr>\n",
              "    <tr>\n",
              "      <th>1</th>\n",
              "      <td>hpg_878cc70b1abc76f7</td>\n",
              "      <td>2016-01-02 19:00:00</td>\n",
              "      <td>2016-01-02 14:00:00</td>\n",
              "      <td>2</td>\n",
              "      <td>air_db80363d35f10926</td>\n",
              "    </tr>\n",
              "    <tr>\n",
              "      <th>2</th>\n",
              "      <td>hpg_878cc70b1abc76f7</td>\n",
              "      <td>2016-01-03 18:00:00</td>\n",
              "      <td>2016-01-02 20:00:00</td>\n",
              "      <td>6</td>\n",
              "      <td>air_db80363d35f10926</td>\n",
              "    </tr>\n",
              "    <tr>\n",
              "      <th>3</th>\n",
              "      <td>hpg_878cc70b1abc76f7</td>\n",
              "      <td>2016-01-06 20:00:00</td>\n",
              "      <td>2016-01-04 22:00:00</td>\n",
              "      <td>3</td>\n",
              "      <td>air_db80363d35f10926</td>\n",
              "    </tr>\n",
              "    <tr>\n",
              "      <th>4</th>\n",
              "      <td>hpg_878cc70b1abc76f7</td>\n",
              "      <td>2016-01-11 18:00:00</td>\n",
              "      <td>2016-01-11 14:00:00</td>\n",
              "      <td>2</td>\n",
              "      <td>air_db80363d35f10926</td>\n",
              "    </tr>\n",
              "  </tbody>\n",
              "</table>\n",
              "</div>"
            ],
            "text/plain": [
              "           hpg_store_id  ...          air_store_id\n",
              "0  hpg_878cc70b1abc76f7  ...  air_db80363d35f10926\n",
              "1  hpg_878cc70b1abc76f7  ...  air_db80363d35f10926\n",
              "2  hpg_878cc70b1abc76f7  ...  air_db80363d35f10926\n",
              "3  hpg_878cc70b1abc76f7  ...  air_db80363d35f10926\n",
              "4  hpg_878cc70b1abc76f7  ...  air_db80363d35f10926\n",
              "\n",
              "[5 rows x 5 columns]"
            ]
          },
          "metadata": {
            "tags": []
          },
          "execution_count": 8
        }
      ]
    },
    {
      "cell_type": "code",
      "metadata": {
        "colab": {
          "base_uri": "https://localhost:8080/"
        },
        "id": "tfvseNOI0ZSj",
        "outputId": "a4922b6f-3d8d-480e-fc6b-7fe5ed4d46e4"
      },
      "source": [
        "len(hpg_reserve)"
      ],
      "execution_count": 9,
      "outputs": [
        {
          "output_type": "execute_result",
          "data": {
            "text/plain": [
              "28183"
            ]
          },
          "metadata": {
            "tags": []
          },
          "execution_count": 9
        }
      ]
    },
    {
      "cell_type": "markdown",
      "metadata": {
        "id": "CfqWd61_3jjd"
      },
      "source": [
        "- `id`만 있는 데이터들만 `merge`한 결과 데이터 개수가 크게 줄었다. \n",
        "    - 2000320 -> 28183"
      ]
    },
    {
      "cell_type": "markdown",
      "metadata": {
        "id": "ceVmu5ih5tb-"
      },
      "source": [
        "## 시계열 데이터 처리\n",
        "- 연월일시 -> 연월일\n"
      ]
    },
    {
      "cell_type": "code",
      "metadata": {
        "id": "ARHKD8fURZD9"
      },
      "source": [
        "air_reserve['visit_datetime'] = pd.to_datetime(air_reserve['visit_datetime'])\n",
        "    # str을 datetime으로 변환\n",
        "air_reserve['visit_datetime'] = air_reserve['visit_datetime'].dt.date\n",
        "    # datetime을 dt.date로 변환 \n",
        "air_reserve['reserve_datetime'] = pd.to_datetime(air_reserve['reserve_datetime'])\n",
        "    # str을 datetime으로 변환\n",
        "air_reserve['reserve_datetime'] = air_reserve['reserve_datetime'].dt.date"
      ],
      "execution_count": 10,
      "outputs": []
    },
    {
      "cell_type": "code",
      "metadata": {
        "id": "YqBl5ooMu-4-",
        "outputId": "4c6051d0-c256-4fe0-d66d-c98664426071",
        "colab": {
          "base_uri": "https://localhost:8080/",
          "height": 204
        }
      },
      "source": [
        "air_reserve.head()"
      ],
      "execution_count": 11,
      "outputs": [
        {
          "output_type": "execute_result",
          "data": {
            "text/html": [
              "<div>\n",
              "<style scoped>\n",
              "    .dataframe tbody tr th:only-of-type {\n",
              "        vertical-align: middle;\n",
              "    }\n",
              "\n",
              "    .dataframe tbody tr th {\n",
              "        vertical-align: top;\n",
              "    }\n",
              "\n",
              "    .dataframe thead th {\n",
              "        text-align: right;\n",
              "    }\n",
              "</style>\n",
              "<table border=\"1\" class=\"dataframe\">\n",
              "  <thead>\n",
              "    <tr style=\"text-align: right;\">\n",
              "      <th></th>\n",
              "      <th>air_store_id</th>\n",
              "      <th>visit_datetime</th>\n",
              "      <th>reserve_datetime</th>\n",
              "      <th>reserve_visitors</th>\n",
              "    </tr>\n",
              "  </thead>\n",
              "  <tbody>\n",
              "    <tr>\n",
              "      <th>0</th>\n",
              "      <td>air_877f79706adbfb06</td>\n",
              "      <td>2016-01-01</td>\n",
              "      <td>2016-01-01</td>\n",
              "      <td>1</td>\n",
              "    </tr>\n",
              "    <tr>\n",
              "      <th>1</th>\n",
              "      <td>air_db4b38ebe7a7ceff</td>\n",
              "      <td>2016-01-01</td>\n",
              "      <td>2016-01-01</td>\n",
              "      <td>3</td>\n",
              "    </tr>\n",
              "    <tr>\n",
              "      <th>2</th>\n",
              "      <td>air_db4b38ebe7a7ceff</td>\n",
              "      <td>2016-01-01</td>\n",
              "      <td>2016-01-01</td>\n",
              "      <td>6</td>\n",
              "    </tr>\n",
              "    <tr>\n",
              "      <th>3</th>\n",
              "      <td>air_877f79706adbfb06</td>\n",
              "      <td>2016-01-01</td>\n",
              "      <td>2016-01-01</td>\n",
              "      <td>2</td>\n",
              "    </tr>\n",
              "    <tr>\n",
              "      <th>4</th>\n",
              "      <td>air_db80363d35f10926</td>\n",
              "      <td>2016-01-01</td>\n",
              "      <td>2016-01-01</td>\n",
              "      <td>5</td>\n",
              "    </tr>\n",
              "  </tbody>\n",
              "</table>\n",
              "</div>"
            ],
            "text/plain": [
              "           air_store_id visit_datetime reserve_datetime  reserve_visitors\n",
              "0  air_877f79706adbfb06     2016-01-01       2016-01-01                 1\n",
              "1  air_db4b38ebe7a7ceff     2016-01-01       2016-01-01                 3\n",
              "2  air_db4b38ebe7a7ceff     2016-01-01       2016-01-01                 6\n",
              "3  air_877f79706adbfb06     2016-01-01       2016-01-01                 2\n",
              "4  air_db80363d35f10926     2016-01-01       2016-01-01                 5"
            ]
          },
          "metadata": {
            "tags": []
          },
          "execution_count": 11
        }
      ]
    },
    {
      "cell_type": "code",
      "metadata": {
        "id": "yaaQTxguuv3S"
      },
      "source": [
        "hpg_reserve['visit_datetime'] = pd.to_datetime(hpg_reserve['visit_datetime'])\n",
        "    # str을 datetime으로 변환\n",
        "hpg_reserve['visit_datetime'] = hpg_reserve['visit_datetime'].dt.date\n",
        "    # datetime을 dt.date로 변환 \n",
        "hpg_reserve['reserve_datetime'] = pd.to_datetime(air_reserve['reserve_datetime'])\n",
        "    # str을 datetime으로 변환\n",
        "hpg_reserve['reserve_datetime'] = hpg_reserve['reserve_datetime'].dt.date\n"
      ],
      "execution_count": 12,
      "outputs": []
    },
    {
      "cell_type": "code",
      "metadata": {
        "id": "V_4f0fFTvO9B",
        "outputId": "f819f60a-c543-49ed-934f-a7b8bd8211ad",
        "colab": {
          "base_uri": "https://localhost:8080/",
          "height": 204
        }
      },
      "source": [
        "hpg_reserve.head()"
      ],
      "execution_count": 13,
      "outputs": [
        {
          "output_type": "execute_result",
          "data": {
            "text/html": [
              "<div>\n",
              "<style scoped>\n",
              "    .dataframe tbody tr th:only-of-type {\n",
              "        vertical-align: middle;\n",
              "    }\n",
              "\n",
              "    .dataframe tbody tr th {\n",
              "        vertical-align: top;\n",
              "    }\n",
              "\n",
              "    .dataframe thead th {\n",
              "        text-align: right;\n",
              "    }\n",
              "</style>\n",
              "<table border=\"1\" class=\"dataframe\">\n",
              "  <thead>\n",
              "    <tr style=\"text-align: right;\">\n",
              "      <th></th>\n",
              "      <th>hpg_store_id</th>\n",
              "      <th>visit_datetime</th>\n",
              "      <th>reserve_datetime</th>\n",
              "      <th>reserve_visitors</th>\n",
              "      <th>air_store_id</th>\n",
              "    </tr>\n",
              "  </thead>\n",
              "  <tbody>\n",
              "    <tr>\n",
              "      <th>0</th>\n",
              "      <td>hpg_878cc70b1abc76f7</td>\n",
              "      <td>2016-01-01</td>\n",
              "      <td>2016-01-01</td>\n",
              "      <td>4</td>\n",
              "      <td>air_db80363d35f10926</td>\n",
              "    </tr>\n",
              "    <tr>\n",
              "      <th>1</th>\n",
              "      <td>hpg_878cc70b1abc76f7</td>\n",
              "      <td>2016-01-02</td>\n",
              "      <td>2016-01-01</td>\n",
              "      <td>2</td>\n",
              "      <td>air_db80363d35f10926</td>\n",
              "    </tr>\n",
              "    <tr>\n",
              "      <th>2</th>\n",
              "      <td>hpg_878cc70b1abc76f7</td>\n",
              "      <td>2016-01-03</td>\n",
              "      <td>2016-01-01</td>\n",
              "      <td>6</td>\n",
              "      <td>air_db80363d35f10926</td>\n",
              "    </tr>\n",
              "    <tr>\n",
              "      <th>3</th>\n",
              "      <td>hpg_878cc70b1abc76f7</td>\n",
              "      <td>2016-01-06</td>\n",
              "      <td>2016-01-01</td>\n",
              "      <td>3</td>\n",
              "      <td>air_db80363d35f10926</td>\n",
              "    </tr>\n",
              "    <tr>\n",
              "      <th>4</th>\n",
              "      <td>hpg_878cc70b1abc76f7</td>\n",
              "      <td>2016-01-11</td>\n",
              "      <td>2016-01-01</td>\n",
              "      <td>2</td>\n",
              "      <td>air_db80363d35f10926</td>\n",
              "    </tr>\n",
              "  </tbody>\n",
              "</table>\n",
              "</div>"
            ],
            "text/plain": [
              "           hpg_store_id visit_datetime  ... reserve_visitors          air_store_id\n",
              "0  hpg_878cc70b1abc76f7     2016-01-01  ...                4  air_db80363d35f10926\n",
              "1  hpg_878cc70b1abc76f7     2016-01-02  ...                2  air_db80363d35f10926\n",
              "2  hpg_878cc70b1abc76f7     2016-01-03  ...                6  air_db80363d35f10926\n",
              "3  hpg_878cc70b1abc76f7     2016-01-06  ...                3  air_db80363d35f10926\n",
              "4  hpg_878cc70b1abc76f7     2016-01-11  ...                2  air_db80363d35f10926\n",
              "\n",
              "[5 rows x 5 columns]"
            ]
          },
          "metadata": {
            "tags": []
          },
          "execution_count": 13
        }
      ]
    },
    {
      "cell_type": "markdown",
      "metadata": {
        "id": "eAtYySVT65v0"
      },
      "source": [
        "### `air_store_id`와 `visit_datetime`으로 `groupby`"
      ]
    },
    {
      "cell_type": "code",
      "metadata": {
        "id": "YRu7k9Ou6lHi"
      },
      "source": [
        "air_reserve = air_reserve.groupby(['air_store_id','visit_datetime'], as_index=False)[['reserve_visitors']].sum()\n",
        "air_reserve = air_reserve.rename(columns={'visit_datetime':'visit_date'})"
      ],
      "execution_count": 14,
      "outputs": []
    },
    {
      "cell_type": "code",
      "metadata": {
        "id": "HMZ1XRHTvj1n",
        "outputId": "21de54c7-8c2e-45fa-cf44-5aeca0992987",
        "colab": {
          "base_uri": "https://localhost:8080/",
          "height": 419
        }
      },
      "source": [
        "air_reserve"
      ],
      "execution_count": 15,
      "outputs": [
        {
          "output_type": "execute_result",
          "data": {
            "text/html": [
              "<div>\n",
              "<style scoped>\n",
              "    .dataframe tbody tr th:only-of-type {\n",
              "        vertical-align: middle;\n",
              "    }\n",
              "\n",
              "    .dataframe tbody tr th {\n",
              "        vertical-align: top;\n",
              "    }\n",
              "\n",
              "    .dataframe thead th {\n",
              "        text-align: right;\n",
              "    }\n",
              "</style>\n",
              "<table border=\"1\" class=\"dataframe\">\n",
              "  <thead>\n",
              "    <tr style=\"text-align: right;\">\n",
              "      <th></th>\n",
              "      <th>air_store_id</th>\n",
              "      <th>visit_date</th>\n",
              "      <th>reserve_visitors</th>\n",
              "    </tr>\n",
              "  </thead>\n",
              "  <tbody>\n",
              "    <tr>\n",
              "      <th>0</th>\n",
              "      <td>air_00a91d42b08b08d9</td>\n",
              "      <td>2016-10-31</td>\n",
              "      <td>2</td>\n",
              "    </tr>\n",
              "    <tr>\n",
              "      <th>1</th>\n",
              "      <td>air_00a91d42b08b08d9</td>\n",
              "      <td>2016-12-05</td>\n",
              "      <td>9</td>\n",
              "    </tr>\n",
              "    <tr>\n",
              "      <th>2</th>\n",
              "      <td>air_00a91d42b08b08d9</td>\n",
              "      <td>2016-12-14</td>\n",
              "      <td>18</td>\n",
              "    </tr>\n",
              "    <tr>\n",
              "      <th>3</th>\n",
              "      <td>air_00a91d42b08b08d9</td>\n",
              "      <td>2016-12-17</td>\n",
              "      <td>2</td>\n",
              "    </tr>\n",
              "    <tr>\n",
              "      <th>4</th>\n",
              "      <td>air_00a91d42b08b08d9</td>\n",
              "      <td>2016-12-20</td>\n",
              "      <td>4</td>\n",
              "    </tr>\n",
              "    <tr>\n",
              "      <th>...</th>\n",
              "      <td>...</td>\n",
              "      <td>...</td>\n",
              "      <td>...</td>\n",
              "    </tr>\n",
              "    <tr>\n",
              "      <th>29825</th>\n",
              "      <td>air_fea5dc9594450608</td>\n",
              "      <td>2017-04-22</td>\n",
              "      <td>2</td>\n",
              "    </tr>\n",
              "    <tr>\n",
              "      <th>29826</th>\n",
              "      <td>air_fea5dc9594450608</td>\n",
              "      <td>2017-04-25</td>\n",
              "      <td>2</td>\n",
              "    </tr>\n",
              "    <tr>\n",
              "      <th>29827</th>\n",
              "      <td>air_fea5dc9594450608</td>\n",
              "      <td>2017-04-28</td>\n",
              "      <td>3</td>\n",
              "    </tr>\n",
              "    <tr>\n",
              "      <th>29828</th>\n",
              "      <td>air_fea5dc9594450608</td>\n",
              "      <td>2017-05-20</td>\n",
              "      <td>6</td>\n",
              "    </tr>\n",
              "    <tr>\n",
              "      <th>29829</th>\n",
              "      <td>air_fee8dcf4d619598e</td>\n",
              "      <td>2017-01-09</td>\n",
              "      <td>5</td>\n",
              "    </tr>\n",
              "  </tbody>\n",
              "</table>\n",
              "<p>29830 rows × 3 columns</p>\n",
              "</div>"
            ],
            "text/plain": [
              "               air_store_id  visit_date  reserve_visitors\n",
              "0      air_00a91d42b08b08d9  2016-10-31                 2\n",
              "1      air_00a91d42b08b08d9  2016-12-05                 9\n",
              "2      air_00a91d42b08b08d9  2016-12-14                18\n",
              "3      air_00a91d42b08b08d9  2016-12-17                 2\n",
              "4      air_00a91d42b08b08d9  2016-12-20                 4\n",
              "...                     ...         ...               ...\n",
              "29825  air_fea5dc9594450608  2017-04-22                 2\n",
              "29826  air_fea5dc9594450608  2017-04-25                 2\n",
              "29827  air_fea5dc9594450608  2017-04-28                 3\n",
              "29828  air_fea5dc9594450608  2017-05-20                 6\n",
              "29829  air_fee8dcf4d619598e  2017-01-09                 5\n",
              "\n",
              "[29830 rows x 3 columns]"
            ]
          },
          "metadata": {
            "tags": []
          },
          "execution_count": 15
        }
      ]
    },
    {
      "cell_type": "code",
      "metadata": {
        "id": "4jYkbdtmvT2w"
      },
      "source": [
        "hpg_reserve = hpg_reserve.groupby(['air_store_id','visit_datetime'], as_index=False)[['reserve_visitors']].sum()\n",
        "air_reserve = hpg_reserve.rename(columns={'visit_datetime':'visit_date'})"
      ],
      "execution_count": 16,
      "outputs": []
    },
    {
      "cell_type": "code",
      "metadata": {
        "colab": {
          "base_uri": "https://localhost:8080/",
          "height": 419
        },
        "id": "vbt1k03-tJLj",
        "outputId": "b6597122-2d60-4469-a3ff-f3f2e6cd2afa"
      },
      "source": [
        "hpg_reserve"
      ],
      "execution_count": 17,
      "outputs": [
        {
          "output_type": "execute_result",
          "data": {
            "text/html": [
              "<div>\n",
              "<style scoped>\n",
              "    .dataframe tbody tr th:only-of-type {\n",
              "        vertical-align: middle;\n",
              "    }\n",
              "\n",
              "    .dataframe tbody tr th {\n",
              "        vertical-align: top;\n",
              "    }\n",
              "\n",
              "    .dataframe thead th {\n",
              "        text-align: right;\n",
              "    }\n",
              "</style>\n",
              "<table border=\"1\" class=\"dataframe\">\n",
              "  <thead>\n",
              "    <tr style=\"text-align: right;\">\n",
              "      <th></th>\n",
              "      <th>air_store_id</th>\n",
              "      <th>visit_datetime</th>\n",
              "      <th>reserve_visitors</th>\n",
              "    </tr>\n",
              "  </thead>\n",
              "  <tbody>\n",
              "    <tr>\n",
              "      <th>0</th>\n",
              "      <td>air_00a91d42b08b08d9</td>\n",
              "      <td>2016-01-14</td>\n",
              "      <td>2</td>\n",
              "    </tr>\n",
              "    <tr>\n",
              "      <th>1</th>\n",
              "      <td>air_00a91d42b08b08d9</td>\n",
              "      <td>2016-01-15</td>\n",
              "      <td>4</td>\n",
              "    </tr>\n",
              "    <tr>\n",
              "      <th>2</th>\n",
              "      <td>air_00a91d42b08b08d9</td>\n",
              "      <td>2016-01-16</td>\n",
              "      <td>2</td>\n",
              "    </tr>\n",
              "    <tr>\n",
              "      <th>3</th>\n",
              "      <td>air_00a91d42b08b08d9</td>\n",
              "      <td>2016-01-22</td>\n",
              "      <td>2</td>\n",
              "    </tr>\n",
              "    <tr>\n",
              "      <th>4</th>\n",
              "      <td>air_00a91d42b08b08d9</td>\n",
              "      <td>2016-01-29</td>\n",
              "      <td>5</td>\n",
              "    </tr>\n",
              "    <tr>\n",
              "      <th>...</th>\n",
              "      <td>...</td>\n",
              "      <td>...</td>\n",
              "      <td>...</td>\n",
              "    </tr>\n",
              "    <tr>\n",
              "      <th>18615</th>\n",
              "      <td>air_fea5dc9594450608</td>\n",
              "      <td>2017-04-21</td>\n",
              "      <td>2</td>\n",
              "    </tr>\n",
              "    <tr>\n",
              "      <th>18616</th>\n",
              "      <td>air_fea5dc9594450608</td>\n",
              "      <td>2017-04-22</td>\n",
              "      <td>2</td>\n",
              "    </tr>\n",
              "    <tr>\n",
              "      <th>18617</th>\n",
              "      <td>air_fea5dc9594450608</td>\n",
              "      <td>2017-04-25</td>\n",
              "      <td>2</td>\n",
              "    </tr>\n",
              "    <tr>\n",
              "      <th>18618</th>\n",
              "      <td>air_fea5dc9594450608</td>\n",
              "      <td>2017-04-28</td>\n",
              "      <td>3</td>\n",
              "    </tr>\n",
              "    <tr>\n",
              "      <th>18619</th>\n",
              "      <td>air_fea5dc9594450608</td>\n",
              "      <td>2017-05-20</td>\n",
              "      <td>6</td>\n",
              "    </tr>\n",
              "  </tbody>\n",
              "</table>\n",
              "<p>18620 rows × 3 columns</p>\n",
              "</div>"
            ],
            "text/plain": [
              "               air_store_id visit_datetime  reserve_visitors\n",
              "0      air_00a91d42b08b08d9     2016-01-14                 2\n",
              "1      air_00a91d42b08b08d9     2016-01-15                 4\n",
              "2      air_00a91d42b08b08d9     2016-01-16                 2\n",
              "3      air_00a91d42b08b08d9     2016-01-22                 2\n",
              "4      air_00a91d42b08b08d9     2016-01-29                 5\n",
              "...                     ...            ...               ...\n",
              "18615  air_fea5dc9594450608     2017-04-21                 2\n",
              "18616  air_fea5dc9594450608     2017-04-22                 2\n",
              "18617  air_fea5dc9594450608     2017-04-25                 2\n",
              "18618  air_fea5dc9594450608     2017-04-28                 3\n",
              "18619  air_fea5dc9594450608     2017-05-20                 6\n",
              "\n",
              "[18620 rows x 3 columns]"
            ]
          },
          "metadata": {
            "tags": []
          },
          "execution_count": 17
        }
      ]
    },
    {
      "cell_type": "markdown",
      "metadata": {
        "id": "F3yb2GGF7QgG"
      },
      "source": [
        "## `air_visit_data`에 `day_of_week`, `year`, `month` 추가"
      ]
    },
    {
      "cell_type": "code",
      "metadata": {
        "colab": {
          "base_uri": "https://localhost:8080/",
          "height": 419
        },
        "id": "GPhahHVzvx4Z",
        "outputId": "8af6d436-63dc-4c6e-b224-ab9291e68aed"
      },
      "source": [
        "air_visit_data"
      ],
      "execution_count": 18,
      "outputs": [
        {
          "output_type": "execute_result",
          "data": {
            "text/html": [
              "<div>\n",
              "<style scoped>\n",
              "    .dataframe tbody tr th:only-of-type {\n",
              "        vertical-align: middle;\n",
              "    }\n",
              "\n",
              "    .dataframe tbody tr th {\n",
              "        vertical-align: top;\n",
              "    }\n",
              "\n",
              "    .dataframe thead th {\n",
              "        text-align: right;\n",
              "    }\n",
              "</style>\n",
              "<table border=\"1\" class=\"dataframe\">\n",
              "  <thead>\n",
              "    <tr style=\"text-align: right;\">\n",
              "      <th></th>\n",
              "      <th>air_store_id</th>\n",
              "      <th>visit_date</th>\n",
              "      <th>visitors</th>\n",
              "    </tr>\n",
              "  </thead>\n",
              "  <tbody>\n",
              "    <tr>\n",
              "      <th>0</th>\n",
              "      <td>air_ba937bf13d40fb24</td>\n",
              "      <td>2016-01-13</td>\n",
              "      <td>25</td>\n",
              "    </tr>\n",
              "    <tr>\n",
              "      <th>1</th>\n",
              "      <td>air_ba937bf13d40fb24</td>\n",
              "      <td>2016-01-14</td>\n",
              "      <td>32</td>\n",
              "    </tr>\n",
              "    <tr>\n",
              "      <th>2</th>\n",
              "      <td>air_ba937bf13d40fb24</td>\n",
              "      <td>2016-01-15</td>\n",
              "      <td>29</td>\n",
              "    </tr>\n",
              "    <tr>\n",
              "      <th>3</th>\n",
              "      <td>air_ba937bf13d40fb24</td>\n",
              "      <td>2016-01-16</td>\n",
              "      <td>22</td>\n",
              "    </tr>\n",
              "    <tr>\n",
              "      <th>4</th>\n",
              "      <td>air_ba937bf13d40fb24</td>\n",
              "      <td>2016-01-18</td>\n",
              "      <td>6</td>\n",
              "    </tr>\n",
              "    <tr>\n",
              "      <th>...</th>\n",
              "      <td>...</td>\n",
              "      <td>...</td>\n",
              "      <td>...</td>\n",
              "    </tr>\n",
              "    <tr>\n",
              "      <th>252103</th>\n",
              "      <td>air_24e8414b9b07decb</td>\n",
              "      <td>2017-04-18</td>\n",
              "      <td>6</td>\n",
              "    </tr>\n",
              "    <tr>\n",
              "      <th>252104</th>\n",
              "      <td>air_24e8414b9b07decb</td>\n",
              "      <td>2017-04-19</td>\n",
              "      <td>6</td>\n",
              "    </tr>\n",
              "    <tr>\n",
              "      <th>252105</th>\n",
              "      <td>air_24e8414b9b07decb</td>\n",
              "      <td>2017-04-20</td>\n",
              "      <td>7</td>\n",
              "    </tr>\n",
              "    <tr>\n",
              "      <th>252106</th>\n",
              "      <td>air_24e8414b9b07decb</td>\n",
              "      <td>2017-04-21</td>\n",
              "      <td>8</td>\n",
              "    </tr>\n",
              "    <tr>\n",
              "      <th>252107</th>\n",
              "      <td>air_24e8414b9b07decb</td>\n",
              "      <td>2017-04-22</td>\n",
              "      <td>5</td>\n",
              "    </tr>\n",
              "  </tbody>\n",
              "</table>\n",
              "<p>252108 rows × 3 columns</p>\n",
              "</div>"
            ],
            "text/plain": [
              "                air_store_id  visit_date  visitors\n",
              "0       air_ba937bf13d40fb24  2016-01-13        25\n",
              "1       air_ba937bf13d40fb24  2016-01-14        32\n",
              "2       air_ba937bf13d40fb24  2016-01-15        29\n",
              "3       air_ba937bf13d40fb24  2016-01-16        22\n",
              "4       air_ba937bf13d40fb24  2016-01-18         6\n",
              "...                      ...         ...       ...\n",
              "252103  air_24e8414b9b07decb  2017-04-18         6\n",
              "252104  air_24e8414b9b07decb  2017-04-19         6\n",
              "252105  air_24e8414b9b07decb  2017-04-20         7\n",
              "252106  air_24e8414b9b07decb  2017-04-21         8\n",
              "252107  air_24e8414b9b07decb  2017-04-22         5\n",
              "\n",
              "[252108 rows x 3 columns]"
            ]
          },
          "metadata": {
            "tags": []
          },
          "execution_count": 18
        }
      ]
    },
    {
      "cell_type": "markdown",
      "metadata": {
        "id": "Mhrm5fkh7pVG"
      },
      "source": [
        "### 요일(dow), 연(year), 월(month)를 의미하는 컬럼 추가"
      ]
    },
    {
      "cell_type": "code",
      "metadata": {
        "colab": {
          "base_uri": "https://localhost:8080/",
          "height": 204
        },
        "id": "NfBhxo5ZSdEb",
        "outputId": "c63adeaa-72d7-4db2-bd53-9d2967896976"
      },
      "source": [
        "# air_visit_data\n",
        "\n",
        "air_visit_data['visit_date'] = pd.to_datetime(air_visit_data['visit_date'])\n",
        "  # str을 datetime으로 변환\n",
        "air_visit_data['dow'] = air_visit_data['visit_date'].dt.dayofweek\n",
        "  # 요일을 의미하는 숫자 변수 생성\n",
        "air_visit_data['year'] = air_visit_data['visit_date'].dt.year\n",
        "  # 년도 year 변수 생성\n",
        "air_visit_data['month'] = air_visit_data['visit_date'].dt.month\n",
        "  # 달 month 변수 생성\n",
        "air_visit_data['visit_date'] = air_visit_data['visit_date'].dt.date\n",
        "  # datetime을 dt.date로 변환\n",
        "air_visit_data.head()"
      ],
      "execution_count": 19,
      "outputs": [
        {
          "output_type": "execute_result",
          "data": {
            "text/html": [
              "<div>\n",
              "<style scoped>\n",
              "    .dataframe tbody tr th:only-of-type {\n",
              "        vertical-align: middle;\n",
              "    }\n",
              "\n",
              "    .dataframe tbody tr th {\n",
              "        vertical-align: top;\n",
              "    }\n",
              "\n",
              "    .dataframe thead th {\n",
              "        text-align: right;\n",
              "    }\n",
              "</style>\n",
              "<table border=\"1\" class=\"dataframe\">\n",
              "  <thead>\n",
              "    <tr style=\"text-align: right;\">\n",
              "      <th></th>\n",
              "      <th>air_store_id</th>\n",
              "      <th>visit_date</th>\n",
              "      <th>visitors</th>\n",
              "      <th>dow</th>\n",
              "      <th>year</th>\n",
              "      <th>month</th>\n",
              "    </tr>\n",
              "  </thead>\n",
              "  <tbody>\n",
              "    <tr>\n",
              "      <th>0</th>\n",
              "      <td>air_ba937bf13d40fb24</td>\n",
              "      <td>2016-01-13</td>\n",
              "      <td>25</td>\n",
              "      <td>2</td>\n",
              "      <td>2016</td>\n",
              "      <td>1</td>\n",
              "    </tr>\n",
              "    <tr>\n",
              "      <th>1</th>\n",
              "      <td>air_ba937bf13d40fb24</td>\n",
              "      <td>2016-01-14</td>\n",
              "      <td>32</td>\n",
              "      <td>3</td>\n",
              "      <td>2016</td>\n",
              "      <td>1</td>\n",
              "    </tr>\n",
              "    <tr>\n",
              "      <th>2</th>\n",
              "      <td>air_ba937bf13d40fb24</td>\n",
              "      <td>2016-01-15</td>\n",
              "      <td>29</td>\n",
              "      <td>4</td>\n",
              "      <td>2016</td>\n",
              "      <td>1</td>\n",
              "    </tr>\n",
              "    <tr>\n",
              "      <th>3</th>\n",
              "      <td>air_ba937bf13d40fb24</td>\n",
              "      <td>2016-01-16</td>\n",
              "      <td>22</td>\n",
              "      <td>5</td>\n",
              "      <td>2016</td>\n",
              "      <td>1</td>\n",
              "    </tr>\n",
              "    <tr>\n",
              "      <th>4</th>\n",
              "      <td>air_ba937bf13d40fb24</td>\n",
              "      <td>2016-01-18</td>\n",
              "      <td>6</td>\n",
              "      <td>0</td>\n",
              "      <td>2016</td>\n",
              "      <td>1</td>\n",
              "    </tr>\n",
              "  </tbody>\n",
              "</table>\n",
              "</div>"
            ],
            "text/plain": [
              "           air_store_id  visit_date  visitors  dow  year  month\n",
              "0  air_ba937bf13d40fb24  2016-01-13        25    2  2016      1\n",
              "1  air_ba937bf13d40fb24  2016-01-14        32    3  2016      1\n",
              "2  air_ba937bf13d40fb24  2016-01-15        29    4  2016      1\n",
              "3  air_ba937bf13d40fb24  2016-01-16        22    5  2016      1\n",
              "4  air_ba937bf13d40fb24  2016-01-18         6    0  2016      1"
            ]
          },
          "metadata": {
            "tags": []
          },
          "execution_count": 19
        }
      ]
    },
    {
      "cell_type": "markdown",
      "metadata": {
        "id": "FrFuIMYl-moY"
      },
      "source": [
        "## `sample_submission`에 `day_of_week`, `year`, `month` 추가\n",
        "\n",
        "- The training data covers the dates from 2016 until April 2017. - The test set covers the last week of April and May of 2017.(`sample_submission`)"
      ]
    },
    {
      "cell_type": "code",
      "metadata": {
        "colab": {
          "base_uri": "https://localhost:8080/",
          "height": 204
        },
        "id": "VSArxlfsoPem",
        "outputId": "963c5fd4-9739-48de-e77c-5d4ea7f1c94d"
      },
      "source": [
        "# sample_submission\n",
        "\n",
        "sample_submission['visit_date'] = sample_submission['id'].map(lambda x: str(x).split('_')[2])\n",
        "  # id 변수에서 날짜를 뽑아와 visit_date 변수 생성\n",
        "sample_submission['air_store_id'] = sample_submission['id'].map(lambda x: '_'.join(x.split('_')[:2]))\n",
        "  # id 변수에서 store id를 뽑아와 air_store_id 변수 생성\n",
        "sample_submission['visit_date'] = pd.to_datetime(sample_submission['visit_date'])\n",
        "  # str을 datetime으로 변환\n",
        "sample_submission['dow'] = sample_submission['visit_date'].dt.dayofweek\n",
        "  # 요일을 의미하는 숫자 변수 생성\n",
        "sample_submission['year'] = sample_submission['visit_date'].dt.year\n",
        "  # 년도 year 변수 생성\n",
        "sample_submission['month'] = sample_submission['visit_date'].dt.month\n",
        "  # 달 month 변수 생성\n",
        "sample_submission['visit_date'] = sample_submission['visit_date'].dt.date\n",
        "  # datetime을 dt.date로 변환\n",
        "\n",
        "sample_submission.head()"
      ],
      "execution_count": 20,
      "outputs": [
        {
          "output_type": "execute_result",
          "data": {
            "text/html": [
              "<div>\n",
              "<style scoped>\n",
              "    .dataframe tbody tr th:only-of-type {\n",
              "        vertical-align: middle;\n",
              "    }\n",
              "\n",
              "    .dataframe tbody tr th {\n",
              "        vertical-align: top;\n",
              "    }\n",
              "\n",
              "    .dataframe thead th {\n",
              "        text-align: right;\n",
              "    }\n",
              "</style>\n",
              "<table border=\"1\" class=\"dataframe\">\n",
              "  <thead>\n",
              "    <tr style=\"text-align: right;\">\n",
              "      <th></th>\n",
              "      <th>id</th>\n",
              "      <th>visitors</th>\n",
              "      <th>visit_date</th>\n",
              "      <th>air_store_id</th>\n",
              "      <th>dow</th>\n",
              "      <th>year</th>\n",
              "      <th>month</th>\n",
              "    </tr>\n",
              "  </thead>\n",
              "  <tbody>\n",
              "    <tr>\n",
              "      <th>0</th>\n",
              "      <td>air_00a91d42b08b08d9_2017-04-23</td>\n",
              "      <td>0</td>\n",
              "      <td>2017-04-23</td>\n",
              "      <td>air_00a91d42b08b08d9</td>\n",
              "      <td>6</td>\n",
              "      <td>2017</td>\n",
              "      <td>4</td>\n",
              "    </tr>\n",
              "    <tr>\n",
              "      <th>1</th>\n",
              "      <td>air_00a91d42b08b08d9_2017-04-24</td>\n",
              "      <td>0</td>\n",
              "      <td>2017-04-24</td>\n",
              "      <td>air_00a91d42b08b08d9</td>\n",
              "      <td>0</td>\n",
              "      <td>2017</td>\n",
              "      <td>4</td>\n",
              "    </tr>\n",
              "    <tr>\n",
              "      <th>2</th>\n",
              "      <td>air_00a91d42b08b08d9_2017-04-25</td>\n",
              "      <td>0</td>\n",
              "      <td>2017-04-25</td>\n",
              "      <td>air_00a91d42b08b08d9</td>\n",
              "      <td>1</td>\n",
              "      <td>2017</td>\n",
              "      <td>4</td>\n",
              "    </tr>\n",
              "    <tr>\n",
              "      <th>3</th>\n",
              "      <td>air_00a91d42b08b08d9_2017-04-26</td>\n",
              "      <td>0</td>\n",
              "      <td>2017-04-26</td>\n",
              "      <td>air_00a91d42b08b08d9</td>\n",
              "      <td>2</td>\n",
              "      <td>2017</td>\n",
              "      <td>4</td>\n",
              "    </tr>\n",
              "    <tr>\n",
              "      <th>4</th>\n",
              "      <td>air_00a91d42b08b08d9_2017-04-27</td>\n",
              "      <td>0</td>\n",
              "      <td>2017-04-27</td>\n",
              "      <td>air_00a91d42b08b08d9</td>\n",
              "      <td>3</td>\n",
              "      <td>2017</td>\n",
              "      <td>4</td>\n",
              "    </tr>\n",
              "  </tbody>\n",
              "</table>\n",
              "</div>"
            ],
            "text/plain": [
              "                                id  visitors  visit_date  ... dow  year  month\n",
              "0  air_00a91d42b08b08d9_2017-04-23         0  2017-04-23  ...   6  2017      4\n",
              "1  air_00a91d42b08b08d9_2017-04-24         0  2017-04-24  ...   0  2017      4\n",
              "2  air_00a91d42b08b08d9_2017-04-25         0  2017-04-25  ...   1  2017      4\n",
              "3  air_00a91d42b08b08d9_2017-04-26         0  2017-04-26  ...   2  2017      4\n",
              "4  air_00a91d42b08b08d9_2017-04-27         0  2017-04-27  ...   3  2017      4\n",
              "\n",
              "[5 rows x 7 columns]"
            ]
          },
          "metadata": {
            "tags": []
          },
          "execution_count": 20
        }
      ]
    },
    {
      "cell_type": "markdown",
      "metadata": {
        "id": "k6Ss3_JhxIQl"
      },
      "source": [
        "## 요일별 통계를 위한 `stores`"
      ]
    },
    {
      "cell_type": "code",
      "metadata": {
        "colab": {
          "base_uri": "https://localhost:8080/"
        },
        "id": "JRpXsoZIT4a_",
        "outputId": "1c3b8245-d546-4d81-92b2-7c3f7692e2b1"
      },
      "source": [
        "unique_stores = sample_submission['air_store_id'].unique() # air_store id만을 뽑아낸다.\n",
        "\n",
        "# 일주일에 해당하는 만큼 unique_stores x 7\n",
        "stores = pd.concat([pd.DataFrame({'air_store_id': unique_stores, \n",
        "                                  'dow': [i] * len(unique_stores)}) for i in range(7)], \n",
        "                   axis=0, \n",
        "                   ignore_index=True).reset_index(drop=True)\n",
        "\n",
        "print(len(stores))"
      ],
      "execution_count": 21,
      "outputs": [
        {
          "output_type": "stream",
          "text": [
            "5747\n"
          ],
          "name": "stdout"
        }
      ]
    },
    {
      "cell_type": "code",
      "metadata": {
        "colab": {
          "base_uri": "https://localhost:8080/",
          "height": 266
        },
        "id": "I8hfSkHqylTE",
        "outputId": "f215154b-14b6-419d-e900-df70b1e1f46d"
      },
      "source": [
        "stores.tail(7)"
      ],
      "execution_count": 22,
      "outputs": [
        {
          "output_type": "execute_result",
          "data": {
            "text/html": [
              "<div>\n",
              "<style scoped>\n",
              "    .dataframe tbody tr th:only-of-type {\n",
              "        vertical-align: middle;\n",
              "    }\n",
              "\n",
              "    .dataframe tbody tr th {\n",
              "        vertical-align: top;\n",
              "    }\n",
              "\n",
              "    .dataframe thead th {\n",
              "        text-align: right;\n",
              "    }\n",
              "</style>\n",
              "<table border=\"1\" class=\"dataframe\">\n",
              "  <thead>\n",
              "    <tr style=\"text-align: right;\">\n",
              "      <th></th>\n",
              "      <th>air_store_id</th>\n",
              "      <th>dow</th>\n",
              "    </tr>\n",
              "  </thead>\n",
              "  <tbody>\n",
              "    <tr>\n",
              "      <th>5740</th>\n",
              "      <td>air_fe22ef5a9cbef123</td>\n",
              "      <td>6</td>\n",
              "    </tr>\n",
              "    <tr>\n",
              "      <th>5741</th>\n",
              "      <td>air_fe58c074ec1445ea</td>\n",
              "      <td>6</td>\n",
              "    </tr>\n",
              "    <tr>\n",
              "      <th>5742</th>\n",
              "      <td>air_fea5dc9594450608</td>\n",
              "      <td>6</td>\n",
              "    </tr>\n",
              "    <tr>\n",
              "      <th>5743</th>\n",
              "      <td>air_fee8dcf4d619598e</td>\n",
              "      <td>6</td>\n",
              "    </tr>\n",
              "    <tr>\n",
              "      <th>5744</th>\n",
              "      <td>air_fef9ccb3ba0da2f7</td>\n",
              "      <td>6</td>\n",
              "    </tr>\n",
              "    <tr>\n",
              "      <th>5745</th>\n",
              "      <td>air_ffcc2d5087e1b476</td>\n",
              "      <td>6</td>\n",
              "    </tr>\n",
              "    <tr>\n",
              "      <th>5746</th>\n",
              "      <td>air_fff68b929994bfbd</td>\n",
              "      <td>6</td>\n",
              "    </tr>\n",
              "  </tbody>\n",
              "</table>\n",
              "</div>"
            ],
            "text/plain": [
              "              air_store_id  dow\n",
              "5740  air_fe22ef5a9cbef123    6\n",
              "5741  air_fe58c074ec1445ea    6\n",
              "5742  air_fea5dc9594450608    6\n",
              "5743  air_fee8dcf4d619598e    6\n",
              "5744  air_fef9ccb3ba0da2f7    6\n",
              "5745  air_ffcc2d5087e1b476    6\n",
              "5746  air_fff68b929994bfbd    6"
            ]
          },
          "metadata": {
            "tags": []
          },
          "execution_count": 22
        }
      ]
    },
    {
      "cell_type": "markdown",
      "metadata": {
        "id": "zAdkIvVY-vIE"
      },
      "source": [
        "## 가게의 '요일별' `visitors`의 산술 통계량 계산"
      ]
    },
    {
      "cell_type": "code",
      "metadata": {
        "colab": {
          "base_uri": "https://localhost:8080/",
          "height": 204
        },
        "id": "olbj1WGKUh0g",
        "outputId": "103ee0dc-2c3d-4b86-f476-ad31224fcdfa"
      },
      "source": [
        "# 산술 통계량을 뽑아내서 feature로 train data에 추가해준다 -> 자료\n",
        "\n",
        "tmp = air_visit_data.groupby(['air_store_id','dow'], as_index=False)['visitors'].min().rename(columns={'visitors':'min_visitors'})\n",
        "stores = pd.merge(stores, tmp, how='left', on=['air_store_id','dow']) \n",
        "tmp = air_visit_data.groupby(['air_store_id','dow'], as_index=False)['visitors'].mean().rename(columns={'visitors':'mean_visitors'})\n",
        "stores = pd.merge(stores, tmp, how='left', on=['air_store_id','dow'])\n",
        "tmp = air_visit_data.groupby(['air_store_id','dow'], as_index=False)['visitors'].median().rename(columns={'visitors':'median_visitors'})\n",
        "stores = pd.merge(stores, tmp, how='left', on=['air_store_id','dow'])\n",
        "tmp = air_visit_data.groupby(['air_store_id','dow'], as_index=False)['visitors'].max().rename(columns={'visitors':'max_visitors'})\n",
        "stores = pd.merge(stores, tmp, how='left', on=['air_store_id','dow'])\n",
        "tmp = air_visit_data.groupby(['air_store_id','dow'], as_index=False)['visitors'].count().rename(columns={'visitors':'count_observations'})\n",
        "stores = pd.merge(stores, tmp, how='left', on=['air_store_id','dow']) \n",
        "\n",
        "stores.head()"
      ],
      "execution_count": 23,
      "outputs": [
        {
          "output_type": "execute_result",
          "data": {
            "text/html": [
              "<div>\n",
              "<style scoped>\n",
              "    .dataframe tbody tr th:only-of-type {\n",
              "        vertical-align: middle;\n",
              "    }\n",
              "\n",
              "    .dataframe tbody tr th {\n",
              "        vertical-align: top;\n",
              "    }\n",
              "\n",
              "    .dataframe thead th {\n",
              "        text-align: right;\n",
              "    }\n",
              "</style>\n",
              "<table border=\"1\" class=\"dataframe\">\n",
              "  <thead>\n",
              "    <tr style=\"text-align: right;\">\n",
              "      <th></th>\n",
              "      <th>air_store_id</th>\n",
              "      <th>dow</th>\n",
              "      <th>min_visitors</th>\n",
              "      <th>mean_visitors</th>\n",
              "      <th>median_visitors</th>\n",
              "      <th>max_visitors</th>\n",
              "      <th>count_observations</th>\n",
              "    </tr>\n",
              "  </thead>\n",
              "  <tbody>\n",
              "    <tr>\n",
              "      <th>0</th>\n",
              "      <td>air_00a91d42b08b08d9</td>\n",
              "      <td>0</td>\n",
              "      <td>1.0</td>\n",
              "      <td>22.457143</td>\n",
              "      <td>19.0</td>\n",
              "      <td>47.0</td>\n",
              "      <td>35.0</td>\n",
              "    </tr>\n",
              "    <tr>\n",
              "      <th>1</th>\n",
              "      <td>air_0164b9927d20bcc3</td>\n",
              "      <td>0</td>\n",
              "      <td>2.0</td>\n",
              "      <td>7.500000</td>\n",
              "      <td>6.0</td>\n",
              "      <td>19.0</td>\n",
              "      <td>20.0</td>\n",
              "    </tr>\n",
              "    <tr>\n",
              "      <th>2</th>\n",
              "      <td>air_0241aa3964b7f861</td>\n",
              "      <td>0</td>\n",
              "      <td>2.0</td>\n",
              "      <td>8.920635</td>\n",
              "      <td>8.0</td>\n",
              "      <td>23.0</td>\n",
              "      <td>63.0</td>\n",
              "    </tr>\n",
              "    <tr>\n",
              "      <th>3</th>\n",
              "      <td>air_0328696196e46f18</td>\n",
              "      <td>0</td>\n",
              "      <td>2.0</td>\n",
              "      <td>6.416667</td>\n",
              "      <td>4.0</td>\n",
              "      <td>27.0</td>\n",
              "      <td>12.0</td>\n",
              "    </tr>\n",
              "    <tr>\n",
              "      <th>4</th>\n",
              "      <td>air_034a3d5b40d5b1b1</td>\n",
              "      <td>0</td>\n",
              "      <td>1.0</td>\n",
              "      <td>11.864865</td>\n",
              "      <td>10.0</td>\n",
              "      <td>66.0</td>\n",
              "      <td>37.0</td>\n",
              "    </tr>\n",
              "  </tbody>\n",
              "</table>\n",
              "</div>"
            ],
            "text/plain": [
              "           air_store_id  dow  ...  max_visitors  count_observations\n",
              "0  air_00a91d42b08b08d9    0  ...          47.0                35.0\n",
              "1  air_0164b9927d20bcc3    0  ...          19.0                20.0\n",
              "2  air_0241aa3964b7f861    0  ...          23.0                63.0\n",
              "3  air_0328696196e46f18    0  ...          27.0                12.0\n",
              "4  air_034a3d5b40d5b1b1    0  ...          66.0                37.0\n",
              "\n",
              "[5 rows x 7 columns]"
            ]
          },
          "metadata": {
            "tags": []
          },
          "execution_count": 23
        }
      ]
    },
    {
      "cell_type": "markdown",
      "metadata": {
        "id": "U_X5DnXQ_rEl"
      },
      "source": [
        "## 요일별 통계량에 `air_store_info` merge"
      ]
    },
    {
      "cell_type": "code",
      "metadata": {
        "colab": {
          "base_uri": "https://localhost:8080/",
          "height": 272
        },
        "id": "eObtL54SVGgM",
        "outputId": "ad7f8be3-8371-470d-b359-971605a57cc8"
      },
      "source": [
        "# air store를 stores에 merge\n",
        "stores = pd.merge(stores, air_store_info, how='left', on=['air_store_id']) \n",
        "stores.head()"
      ],
      "execution_count": 24,
      "outputs": [
        {
          "output_type": "execute_result",
          "data": {
            "text/html": [
              "<div>\n",
              "<style scoped>\n",
              "    .dataframe tbody tr th:only-of-type {\n",
              "        vertical-align: middle;\n",
              "    }\n",
              "\n",
              "    .dataframe tbody tr th {\n",
              "        vertical-align: top;\n",
              "    }\n",
              "\n",
              "    .dataframe thead th {\n",
              "        text-align: right;\n",
              "    }\n",
              "</style>\n",
              "<table border=\"1\" class=\"dataframe\">\n",
              "  <thead>\n",
              "    <tr style=\"text-align: right;\">\n",
              "      <th></th>\n",
              "      <th>air_store_id</th>\n",
              "      <th>dow</th>\n",
              "      <th>min_visitors</th>\n",
              "      <th>mean_visitors</th>\n",
              "      <th>median_visitors</th>\n",
              "      <th>max_visitors</th>\n",
              "      <th>count_observations</th>\n",
              "      <th>air_genre_name</th>\n",
              "      <th>air_area_name</th>\n",
              "      <th>latitude</th>\n",
              "      <th>longitude</th>\n",
              "    </tr>\n",
              "  </thead>\n",
              "  <tbody>\n",
              "    <tr>\n",
              "      <th>0</th>\n",
              "      <td>air_00a91d42b08b08d9</td>\n",
              "      <td>0</td>\n",
              "      <td>1.0</td>\n",
              "      <td>22.457143</td>\n",
              "      <td>19.0</td>\n",
              "      <td>47.0</td>\n",
              "      <td>35.0</td>\n",
              "      <td>Italian/French</td>\n",
              "      <td>Tōkyō-to Chiyoda-ku Kudanminami</td>\n",
              "      <td>35.694003</td>\n",
              "      <td>139.753595</td>\n",
              "    </tr>\n",
              "    <tr>\n",
              "      <th>1</th>\n",
              "      <td>air_0164b9927d20bcc3</td>\n",
              "      <td>0</td>\n",
              "      <td>2.0</td>\n",
              "      <td>7.500000</td>\n",
              "      <td>6.0</td>\n",
              "      <td>19.0</td>\n",
              "      <td>20.0</td>\n",
              "      <td>Italian/French</td>\n",
              "      <td>Tōkyō-to Minato-ku Shibakōen</td>\n",
              "      <td>35.658068</td>\n",
              "      <td>139.751599</td>\n",
              "    </tr>\n",
              "    <tr>\n",
              "      <th>2</th>\n",
              "      <td>air_0241aa3964b7f861</td>\n",
              "      <td>0</td>\n",
              "      <td>2.0</td>\n",
              "      <td>8.920635</td>\n",
              "      <td>8.0</td>\n",
              "      <td>23.0</td>\n",
              "      <td>63.0</td>\n",
              "      <td>Izakaya</td>\n",
              "      <td>Tōkyō-to Taitō-ku Higashiueno</td>\n",
              "      <td>35.712607</td>\n",
              "      <td>139.779996</td>\n",
              "    </tr>\n",
              "    <tr>\n",
              "      <th>3</th>\n",
              "      <td>air_0328696196e46f18</td>\n",
              "      <td>0</td>\n",
              "      <td>2.0</td>\n",
              "      <td>6.416667</td>\n",
              "      <td>4.0</td>\n",
              "      <td>27.0</td>\n",
              "      <td>12.0</td>\n",
              "      <td>Dining bar</td>\n",
              "      <td>Ōsaka-fu Ōsaka-shi Nakanochō</td>\n",
              "      <td>34.701279</td>\n",
              "      <td>135.528090</td>\n",
              "    </tr>\n",
              "    <tr>\n",
              "      <th>4</th>\n",
              "      <td>air_034a3d5b40d5b1b1</td>\n",
              "      <td>0</td>\n",
              "      <td>1.0</td>\n",
              "      <td>11.864865</td>\n",
              "      <td>10.0</td>\n",
              "      <td>66.0</td>\n",
              "      <td>37.0</td>\n",
              "      <td>Cafe/Sweets</td>\n",
              "      <td>Ōsaka-fu Ōsaka-shi Ōhiraki</td>\n",
              "      <td>34.692337</td>\n",
              "      <td>135.472229</td>\n",
              "    </tr>\n",
              "  </tbody>\n",
              "</table>\n",
              "</div>"
            ],
            "text/plain": [
              "           air_store_id  dow  ...   latitude   longitude\n",
              "0  air_00a91d42b08b08d9    0  ...  35.694003  139.753595\n",
              "1  air_0164b9927d20bcc3    0  ...  35.658068  139.751599\n",
              "2  air_0241aa3964b7f861    0  ...  35.712607  139.779996\n",
              "3  air_0328696196e46f18    0  ...  34.701279  135.528090\n",
              "4  air_034a3d5b40d5b1b1    0  ...  34.692337  135.472229\n",
              "\n",
              "[5 rows x 11 columns]"
            ]
          },
          "metadata": {
            "tags": []
          },
          "execution_count": 24
        }
      ]
    },
    {
      "cell_type": "markdown",
      "metadata": {
        "id": "3yKUYMTMAzjm"
      },
      "source": [
        "## 연휴 데이터 전처리 - 요일을 라벨 인코딩"
      ]
    },
    {
      "cell_type": "code",
      "metadata": {
        "colab": {
          "base_uri": "https://localhost:8080/",
          "height": 419
        },
        "id": "c_1AKs8ozdmK",
        "outputId": "4b668d78-363c-485c-e154-9793e408824c"
      },
      "source": [
        "date_info = date_info.rename(columns={'calendar_date':'visit_date'})\n",
        "date_info"
      ],
      "execution_count": 25,
      "outputs": [
        {
          "output_type": "execute_result",
          "data": {
            "text/html": [
              "<div>\n",
              "<style scoped>\n",
              "    .dataframe tbody tr th:only-of-type {\n",
              "        vertical-align: middle;\n",
              "    }\n",
              "\n",
              "    .dataframe tbody tr th {\n",
              "        vertical-align: top;\n",
              "    }\n",
              "\n",
              "    .dataframe thead th {\n",
              "        text-align: right;\n",
              "    }\n",
              "</style>\n",
              "<table border=\"1\" class=\"dataframe\">\n",
              "  <thead>\n",
              "    <tr style=\"text-align: right;\">\n",
              "      <th></th>\n",
              "      <th>visit_date</th>\n",
              "      <th>day_of_week</th>\n",
              "      <th>holiday_flg</th>\n",
              "    </tr>\n",
              "  </thead>\n",
              "  <tbody>\n",
              "    <tr>\n",
              "      <th>0</th>\n",
              "      <td>2016-01-01</td>\n",
              "      <td>Friday</td>\n",
              "      <td>1</td>\n",
              "    </tr>\n",
              "    <tr>\n",
              "      <th>1</th>\n",
              "      <td>2016-01-02</td>\n",
              "      <td>Saturday</td>\n",
              "      <td>1</td>\n",
              "    </tr>\n",
              "    <tr>\n",
              "      <th>2</th>\n",
              "      <td>2016-01-03</td>\n",
              "      <td>Sunday</td>\n",
              "      <td>1</td>\n",
              "    </tr>\n",
              "    <tr>\n",
              "      <th>3</th>\n",
              "      <td>2016-01-04</td>\n",
              "      <td>Monday</td>\n",
              "      <td>0</td>\n",
              "    </tr>\n",
              "    <tr>\n",
              "      <th>4</th>\n",
              "      <td>2016-01-05</td>\n",
              "      <td>Tuesday</td>\n",
              "      <td>0</td>\n",
              "    </tr>\n",
              "    <tr>\n",
              "      <th>...</th>\n",
              "      <td>...</td>\n",
              "      <td>...</td>\n",
              "      <td>...</td>\n",
              "    </tr>\n",
              "    <tr>\n",
              "      <th>512</th>\n",
              "      <td>2017-05-27</td>\n",
              "      <td>Saturday</td>\n",
              "      <td>0</td>\n",
              "    </tr>\n",
              "    <tr>\n",
              "      <th>513</th>\n",
              "      <td>2017-05-28</td>\n",
              "      <td>Sunday</td>\n",
              "      <td>0</td>\n",
              "    </tr>\n",
              "    <tr>\n",
              "      <th>514</th>\n",
              "      <td>2017-05-29</td>\n",
              "      <td>Monday</td>\n",
              "      <td>0</td>\n",
              "    </tr>\n",
              "    <tr>\n",
              "      <th>515</th>\n",
              "      <td>2017-05-30</td>\n",
              "      <td>Tuesday</td>\n",
              "      <td>0</td>\n",
              "    </tr>\n",
              "    <tr>\n",
              "      <th>516</th>\n",
              "      <td>2017-05-31</td>\n",
              "      <td>Wednesday</td>\n",
              "      <td>0</td>\n",
              "    </tr>\n",
              "  </tbody>\n",
              "</table>\n",
              "<p>517 rows × 3 columns</p>\n",
              "</div>"
            ],
            "text/plain": [
              "     visit_date day_of_week  holiday_flg\n",
              "0    2016-01-01      Friday            1\n",
              "1    2016-01-02    Saturday            1\n",
              "2    2016-01-03      Sunday            1\n",
              "3    2016-01-04      Monday            0\n",
              "4    2016-01-05     Tuesday            0\n",
              "..          ...         ...          ...\n",
              "512  2017-05-27    Saturday            0\n",
              "513  2017-05-28      Sunday            0\n",
              "514  2017-05-29      Monday            0\n",
              "515  2017-05-30     Tuesday            0\n",
              "516  2017-05-31   Wednesday            0\n",
              "\n",
              "[517 rows x 3 columns]"
            ]
          },
          "metadata": {
            "tags": []
          },
          "execution_count": 25
        }
      ]
    },
    {
      "cell_type": "markdown",
      "metadata": {
        "id": "EevoPP5ZA5bC"
      },
      "source": [
        "### 요일을 라벨 인코딩"
      ]
    },
    {
      "cell_type": "code",
      "metadata": {
        "colab": {
          "base_uri": "https://localhost:8080/",
          "height": 419
        },
        "id": "jgbX-QbQVODY",
        "outputId": "1c0047ad-6ea5-4e35-92dc-4ad2f55f64ed"
      },
      "source": [
        "lbl = preprocessing.LabelEncoder()\n",
        "\n",
        "\n",
        "date_info['visit_date'] = pd.to_datetime(date_info['visit_date'])\n",
        "date_info['day_of_week'] = lbl.fit_transform(date_info['day_of_week'])\n",
        "date_info['visit_date'] = date_info['visit_date'].dt.date\n",
        "date_info"
      ],
      "execution_count": 26,
      "outputs": [
        {
          "output_type": "execute_result",
          "data": {
            "text/html": [
              "<div>\n",
              "<style scoped>\n",
              "    .dataframe tbody tr th:only-of-type {\n",
              "        vertical-align: middle;\n",
              "    }\n",
              "\n",
              "    .dataframe tbody tr th {\n",
              "        vertical-align: top;\n",
              "    }\n",
              "\n",
              "    .dataframe thead th {\n",
              "        text-align: right;\n",
              "    }\n",
              "</style>\n",
              "<table border=\"1\" class=\"dataframe\">\n",
              "  <thead>\n",
              "    <tr style=\"text-align: right;\">\n",
              "      <th></th>\n",
              "      <th>visit_date</th>\n",
              "      <th>day_of_week</th>\n",
              "      <th>holiday_flg</th>\n",
              "    </tr>\n",
              "  </thead>\n",
              "  <tbody>\n",
              "    <tr>\n",
              "      <th>0</th>\n",
              "      <td>2016-01-01</td>\n",
              "      <td>0</td>\n",
              "      <td>1</td>\n",
              "    </tr>\n",
              "    <tr>\n",
              "      <th>1</th>\n",
              "      <td>2016-01-02</td>\n",
              "      <td>2</td>\n",
              "      <td>1</td>\n",
              "    </tr>\n",
              "    <tr>\n",
              "      <th>2</th>\n",
              "      <td>2016-01-03</td>\n",
              "      <td>3</td>\n",
              "      <td>1</td>\n",
              "    </tr>\n",
              "    <tr>\n",
              "      <th>3</th>\n",
              "      <td>2016-01-04</td>\n",
              "      <td>1</td>\n",
              "      <td>0</td>\n",
              "    </tr>\n",
              "    <tr>\n",
              "      <th>4</th>\n",
              "      <td>2016-01-05</td>\n",
              "      <td>5</td>\n",
              "      <td>0</td>\n",
              "    </tr>\n",
              "    <tr>\n",
              "      <th>...</th>\n",
              "      <td>...</td>\n",
              "      <td>...</td>\n",
              "      <td>...</td>\n",
              "    </tr>\n",
              "    <tr>\n",
              "      <th>512</th>\n",
              "      <td>2017-05-27</td>\n",
              "      <td>2</td>\n",
              "      <td>0</td>\n",
              "    </tr>\n",
              "    <tr>\n",
              "      <th>513</th>\n",
              "      <td>2017-05-28</td>\n",
              "      <td>3</td>\n",
              "      <td>0</td>\n",
              "    </tr>\n",
              "    <tr>\n",
              "      <th>514</th>\n",
              "      <td>2017-05-29</td>\n",
              "      <td>1</td>\n",
              "      <td>0</td>\n",
              "    </tr>\n",
              "    <tr>\n",
              "      <th>515</th>\n",
              "      <td>2017-05-30</td>\n",
              "      <td>5</td>\n",
              "      <td>0</td>\n",
              "    </tr>\n",
              "    <tr>\n",
              "      <th>516</th>\n",
              "      <td>2017-05-31</td>\n",
              "      <td>6</td>\n",
              "      <td>0</td>\n",
              "    </tr>\n",
              "  </tbody>\n",
              "</table>\n",
              "<p>517 rows × 3 columns</p>\n",
              "</div>"
            ],
            "text/plain": [
              "     visit_date  day_of_week  holiday_flg\n",
              "0    2016-01-01            0            1\n",
              "1    2016-01-02            2            1\n",
              "2    2016-01-03            3            1\n",
              "3    2016-01-04            1            0\n",
              "4    2016-01-05            5            0\n",
              "..          ...          ...          ...\n",
              "512  2017-05-27            2            0\n",
              "513  2017-05-28            3            0\n",
              "514  2017-05-29            1            0\n",
              "515  2017-05-30            5            0\n",
              "516  2017-05-31            6            0\n",
              "\n",
              "[517 rows x 3 columns]"
            ]
          },
          "metadata": {
            "tags": []
          },
          "execution_count": 26
        }
      ]
    },
    {
      "cell_type": "markdown",
      "metadata": {
        "id": "XJ4s1nJJBAbG"
      },
      "source": [
        "## `air_visit_data`에 holiday 데이터(`date_info`) merge"
      ]
    },
    {
      "cell_type": "code",
      "metadata": {
        "colab": {
          "base_uri": "https://localhost:8080/",
          "height": 204
        },
        "id": "ncrhEARczlD2",
        "outputId": "a3f5ff1b-ef58-4e1f-81ea-ec21d0c71013"
      },
      "source": [
        "# holiday의 날짜 변수 가공한뒤 merge\n",
        "air_store_data = pd.merge(air_visit_data, date_info, how='left', on=['visit_date']) \n",
        "\n",
        "air_store_data.head()"
      ],
      "execution_count": 27,
      "outputs": [
        {
          "output_type": "execute_result",
          "data": {
            "text/html": [
              "<div>\n",
              "<style scoped>\n",
              "    .dataframe tbody tr th:only-of-type {\n",
              "        vertical-align: middle;\n",
              "    }\n",
              "\n",
              "    .dataframe tbody tr th {\n",
              "        vertical-align: top;\n",
              "    }\n",
              "\n",
              "    .dataframe thead th {\n",
              "        text-align: right;\n",
              "    }\n",
              "</style>\n",
              "<table border=\"1\" class=\"dataframe\">\n",
              "  <thead>\n",
              "    <tr style=\"text-align: right;\">\n",
              "      <th></th>\n",
              "      <th>air_store_id</th>\n",
              "      <th>visit_date</th>\n",
              "      <th>visitors</th>\n",
              "      <th>dow</th>\n",
              "      <th>year</th>\n",
              "      <th>month</th>\n",
              "      <th>day_of_week</th>\n",
              "      <th>holiday_flg</th>\n",
              "    </tr>\n",
              "  </thead>\n",
              "  <tbody>\n",
              "    <tr>\n",
              "      <th>0</th>\n",
              "      <td>air_ba937bf13d40fb24</td>\n",
              "      <td>2016-01-13</td>\n",
              "      <td>25</td>\n",
              "      <td>2</td>\n",
              "      <td>2016</td>\n",
              "      <td>1</td>\n",
              "      <td>6</td>\n",
              "      <td>0</td>\n",
              "    </tr>\n",
              "    <tr>\n",
              "      <th>1</th>\n",
              "      <td>air_ba937bf13d40fb24</td>\n",
              "      <td>2016-01-14</td>\n",
              "      <td>32</td>\n",
              "      <td>3</td>\n",
              "      <td>2016</td>\n",
              "      <td>1</td>\n",
              "      <td>4</td>\n",
              "      <td>0</td>\n",
              "    </tr>\n",
              "    <tr>\n",
              "      <th>2</th>\n",
              "      <td>air_ba937bf13d40fb24</td>\n",
              "      <td>2016-01-15</td>\n",
              "      <td>29</td>\n",
              "      <td>4</td>\n",
              "      <td>2016</td>\n",
              "      <td>1</td>\n",
              "      <td>0</td>\n",
              "      <td>0</td>\n",
              "    </tr>\n",
              "    <tr>\n",
              "      <th>3</th>\n",
              "      <td>air_ba937bf13d40fb24</td>\n",
              "      <td>2016-01-16</td>\n",
              "      <td>22</td>\n",
              "      <td>5</td>\n",
              "      <td>2016</td>\n",
              "      <td>1</td>\n",
              "      <td>2</td>\n",
              "      <td>0</td>\n",
              "    </tr>\n",
              "    <tr>\n",
              "      <th>4</th>\n",
              "      <td>air_ba937bf13d40fb24</td>\n",
              "      <td>2016-01-18</td>\n",
              "      <td>6</td>\n",
              "      <td>0</td>\n",
              "      <td>2016</td>\n",
              "      <td>1</td>\n",
              "      <td>1</td>\n",
              "      <td>0</td>\n",
              "    </tr>\n",
              "  </tbody>\n",
              "</table>\n",
              "</div>"
            ],
            "text/plain": [
              "           air_store_id  visit_date  visitors  ...  month  day_of_week  holiday_flg\n",
              "0  air_ba937bf13d40fb24  2016-01-13        25  ...      1            6            0\n",
              "1  air_ba937bf13d40fb24  2016-01-14        32  ...      1            4            0\n",
              "2  air_ba937bf13d40fb24  2016-01-15        29  ...      1            0            0\n",
              "3  air_ba937bf13d40fb24  2016-01-16        22  ...      1            2            0\n",
              "4  air_ba937bf13d40fb24  2016-01-18         6  ...      1            1            0\n",
              "\n",
              "[5 rows x 8 columns]"
            ]
          },
          "metadata": {
            "tags": []
          },
          "execution_count": 27
        }
      ]
    },
    {
      "cell_type": "markdown",
      "metadata": {
        "id": "UGHnKZgpBFm1"
      },
      "source": [
        "## 연휴와 연휴가 아닌 일주간 요일별 평균 고객 그래프\n",
        "\n",
        "- [Recruit Visual EDA Itadakimasu!](https://www.kaggle.com/faizalabdkadir/recruit-visual-eda-itadakimasu)"
      ]
    },
    {
      "cell_type": "code",
      "metadata": {
        "colab": {
          "base_uri": "https://localhost:8080/",
          "height": 638
        },
        "id": "O902mzfkXXTl",
        "outputId": "3a0439e1-e85a-4bcb-be94-e9c8602e8688"
      },
      "source": [
        "import matplotlib.pyplot as plt\n",
        "import seaborn as sns\n",
        "import matplotlib.patches as mpatches\n",
        "\n",
        "air_1 = air_store_data\n",
        "pvt_1 = air_1.groupby(['dow'])['visitors'].mean().reset_index()\n",
        "\n",
        "air_2 = air_store_data.loc[air_store_data['holiday_flg'] == 1]\n",
        "pvt_2 = air_2.groupby(['dow'])['visitors'].mean().reset_index()\n",
        "\n",
        "holiday = mpatches.Patch(color='thistle', label='Holiday Week')\n",
        "not_holiday = mpatches.Patch(color='darkturquoise', label='Not Holiday')\n",
        "\n",
        "f, ax = plt.subplots(figsize=(15,10), sharey=False)\n",
        "plt.legend(handles=[holiday, not_holiday])\n",
        "plt.grid(True)\n",
        "ax = sns.pointplot(pvt_1['dow'] ,pvt_1['visitors'], color='darkturquoise')\n",
        "ax = sns.pointplot(pvt_2['dow'] ,pvt_2['visitors'], color='thistle')\n",
        "\n",
        "ax.set_title('Mean Daily Visitors vs Mean Daily Visitors on holiday')\n",
        "ax.set_ylim(0, 30)"
      ],
      "execution_count": 28,
      "outputs": [
        {
          "output_type": "execute_result",
          "data": {
            "text/plain": [
              "(0.0, 30.0)"
            ]
          },
          "metadata": {
            "tags": []
          },
          "execution_count": 28
        },
        {
          "output_type": "display_data",
          "data": {
            "image/png": "[encoded data removed]",
            "text/plain": [
              "<Figure size 1080x720 with 1 Axes>"
            ]
          },
          "metadata": {
            "tags": [],
            "needs_background": "light"
          }
        }
      ]
    },
    {
      "cell_type": "code",
      "metadata": {
        "id": "sNvu9wm7zhgY"
      },
      "source": [
        ""
      ],
      "execution_count": 28,
      "outputs": []
    }
  ]
}