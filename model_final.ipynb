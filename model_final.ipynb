{
  "nbformat": 4,
  "nbformat_minor": 0,
  "metadata": {
    "colab": {
      "name": "Hackerton_1.ipynb",
      "provenance": [],
      "include_colab_link": true
    },
    "kernelspec": {
      "name": "python3",
      "display_name": "Python 3"
    },
    "language_info": {
      "name": "python"
    }
  },
  "cells": [
    {
      "cell_type": "markdown",
      "metadata": {
        "id": "view-in-github",
        "colab_type": "text"
      },
      "source": [
        "<a href=\"https://colab.research.google.com/github/t1seo/AIFFEL_Hackerthon-1/blob/main/model_final.ipynb\" target=\"_parent\"><img src=\"https://colab.research.google.com/assets/colab-badge.svg\" alt=\"Open In Colab\"/></a>"
      ]
    },
    {
      "cell_type": "markdown",
      "metadata": {
        "id": "i7dJWhSSL_7F"
      },
      "source": [
        "# Recruit Restaurant Visitor Forecasting\n",
        "\n",
        "> Predict how many future visitors a restaurant will receive\n",
        "\n"
      ]
    },
    {
      "cell_type": "markdown",
      "metadata": {
        "id": "qfwZOFg5am2z"
      },
      "source": [
        "**참고 자료**\n",
        "\n",
        "- [Surprised Yet? - Part2 - (LB: 0.503)](https://www.kaggle.com/jdpaletto/surprised-yet-part2-lb-0-503)"
      ]
    },
    {
      "cell_type": "code",
      "metadata": {
        "colab": {
          "base_uri": "https://localhost:8080/"
        },
        "id": "i0OJoh34Y2cB",
        "outputId": "d1fed881-260b-4613-b7e6-ce6fe295e35c"
      },
      "source": [
        "from google.colab import drive\n",
        "drive.mount('/content/drive')"
      ],
      "execution_count": 1,
      "outputs": [
        {
          "output_type": "stream",
          "text": [
            "Drive already mounted at /content/drive; to attempt to forcibly remount, call drive.mount(\"/content/drive\", force_remount=True).\n"
          ],
          "name": "stdout"
        }
      ]
    },
    {
      "cell_type": "code",
      "metadata": {
        "colab": {
          "base_uri": "https://localhost:8080/"
        },
        "id": "OW9_l0fGY3tq",
        "outputId": "5d27c76c-ea57-4ef2-c888-73c64fe26603"
      },
      "source": [
        "cd /content/drive/MyDrive/data/Restaurant_Visitor_Forecasting"
      ],
      "execution_count": 2,
      "outputs": [
        {
          "output_type": "stream",
          "text": [
            "/content/drive/MyDrive/data/Restaurant_Visitor_Forecasting\n"
          ],
          "name": "stdout"
        }
      ]
    },
    {
      "cell_type": "code",
      "metadata": {
        "id": "a7E6z7gxPv1y"
      },
      "source": [
        "import numpy as np\n",
        "import pandas as pd\n",
        "from sklearn import ensemble, neighbors, linear_model, metrics, preprocessing\n",
        "from datetime import datetime"
      ],
      "execution_count": 3,
      "outputs": []
    },
    {
      "cell_type": "markdown",
      "metadata": {
        "id": "gMiCsag5z7np"
      },
      "source": [
        "## 데이터 불러오기"
      ]
    },
    {
      "cell_type": "code",
      "metadata": {
        "id": "Zx0WGV4LQbhd"
      },
      "source": [
        "data = {\n",
        "    'tra': pd.read_csv('air_visit_data.csv'),\n",
        "    'as': pd.read_csv('air_store_info.csv'),\n",
        "    'hs': pd.read_csv('hpg_store_info.csv'),\n",
        "    'ar': pd.read_csv('air_reserve.csv'),\n",
        "    'hr': pd.read_csv('hpg_reserve.csv'),\n",
        "    'id': pd.read_csv('store_id_relation.csv'),\n",
        "    'tes': pd.read_csv('sample_submission.csv'),\n",
        "    'hol': pd.read_csv('date_info.csv').rename(columns={'calendar_date':'visit_date'})\n",
        "}"
      ],
      "execution_count": 4,
      "outputs": []
    },
    {
      "cell_type": "markdown",
      "metadata": {
        "id": "tgQ3IwHz5yJ1"
      },
      "source": [
        "# 데이터 전처리"
      ]
    },
    {
      "cell_type": "markdown",
      "metadata": {
        "id": "b6RpGoyR3BA9"
      },
      "source": [
        "## hpg 데이터 중에서 `store_id_relation`에 `id`가 있는 데이터만 가져오기\n",
        "\n",
        "`air`의 경우에는 `air_visit_data`에 타깃이 되는 `visitors` 데이터가 있지만, `hpg` 데이터는 그렇지 않다.\n",
        "\n",
        "`store_id_relation`을 이용하여 `air`와 공통된 키 값이 있는 데이터만 키 값이 없는 `hpg` 데이터는 과감히 쳐내준다.\n",
        "\n"
      ]
    },
    {
      "cell_type": "code",
      "metadata": {
        "colab": {
          "base_uri": "https://localhost:8080/",
          "height": 419
        },
        "id": "leQeJRpT0fLZ",
        "outputId": "1debb403-505f-45b4-9a57-5a5e3a9c5acf"
      },
      "source": [
        "data['id'] # id는 총 150개"
      ],
      "execution_count": 5,
      "outputs": [
        {
          "output_type": "execute_result",
          "data": {
            "text/html": [
              "<div>\n",
              "<style scoped>\n",
              "    .dataframe tbody tr th:only-of-type {\n",
              "        vertical-align: middle;\n",
              "    }\n",
              "\n",
              "    .dataframe tbody tr th {\n",
              "        vertical-align: top;\n",
              "    }\n",
              "\n",
              "    .dataframe thead th {\n",
              "        text-align: right;\n",
              "    }\n",
              "</style>\n",
              "<table border=\"1\" class=\"dataframe\">\n",
              "  <thead>\n",
              "    <tr style=\"text-align: right;\">\n",
              "      <th></th>\n",
              "      <th>air_store_id</th>\n",
              "      <th>hpg_store_id</th>\n",
              "    </tr>\n",
              "  </thead>\n",
              "  <tbody>\n",
              "    <tr>\n",
              "      <th>0</th>\n",
              "      <td>air_63b13c56b7201bd9</td>\n",
              "      <td>hpg_4bc649e72e2a239a</td>\n",
              "    </tr>\n",
              "    <tr>\n",
              "      <th>1</th>\n",
              "      <td>air_a24bf50c3e90d583</td>\n",
              "      <td>hpg_c34b496d0305a809</td>\n",
              "    </tr>\n",
              "    <tr>\n",
              "      <th>2</th>\n",
              "      <td>air_c7f78b4f3cba33ff</td>\n",
              "      <td>hpg_cd8ae0d9bbd58ff9</td>\n",
              "    </tr>\n",
              "    <tr>\n",
              "      <th>3</th>\n",
              "      <td>air_947eb2cae4f3e8f2</td>\n",
              "      <td>hpg_de24ea49dc25d6b8</td>\n",
              "    </tr>\n",
              "    <tr>\n",
              "      <th>4</th>\n",
              "      <td>air_965b2e0cf4119003</td>\n",
              "      <td>hpg_653238a84804d8e7</td>\n",
              "    </tr>\n",
              "    <tr>\n",
              "      <th>...</th>\n",
              "      <td>...</td>\n",
              "      <td>...</td>\n",
              "    </tr>\n",
              "    <tr>\n",
              "      <th>145</th>\n",
              "      <td>air_b8925441167c3152</td>\n",
              "      <td>hpg_0cc0abae3a8b52de</td>\n",
              "    </tr>\n",
              "    <tr>\n",
              "      <th>146</th>\n",
              "      <td>air_f8233ad00755c35c</td>\n",
              "      <td>hpg_098e4dd30e54fee6</td>\n",
              "    </tr>\n",
              "    <tr>\n",
              "      <th>147</th>\n",
              "      <td>air_6607fe3671242ce3</td>\n",
              "      <td>hpg_1004356dc8ab69ec</td>\n",
              "    </tr>\n",
              "    <tr>\n",
              "      <th>148</th>\n",
              "      <td>air_ccd19a5bc5573ae5</td>\n",
              "      <td>hpg_df22bf146d2c7e19</td>\n",
              "    </tr>\n",
              "    <tr>\n",
              "      <th>149</th>\n",
              "      <td>air_465bddfed3353b23</td>\n",
              "      <td>hpg_23c5945dc1a72454</td>\n",
              "    </tr>\n",
              "  </tbody>\n",
              "</table>\n",
              "<p>150 rows × 2 columns</p>\n",
              "</div>"
            ],
            "text/plain": [
              "             air_store_id          hpg_store_id\n",
              "0    air_63b13c56b7201bd9  hpg_4bc649e72e2a239a\n",
              "1    air_a24bf50c3e90d583  hpg_c34b496d0305a809\n",
              "2    air_c7f78b4f3cba33ff  hpg_cd8ae0d9bbd58ff9\n",
              "3    air_947eb2cae4f3e8f2  hpg_de24ea49dc25d6b8\n",
              "4    air_965b2e0cf4119003  hpg_653238a84804d8e7\n",
              "..                    ...                   ...\n",
              "145  air_b8925441167c3152  hpg_0cc0abae3a8b52de\n",
              "146  air_f8233ad00755c35c  hpg_098e4dd30e54fee6\n",
              "147  air_6607fe3671242ce3  hpg_1004356dc8ab69ec\n",
              "148  air_ccd19a5bc5573ae5  hpg_df22bf146d2c7e19\n",
              "149  air_465bddfed3353b23  hpg_23c5945dc1a72454\n",
              "\n",
              "[150 rows x 2 columns]"
            ]
          },
          "metadata": {
            "tags": []
          },
          "execution_count": 5
        }
      ]
    },
    {
      "cell_type": "markdown",
      "metadata": {
        "id": "nrpDtMod3Xxz"
      },
      "source": [
        "- `id`는 총 150개이고 `hpg` 데이터 중에서 `id`에 있는 데이터들만 사용을 한다."
      ]
    },
    {
      "cell_type": "code",
      "metadata": {
        "colab": {
          "base_uri": "https://localhost:8080/"
        },
        "id": "LOK6dMuf2tvp",
        "outputId": "f7862f0f-1a52-45dc-e6d4-8f32dfdec9e9"
      },
      "source": [
        "# merge 전 hpg_reserve 데이터 수\n",
        "print(\"merge  전 hpg_reserve 데이터 수: \", len(data['hr']))"
      ],
      "execution_count": 6,
      "outputs": [
        {
          "output_type": "stream",
          "text": [
            "merge  전 hpg_reserve 데이터 수:  2000320\n"
          ],
          "name": "stdout"
        }
      ]
    },
    {
      "cell_type": "code",
      "metadata": {
        "colab": {
          "base_uri": "https://localhost:8080/",
          "height": 204
        },
        "id": "q7R9pu-7Q-Ni",
        "outputId": "da04fc7a-634a-42c4-f00d-affc098254de"
      },
      "source": [
        "# hpg_reserve.csv에 store_id_relation.csv를 hpg_store_id 기준으로 inner merge\n",
        "data['hr'] = pd.merge(data['hr'], data['id'], how='inner', on=['hpg_store_id'])\n",
        "\n",
        "data['hr'].head()"
      ],
      "execution_count": 7,
      "outputs": [
        {
          "output_type": "execute_result",
          "data": {
            "text/html": [
              "<div>\n",
              "<style scoped>\n",
              "    .dataframe tbody tr th:only-of-type {\n",
              "        vertical-align: middle;\n",
              "    }\n",
              "\n",
              "    .dataframe tbody tr th {\n",
              "        vertical-align: top;\n",
              "    }\n",
              "\n",
              "    .dataframe thead th {\n",
              "        text-align: right;\n",
              "    }\n",
              "</style>\n",
              "<table border=\"1\" class=\"dataframe\">\n",
              "  <thead>\n",
              "    <tr style=\"text-align: right;\">\n",
              "      <th></th>\n",
              "      <th>hpg_store_id</th>\n",
              "      <th>visit_datetime</th>\n",
              "      <th>reserve_datetime</th>\n",
              "      <th>reserve_visitors</th>\n",
              "      <th>air_store_id</th>\n",
              "    </tr>\n",
              "  </thead>\n",
              "  <tbody>\n",
              "    <tr>\n",
              "      <th>0</th>\n",
              "      <td>hpg_878cc70b1abc76f7</td>\n",
              "      <td>2016-01-01 19:00:00</td>\n",
              "      <td>2016-01-01 15:00:00</td>\n",
              "      <td>4</td>\n",
              "      <td>air_db80363d35f10926</td>\n",
              "    </tr>\n",
              "    <tr>\n",
              "      <th>1</th>\n",
              "      <td>hpg_878cc70b1abc76f7</td>\n",
              "      <td>2016-01-02 19:00:00</td>\n",
              "      <td>2016-01-02 14:00:00</td>\n",
              "      <td>2</td>\n",
              "      <td>air_db80363d35f10926</td>\n",
              "    </tr>\n",
              "    <tr>\n",
              "      <th>2</th>\n",
              "      <td>hpg_878cc70b1abc76f7</td>\n",
              "      <td>2016-01-03 18:00:00</td>\n",
              "      <td>2016-01-02 20:00:00</td>\n",
              "      <td>6</td>\n",
              "      <td>air_db80363d35f10926</td>\n",
              "    </tr>\n",
              "    <tr>\n",
              "      <th>3</th>\n",
              "      <td>hpg_878cc70b1abc76f7</td>\n",
              "      <td>2016-01-06 20:00:00</td>\n",
              "      <td>2016-01-04 22:00:00</td>\n",
              "      <td>3</td>\n",
              "      <td>air_db80363d35f10926</td>\n",
              "    </tr>\n",
              "    <tr>\n",
              "      <th>4</th>\n",
              "      <td>hpg_878cc70b1abc76f7</td>\n",
              "      <td>2016-01-11 18:00:00</td>\n",
              "      <td>2016-01-11 14:00:00</td>\n",
              "      <td>2</td>\n",
              "      <td>air_db80363d35f10926</td>\n",
              "    </tr>\n",
              "  </tbody>\n",
              "</table>\n",
              "</div>"
            ],
            "text/plain": [
              "           hpg_store_id  ...          air_store_id\n",
              "0  hpg_878cc70b1abc76f7  ...  air_db80363d35f10926\n",
              "1  hpg_878cc70b1abc76f7  ...  air_db80363d35f10926\n",
              "2  hpg_878cc70b1abc76f7  ...  air_db80363d35f10926\n",
              "3  hpg_878cc70b1abc76f7  ...  air_db80363d35f10926\n",
              "4  hpg_878cc70b1abc76f7  ...  air_db80363d35f10926\n",
              "\n",
              "[5 rows x 5 columns]"
            ]
          },
          "metadata": {
            "tags": []
          },
          "execution_count": 7
        }
      ]
    },
    {
      "cell_type": "code",
      "metadata": {
        "colab": {
          "base_uri": "https://localhost:8080/"
        },
        "id": "tfvseNOI0ZSj",
        "outputId": "e1229db9-2979-4fc7-8971-c958ab2fc1c2"
      },
      "source": [
        "# merge 후 hpg_reserve 데이터 수\n",
        "print(\"merge 후 hpg_reserve 데이터 수: \", len(data['hr']))"
      ],
      "execution_count": 8,
      "outputs": [
        {
          "output_type": "stream",
          "text": [
            "merge 후 hpg_reserve 데이터 수:  28183\n"
          ],
          "name": "stdout"
        }
      ]
    },
    {
      "cell_type": "markdown",
      "metadata": {
        "id": "CfqWd61_3jjd"
      },
      "source": [
        "- `id`만 있는 데이터들만 `merge`한 결과 데이터 개수가 크게 줄었다. \n",
        "    - 2000320 -> 28183"
      ]
    },
    {
      "cell_type": "markdown",
      "metadata": {
        "id": "ceVmu5ih5tb-"
      },
      "source": [
        "## `AIR`와 `HPG`에서 `datetime` 데이터 처리\n",
        "- '연-월-일-시'를 '연-월-일`로 바꿔준다.\n",
        "    - `2016-01-01 19:00:00` -> `2016-01-01`\n",
        "- `reserve_datetime_diff` 컬럼 생성(예약한 시간 - 방문 예정 시간)\n",
        "\n"
      ]
    },
    {
      "cell_type": "code",
      "metadata": {
        "id": "ARHKD8fURZD9"
      },
      "source": [
        "for df in ['ar', 'hr']:\n",
        "    data[df]['visit_datetime'] = pd.to_datetime(data[df]['visit_datetime'])\n",
        "      # str을 datetime으로 변환\n",
        "    data[df]['visit_datetime'] = data[df]['visit_datetime'].dt.date\n",
        "      # datetime을 dt.date로 변환 \n",
        "    data[df]['reserve_datetime'] = pd.to_datetime(data[df]['reserve_datetime'])\n",
        "      # str을 datetime으로 변환\n",
        "    data[df]['reserve_datetime'] = data[df]['reserve_datetime'].dt.date\n",
        "      # datetime을 dt.date로 변환 \n",
        "    data[df]['reserve_datetime_diff'] = data[df].apply(lambda r: (r['visit_datetime'] - r['reserve_datetime']).days, axis=1)"
      ],
      "execution_count": 9,
      "outputs": []
    },
    {
      "cell_type": "code",
      "metadata": {
        "colab": {
          "base_uri": "https://localhost:8080/",
          "height": 204
        },
        "id": "qiPuuJTQ6oV3",
        "outputId": "512b4da1-6f88-4fb7-892e-d58618052ef9"
      },
      "source": [
        "data['ar'].head()"
      ],
      "execution_count": 10,
      "outputs": [
        {
          "output_type": "execute_result",
          "data": {
            "text/html": [
              "<div>\n",
              "<style scoped>\n",
              "    .dataframe tbody tr th:only-of-type {\n",
              "        vertical-align: middle;\n",
              "    }\n",
              "\n",
              "    .dataframe tbody tr th {\n",
              "        vertical-align: top;\n",
              "    }\n",
              "\n",
              "    .dataframe thead th {\n",
              "        text-align: right;\n",
              "    }\n",
              "</style>\n",
              "<table border=\"1\" class=\"dataframe\">\n",
              "  <thead>\n",
              "    <tr style=\"text-align: right;\">\n",
              "      <th></th>\n",
              "      <th>air_store_id</th>\n",
              "      <th>visit_datetime</th>\n",
              "      <th>reserve_datetime</th>\n",
              "      <th>reserve_visitors</th>\n",
              "      <th>reserve_datetime_diff</th>\n",
              "    </tr>\n",
              "  </thead>\n",
              "  <tbody>\n",
              "    <tr>\n",
              "      <th>0</th>\n",
              "      <td>air_877f79706adbfb06</td>\n",
              "      <td>2016-01-01</td>\n",
              "      <td>2016-01-01</td>\n",
              "      <td>1</td>\n",
              "      <td>0</td>\n",
              "    </tr>\n",
              "    <tr>\n",
              "      <th>1</th>\n",
              "      <td>air_db4b38ebe7a7ceff</td>\n",
              "      <td>2016-01-01</td>\n",
              "      <td>2016-01-01</td>\n",
              "      <td>3</td>\n",
              "      <td>0</td>\n",
              "    </tr>\n",
              "    <tr>\n",
              "      <th>2</th>\n",
              "      <td>air_db4b38ebe7a7ceff</td>\n",
              "      <td>2016-01-01</td>\n",
              "      <td>2016-01-01</td>\n",
              "      <td>6</td>\n",
              "      <td>0</td>\n",
              "    </tr>\n",
              "    <tr>\n",
              "      <th>3</th>\n",
              "      <td>air_877f79706adbfb06</td>\n",
              "      <td>2016-01-01</td>\n",
              "      <td>2016-01-01</td>\n",
              "      <td>2</td>\n",
              "      <td>0</td>\n",
              "    </tr>\n",
              "    <tr>\n",
              "      <th>4</th>\n",
              "      <td>air_db80363d35f10926</td>\n",
              "      <td>2016-01-01</td>\n",
              "      <td>2016-01-01</td>\n",
              "      <td>5</td>\n",
              "      <td>0</td>\n",
              "    </tr>\n",
              "  </tbody>\n",
              "</table>\n",
              "</div>"
            ],
            "text/plain": [
              "           air_store_id visit_datetime  ... reserve_visitors  reserve_datetime_diff\n",
              "0  air_877f79706adbfb06     2016-01-01  ...                1                      0\n",
              "1  air_db4b38ebe7a7ceff     2016-01-01  ...                3                      0\n",
              "2  air_db4b38ebe7a7ceff     2016-01-01  ...                6                      0\n",
              "3  air_877f79706adbfb06     2016-01-01  ...                2                      0\n",
              "4  air_db80363d35f10926     2016-01-01  ...                5                      0\n",
              "\n",
              "[5 rows x 5 columns]"
            ]
          },
          "metadata": {
            "tags": []
          },
          "execution_count": 10
        }
      ]
    },
    {
      "cell_type": "code",
      "metadata": {
        "colab": {
          "base_uri": "https://localhost:8080/",
          "height": 204
        },
        "id": "5n7afxvT6pdE",
        "outputId": "1e51a696-2d03-472f-c4b7-85898a5099c0"
      },
      "source": [
        "data['hr'].head()"
      ],
      "execution_count": 11,
      "outputs": [
        {
          "output_type": "execute_result",
          "data": {
            "text/html": [
              "<div>\n",
              "<style scoped>\n",
              "    .dataframe tbody tr th:only-of-type {\n",
              "        vertical-align: middle;\n",
              "    }\n",
              "\n",
              "    .dataframe tbody tr th {\n",
              "        vertical-align: top;\n",
              "    }\n",
              "\n",
              "    .dataframe thead th {\n",
              "        text-align: right;\n",
              "    }\n",
              "</style>\n",
              "<table border=\"1\" class=\"dataframe\">\n",
              "  <thead>\n",
              "    <tr style=\"text-align: right;\">\n",
              "      <th></th>\n",
              "      <th>hpg_store_id</th>\n",
              "      <th>visit_datetime</th>\n",
              "      <th>reserve_datetime</th>\n",
              "      <th>reserve_visitors</th>\n",
              "      <th>air_store_id</th>\n",
              "      <th>reserve_datetime_diff</th>\n",
              "    </tr>\n",
              "  </thead>\n",
              "  <tbody>\n",
              "    <tr>\n",
              "      <th>0</th>\n",
              "      <td>hpg_878cc70b1abc76f7</td>\n",
              "      <td>2016-01-01</td>\n",
              "      <td>2016-01-01</td>\n",
              "      <td>4</td>\n",
              "      <td>air_db80363d35f10926</td>\n",
              "      <td>0</td>\n",
              "    </tr>\n",
              "    <tr>\n",
              "      <th>1</th>\n",
              "      <td>hpg_878cc70b1abc76f7</td>\n",
              "      <td>2016-01-02</td>\n",
              "      <td>2016-01-02</td>\n",
              "      <td>2</td>\n",
              "      <td>air_db80363d35f10926</td>\n",
              "      <td>0</td>\n",
              "    </tr>\n",
              "    <tr>\n",
              "      <th>2</th>\n",
              "      <td>hpg_878cc70b1abc76f7</td>\n",
              "      <td>2016-01-03</td>\n",
              "      <td>2016-01-02</td>\n",
              "      <td>6</td>\n",
              "      <td>air_db80363d35f10926</td>\n",
              "      <td>1</td>\n",
              "    </tr>\n",
              "    <tr>\n",
              "      <th>3</th>\n",
              "      <td>hpg_878cc70b1abc76f7</td>\n",
              "      <td>2016-01-06</td>\n",
              "      <td>2016-01-04</td>\n",
              "      <td>3</td>\n",
              "      <td>air_db80363d35f10926</td>\n",
              "      <td>2</td>\n",
              "    </tr>\n",
              "    <tr>\n",
              "      <th>4</th>\n",
              "      <td>hpg_878cc70b1abc76f7</td>\n",
              "      <td>2016-01-11</td>\n",
              "      <td>2016-01-11</td>\n",
              "      <td>2</td>\n",
              "      <td>air_db80363d35f10926</td>\n",
              "      <td>0</td>\n",
              "    </tr>\n",
              "  </tbody>\n",
              "</table>\n",
              "</div>"
            ],
            "text/plain": [
              "           hpg_store_id  ... reserve_datetime_diff\n",
              "0  hpg_878cc70b1abc76f7  ...                     0\n",
              "1  hpg_878cc70b1abc76f7  ...                     0\n",
              "2  hpg_878cc70b1abc76f7  ...                     1\n",
              "3  hpg_878cc70b1abc76f7  ...                     2\n",
              "4  hpg_878cc70b1abc76f7  ...                     0\n",
              "\n",
              "[5 rows x 6 columns]"
            ]
          },
          "metadata": {
            "tags": []
          },
          "execution_count": 11
        }
      ]
    },
    {
      "cell_type": "markdown",
      "metadata": {
        "id": "eAtYySVT65v0"
      },
      "source": [
        "### `AIR`와 `HPG` 데이터를 `air_store_id`와 `visit_datetime`으로 `groupby`"
      ]
    },
    {
      "cell_type": "code",
      "metadata": {
        "id": "YRu7k9Ou6lHi"
      },
      "source": [
        "for df in ['ar', 'hr']:\n",
        "    data[df] = data[df].groupby(['air_store_id','visit_datetime'], as_index=False)[['reserve_datetime_diff', 'reserve_visitors']].sum()\n",
        "    data[df] = data[df].rename(columns={'visit_datetime':'visit_date'})"
      ],
      "execution_count": 12,
      "outputs": []
    },
    {
      "cell_type": "code",
      "metadata": {
        "colab": {
          "base_uri": "https://localhost:8080/",
          "height": 0
        },
        "id": "vbt1k03-tJLj",
        "outputId": "4c0ee1df-babd-45a1-d41d-9e4d98958870"
      },
      "source": [
        "data['ar'].head()"
      ],
      "execution_count": 13,
      "outputs": [
        {
          "output_type": "execute_result",
          "data": {
            "text/html": [
              "<div>\n",
              "<style scoped>\n",
              "    .dataframe tbody tr th:only-of-type {\n",
              "        vertical-align: middle;\n",
              "    }\n",
              "\n",
              "    .dataframe tbody tr th {\n",
              "        vertical-align: top;\n",
              "    }\n",
              "\n",
              "    .dataframe thead th {\n",
              "        text-align: right;\n",
              "    }\n",
              "</style>\n",
              "<table border=\"1\" class=\"dataframe\">\n",
              "  <thead>\n",
              "    <tr style=\"text-align: right;\">\n",
              "      <th></th>\n",
              "      <th>air_store_id</th>\n",
              "      <th>visit_date</th>\n",
              "      <th>reserve_datetime_diff</th>\n",
              "      <th>reserve_visitors</th>\n",
              "    </tr>\n",
              "  </thead>\n",
              "  <tbody>\n",
              "    <tr>\n",
              "      <th>0</th>\n",
              "      <td>air_00a91d42b08b08d9</td>\n",
              "      <td>2016-10-31</td>\n",
              "      <td>0</td>\n",
              "      <td>2</td>\n",
              "    </tr>\n",
              "    <tr>\n",
              "      <th>1</th>\n",
              "      <td>air_00a91d42b08b08d9</td>\n",
              "      <td>2016-12-05</td>\n",
              "      <td>4</td>\n",
              "      <td>9</td>\n",
              "    </tr>\n",
              "    <tr>\n",
              "      <th>2</th>\n",
              "      <td>air_00a91d42b08b08d9</td>\n",
              "      <td>2016-12-14</td>\n",
              "      <td>6</td>\n",
              "      <td>18</td>\n",
              "    </tr>\n",
              "    <tr>\n",
              "      <th>3</th>\n",
              "      <td>air_00a91d42b08b08d9</td>\n",
              "      <td>2016-12-17</td>\n",
              "      <td>6</td>\n",
              "      <td>2</td>\n",
              "    </tr>\n",
              "    <tr>\n",
              "      <th>4</th>\n",
              "      <td>air_00a91d42b08b08d9</td>\n",
              "      <td>2016-12-20</td>\n",
              "      <td>2</td>\n",
              "      <td>4</td>\n",
              "    </tr>\n",
              "  </tbody>\n",
              "</table>\n",
              "</div>"
            ],
            "text/plain": [
              "           air_store_id  visit_date  reserve_datetime_diff  reserve_visitors\n",
              "0  air_00a91d42b08b08d9  2016-10-31                      0                 2\n",
              "1  air_00a91d42b08b08d9  2016-12-05                      4                 9\n",
              "2  air_00a91d42b08b08d9  2016-12-14                      6                18\n",
              "3  air_00a91d42b08b08d9  2016-12-17                      6                 2\n",
              "4  air_00a91d42b08b08d9  2016-12-20                      2                 4"
            ]
          },
          "metadata": {
            "tags": []
          },
          "execution_count": 13
        }
      ]
    },
    {
      "cell_type": "code",
      "metadata": {
        "colab": {
          "base_uri": "https://localhost:8080/",
          "height": 0
        },
        "id": "5HvxXpzFtOkc",
        "outputId": "326ad861-b044-41cd-8a7e-1b7c1055a18c"
      },
      "source": [
        "data['hr'].head()"
      ],
      "execution_count": 14,
      "outputs": [
        {
          "output_type": "execute_result",
          "data": {
            "text/html": [
              "<div>\n",
              "<style scoped>\n",
              "    .dataframe tbody tr th:only-of-type {\n",
              "        vertical-align: middle;\n",
              "    }\n",
              "\n",
              "    .dataframe tbody tr th {\n",
              "        vertical-align: top;\n",
              "    }\n",
              "\n",
              "    .dataframe thead th {\n",
              "        text-align: right;\n",
              "    }\n",
              "</style>\n",
              "<table border=\"1\" class=\"dataframe\">\n",
              "  <thead>\n",
              "    <tr style=\"text-align: right;\">\n",
              "      <th></th>\n",
              "      <th>air_store_id</th>\n",
              "      <th>visit_date</th>\n",
              "      <th>reserve_datetime_diff</th>\n",
              "      <th>reserve_visitors</th>\n",
              "    </tr>\n",
              "  </thead>\n",
              "  <tbody>\n",
              "    <tr>\n",
              "      <th>0</th>\n",
              "      <td>air_00a91d42b08b08d9</td>\n",
              "      <td>2016-01-14</td>\n",
              "      <td>3</td>\n",
              "      <td>2</td>\n",
              "    </tr>\n",
              "    <tr>\n",
              "      <th>1</th>\n",
              "      <td>air_00a91d42b08b08d9</td>\n",
              "      <td>2016-01-15</td>\n",
              "      <td>6</td>\n",
              "      <td>4</td>\n",
              "    </tr>\n",
              "    <tr>\n",
              "      <th>2</th>\n",
              "      <td>air_00a91d42b08b08d9</td>\n",
              "      <td>2016-01-16</td>\n",
              "      <td>3</td>\n",
              "      <td>2</td>\n",
              "    </tr>\n",
              "    <tr>\n",
              "      <th>3</th>\n",
              "      <td>air_00a91d42b08b08d9</td>\n",
              "      <td>2016-01-22</td>\n",
              "      <td>3</td>\n",
              "      <td>2</td>\n",
              "    </tr>\n",
              "    <tr>\n",
              "      <th>4</th>\n",
              "      <td>air_00a91d42b08b08d9</td>\n",
              "      <td>2016-01-29</td>\n",
              "      <td>6</td>\n",
              "      <td>5</td>\n",
              "    </tr>\n",
              "  </tbody>\n",
              "</table>\n",
              "</div>"
            ],
            "text/plain": [
              "           air_store_id  visit_date  reserve_datetime_diff  reserve_visitors\n",
              "0  air_00a91d42b08b08d9  2016-01-14                      3                 2\n",
              "1  air_00a91d42b08b08d9  2016-01-15                      6                 4\n",
              "2  air_00a91d42b08b08d9  2016-01-16                      3                 2\n",
              "3  air_00a91d42b08b08d9  2016-01-22                      3                 2\n",
              "4  air_00a91d42b08b08d9  2016-01-29                      6                 5"
            ]
          },
          "metadata": {
            "tags": []
          },
          "execution_count": 14
        }
      ]
    },
    {
      "cell_type": "markdown",
      "metadata": {
        "id": "owJgeglgtXUt"
      },
      "source": [
        "- `visit_datetime`에서 날짜만 뽑아서 새로운 컬럼을 만들어준다.\n",
        "- `lambda` 함수를 이용해 방문 예정 시간 `visit_datetime`과 예약한 시간 `reserve_datetime`을 뺴줘 새로운 컬럼인 `reserve_datetime_diff`를 만들어준다.\n"
      ]
    },
    {
      "cell_type": "markdown",
      "metadata": {
        "id": "F3yb2GGF7QgG"
      },
      "source": [
        "## train data (`air_visit_data`) 요일, 연도, 월 feature 추가\n",
        "\n",
        "- `dow` : day of week\n",
        "- `year`\n",
        "- `month`"
      ]
    },
    {
      "cell_type": "code",
      "metadata": {
        "colab": {
          "base_uri": "https://localhost:8080/",
          "height": 204
        },
        "id": "NfBhxo5ZSdEb",
        "outputId": "c9cfd178-7250-4c69-aba4-c10a2daf82b8"
      },
      "source": [
        "# air_visit_data\n",
        "\n",
        "data['tra']['visit_date'] = pd.to_datetime(data['tra']['visit_date'])\n",
        "  # str을 datetime으로 변환\n",
        "data['tra']['dow'] = data['tra']['visit_date'].dt.dayofweek\n",
        "  # 요일을 의미하는 숫자 변수 생성\n",
        "data['tra']['year'] = data['tra']['visit_date'].dt.year\n",
        "  # 년도 year 변수 생성\n",
        "data['tra']['month'] = data['tra']['visit_date'].dt.month\n",
        "  # 달 month 변수 생성\n",
        "data['tra']['visit_date'] = data['tra']['visit_date'].dt.date\n",
        "  # datetime을 dt.date로 변환\n",
        "data['tra'].head()"
      ],
      "execution_count": 15,
      "outputs": [
        {
          "output_type": "execute_result",
          "data": {
            "text/html": [
              "<div>\n",
              "<style scoped>\n",
              "    .dataframe tbody tr th:only-of-type {\n",
              "        vertical-align: middle;\n",
              "    }\n",
              "\n",
              "    .dataframe tbody tr th {\n",
              "        vertical-align: top;\n",
              "    }\n",
              "\n",
              "    .dataframe thead th {\n",
              "        text-align: right;\n",
              "    }\n",
              "</style>\n",
              "<table border=\"1\" class=\"dataframe\">\n",
              "  <thead>\n",
              "    <tr style=\"text-align: right;\">\n",
              "      <th></th>\n",
              "      <th>air_store_id</th>\n",
              "      <th>visit_date</th>\n",
              "      <th>visitors</th>\n",
              "      <th>dow</th>\n",
              "      <th>year</th>\n",
              "      <th>month</th>\n",
              "    </tr>\n",
              "  </thead>\n",
              "  <tbody>\n",
              "    <tr>\n",
              "      <th>0</th>\n",
              "      <td>air_ba937bf13d40fb24</td>\n",
              "      <td>2016-01-13</td>\n",
              "      <td>25</td>\n",
              "      <td>2</td>\n",
              "      <td>2016</td>\n",
              "      <td>1</td>\n",
              "    </tr>\n",
              "    <tr>\n",
              "      <th>1</th>\n",
              "      <td>air_ba937bf13d40fb24</td>\n",
              "      <td>2016-01-14</td>\n",
              "      <td>32</td>\n",
              "      <td>3</td>\n",
              "      <td>2016</td>\n",
              "      <td>1</td>\n",
              "    </tr>\n",
              "    <tr>\n",
              "      <th>2</th>\n",
              "      <td>air_ba937bf13d40fb24</td>\n",
              "      <td>2016-01-15</td>\n",
              "      <td>29</td>\n",
              "      <td>4</td>\n",
              "      <td>2016</td>\n",
              "      <td>1</td>\n",
              "    </tr>\n",
              "    <tr>\n",
              "      <th>3</th>\n",
              "      <td>air_ba937bf13d40fb24</td>\n",
              "      <td>2016-01-16</td>\n",
              "      <td>22</td>\n",
              "      <td>5</td>\n",
              "      <td>2016</td>\n",
              "      <td>1</td>\n",
              "    </tr>\n",
              "    <tr>\n",
              "      <th>4</th>\n",
              "      <td>air_ba937bf13d40fb24</td>\n",
              "      <td>2016-01-18</td>\n",
              "      <td>6</td>\n",
              "      <td>0</td>\n",
              "      <td>2016</td>\n",
              "      <td>1</td>\n",
              "    </tr>\n",
              "  </tbody>\n",
              "</table>\n",
              "</div>"
            ],
            "text/plain": [
              "           air_store_id  visit_date  visitors  dow  year  month\n",
              "0  air_ba937bf13d40fb24  2016-01-13        25    2  2016      1\n",
              "1  air_ba937bf13d40fb24  2016-01-14        32    3  2016      1\n",
              "2  air_ba937bf13d40fb24  2016-01-15        29    4  2016      1\n",
              "3  air_ba937bf13d40fb24  2016-01-16        22    5  2016      1\n",
              "4  air_ba937bf13d40fb24  2016-01-18         6    0  2016      1"
            ]
          },
          "metadata": {
            "tags": []
          },
          "execution_count": 15
        }
      ]
    },
    {
      "cell_type": "markdown",
      "metadata": {
        "id": "GjaYVt4i9BLp"
      },
      "source": [
        "## test data 셋에 컬럼 추가"
      ]
    },
    {
      "cell_type": "code",
      "metadata": {
        "colab": {
          "base_uri": "https://localhost:8080/",
          "height": 204
        },
        "id": "WvfW1w72vtOy",
        "outputId": "0a72cba3-cfa7-4095-a8d2-aa8ae1bf9b03"
      },
      "source": [
        "# test data (sample_submission) 확인\n",
        "data['tes'].head()"
      ],
      "execution_count": 16,
      "outputs": [
        {
          "output_type": "execute_result",
          "data": {
            "text/html": [
              "<div>\n",
              "<style scoped>\n",
              "    .dataframe tbody tr th:only-of-type {\n",
              "        vertical-align: middle;\n",
              "    }\n",
              "\n",
              "    .dataframe tbody tr th {\n",
              "        vertical-align: top;\n",
              "    }\n",
              "\n",
              "    .dataframe thead th {\n",
              "        text-align: right;\n",
              "    }\n",
              "</style>\n",
              "<table border=\"1\" class=\"dataframe\">\n",
              "  <thead>\n",
              "    <tr style=\"text-align: right;\">\n",
              "      <th></th>\n",
              "      <th>id</th>\n",
              "      <th>visitors</th>\n",
              "    </tr>\n",
              "  </thead>\n",
              "  <tbody>\n",
              "    <tr>\n",
              "      <th>0</th>\n",
              "      <td>air_00a91d42b08b08d9_2017-04-23</td>\n",
              "      <td>0</td>\n",
              "    </tr>\n",
              "    <tr>\n",
              "      <th>1</th>\n",
              "      <td>air_00a91d42b08b08d9_2017-04-24</td>\n",
              "      <td>0</td>\n",
              "    </tr>\n",
              "    <tr>\n",
              "      <th>2</th>\n",
              "      <td>air_00a91d42b08b08d9_2017-04-25</td>\n",
              "      <td>0</td>\n",
              "    </tr>\n",
              "    <tr>\n",
              "      <th>3</th>\n",
              "      <td>air_00a91d42b08b08d9_2017-04-26</td>\n",
              "      <td>0</td>\n",
              "    </tr>\n",
              "    <tr>\n",
              "      <th>4</th>\n",
              "      <td>air_00a91d42b08b08d9_2017-04-27</td>\n",
              "      <td>0</td>\n",
              "    </tr>\n",
              "  </tbody>\n",
              "</table>\n",
              "</div>"
            ],
            "text/plain": [
              "                                id  visitors\n",
              "0  air_00a91d42b08b08d9_2017-04-23         0\n",
              "1  air_00a91d42b08b08d9_2017-04-24         0\n",
              "2  air_00a91d42b08b08d9_2017-04-25         0\n",
              "3  air_00a91d42b08b08d9_2017-04-26         0\n",
              "4  air_00a91d42b08b08d9_2017-04-27         0"
            ]
          },
          "metadata": {
            "tags": []
          },
          "execution_count": 16
        }
      ]
    },
    {
      "cell_type": "markdown",
      "metadata": {
        "id": "FJ_6U8Uu9T-y"
      },
      "source": [
        "### 테스트 셋에 컬럼 추가\n",
        "\n",
        "- 날짜(last week of April ~ May of 2017)\n",
        "- `air_store_id`\n",
        "- 요일, 연도, 달(month)"
      ]
    },
    {
      "cell_type": "code",
      "metadata": {
        "colab": {
          "base_uri": "https://localhost:8080/",
          "height": 0
        },
        "id": "LZ-8PI2uS9f2",
        "outputId": "ab4183ec-9044-45d5-9d22-4672f2bdfaef"
      },
      "source": [
        "# sample_submission\n",
        "\n",
        "data['tes']['visit_date'] = data['tes']['id'].map(lambda x: str(x).split('_')[2])\n",
        "  # id 변수에서 날짜를 뽑아와 visit_date 변수 생성\n",
        "data['tes']['air_store_id'] = data['tes']['id'].map(lambda x: '_'.join(x.split('_')[:2]))\n",
        "  # id 변수에서 store id를 뽑아와 air_store_id 변수 생성\n",
        "data['tes']['visit_date'] = pd.to_datetime(data['tes']['visit_date'])\n",
        "  # str을 datetime으로 변환\n",
        "data['tes']['dow'] = data['tes']['visit_date'].dt.dayofweek\n",
        "  # 요일을 의미하는 숫자 변수 생성\n",
        "data['tes']['year'] = data['tes']['visit_date'].dt.year\n",
        "  # 년도 year 변수 생성\n",
        "data['tes']['month'] = data['tes']['visit_date'].dt.month\n",
        "  # 달 month 변수 생성\n",
        "data['tes']['visit_date'] = data['tes']['visit_date'].dt.date\n",
        "  # datetime을 dt.date로 변환\n",
        "\n",
        "data['tes'].head()"
      ],
      "execution_count": 17,
      "outputs": [
        {
          "output_type": "execute_result",
          "data": {
            "text/html": [
              "<div>\n",
              "<style scoped>\n",
              "    .dataframe tbody tr th:only-of-type {\n",
              "        vertical-align: middle;\n",
              "    }\n",
              "\n",
              "    .dataframe tbody tr th {\n",
              "        vertical-align: top;\n",
              "    }\n",
              "\n",
              "    .dataframe thead th {\n",
              "        text-align: right;\n",
              "    }\n",
              "</style>\n",
              "<table border=\"1\" class=\"dataframe\">\n",
              "  <thead>\n",
              "    <tr style=\"text-align: right;\">\n",
              "      <th></th>\n",
              "      <th>id</th>\n",
              "      <th>visitors</th>\n",
              "      <th>visit_date</th>\n",
              "      <th>air_store_id</th>\n",
              "      <th>dow</th>\n",
              "      <th>year</th>\n",
              "      <th>month</th>\n",
              "    </tr>\n",
              "  </thead>\n",
              "  <tbody>\n",
              "    <tr>\n",
              "      <th>0</th>\n",
              "      <td>air_00a91d42b08b08d9_2017-04-23</td>\n",
              "      <td>0</td>\n",
              "      <td>2017-04-23</td>\n",
              "      <td>air_00a91d42b08b08d9</td>\n",
              "      <td>6</td>\n",
              "      <td>2017</td>\n",
              "      <td>4</td>\n",
              "    </tr>\n",
              "    <tr>\n",
              "      <th>1</th>\n",
              "      <td>air_00a91d42b08b08d9_2017-04-24</td>\n",
              "      <td>0</td>\n",
              "      <td>2017-04-24</td>\n",
              "      <td>air_00a91d42b08b08d9</td>\n",
              "      <td>0</td>\n",
              "      <td>2017</td>\n",
              "      <td>4</td>\n",
              "    </tr>\n",
              "    <tr>\n",
              "      <th>2</th>\n",
              "      <td>air_00a91d42b08b08d9_2017-04-25</td>\n",
              "      <td>0</td>\n",
              "      <td>2017-04-25</td>\n",
              "      <td>air_00a91d42b08b08d9</td>\n",
              "      <td>1</td>\n",
              "      <td>2017</td>\n",
              "      <td>4</td>\n",
              "    </tr>\n",
              "    <tr>\n",
              "      <th>3</th>\n",
              "      <td>air_00a91d42b08b08d9_2017-04-26</td>\n",
              "      <td>0</td>\n",
              "      <td>2017-04-26</td>\n",
              "      <td>air_00a91d42b08b08d9</td>\n",
              "      <td>2</td>\n",
              "      <td>2017</td>\n",
              "      <td>4</td>\n",
              "    </tr>\n",
              "    <tr>\n",
              "      <th>4</th>\n",
              "      <td>air_00a91d42b08b08d9_2017-04-27</td>\n",
              "      <td>0</td>\n",
              "      <td>2017-04-27</td>\n",
              "      <td>air_00a91d42b08b08d9</td>\n",
              "      <td>3</td>\n",
              "      <td>2017</td>\n",
              "      <td>4</td>\n",
              "    </tr>\n",
              "  </tbody>\n",
              "</table>\n",
              "</div>"
            ],
            "text/plain": [
              "                                id  visitors  visit_date  ... dow  year  month\n",
              "0  air_00a91d42b08b08d9_2017-04-23         0  2017-04-23  ...   6  2017      4\n",
              "1  air_00a91d42b08b08d9_2017-04-24         0  2017-04-24  ...   0  2017      4\n",
              "2  air_00a91d42b08b08d9_2017-04-25         0  2017-04-25  ...   1  2017      4\n",
              "3  air_00a91d42b08b08d9_2017-04-26         0  2017-04-26  ...   2  2017      4\n",
              "4  air_00a91d42b08b08d9_2017-04-27         0  2017-04-27  ...   3  2017      4\n",
              "\n",
              "[5 rows x 7 columns]"
            ]
          },
          "metadata": {
            "tags": []
          },
          "execution_count": 17
        }
      ]
    },
    {
      "cell_type": "markdown",
      "metadata": {
        "id": "_OC0U9i9FwSx"
      },
      "source": [
        "## 요일 별 데이터를 저장하기 위한 `stores` 생성\n",
        "\n",
        "테스트 셋 821개의 식당있는데 요일별 데이터를 저장하기 위해 `dow` 마다 데이터를 추가해준다."
      ]
    },
    {
      "cell_type": "code",
      "metadata": {
        "colab": {
          "base_uri": "https://localhost:8080/"
        },
        "id": "H5bWmHDsyS4S",
        "outputId": "720284c9-6966-4032-e3e9-3d85911baa46"
      },
      "source": [
        "# test 데이터에서 식당 목록만 뽑아낸다\n",
        "unique_stores = data['tes']['air_store_id'].unique()\n",
        "print(\"test 데이터에 있는 식당 개수: \", len(unique_stores))"
      ],
      "execution_count": 18,
      "outputs": [
        {
          "output_type": "stream",
          "text": [
            "test 데이터에 있는 식당 개수:  821\n"
          ],
          "name": "stdout"
        }
      ]
    },
    {
      "cell_type": "markdown",
      "metadata": {
        "id": "FrFuIMYl-moY"
      },
      "source": [
        "- `test` 셋에는 총 821개의 식당이 있다."
      ]
    },
    {
      "cell_type": "code",
      "metadata": {
        "colab": {
          "base_uri": "https://localhost:8080/"
        },
        "id": "JRpXsoZIT4a_",
        "outputId": "144d270e-f48c-491f-d8f8-8e1ff8356e59"
      },
      "source": [
        "# unique_stores = data['tes']['air_store_id'].unique() # air_store id만을 뽑아낸다.\n",
        "\n",
        "# 일주일에 해당하는 만큼 unique_stores x 7\n",
        "stores = pd.concat([pd.DataFrame({'air_store_id': unique_stores, \n",
        "                                  'dow': [i] * len(unique_stores)}) for i in range(7)], \n",
        "                   axis=0, \n",
        "                   ignore_index=True).reset_index(drop=True)\n",
        "\n",
        "print(\"test 셋 식당 개수 x 일주일: \", len(stores))"
      ],
      "execution_count": 19,
      "outputs": [
        {
          "output_type": "stream",
          "text": [
            "test 셋 식당 개수 x 일주일:  5747\n"
          ],
          "name": "stdout"
        }
      ]
    },
    {
      "cell_type": "code",
      "metadata": {
        "colab": {
          "base_uri": "https://localhost:8080/",
          "height": 204
        },
        "id": "I8hfSkHqylTE",
        "outputId": "f1e30703-9baa-4f88-8f5c-c9664d040612"
      },
      "source": [
        "# 뒷 부분 확인\n",
        "stores.tail(5)"
      ],
      "execution_count": 20,
      "outputs": [
        {
          "output_type": "execute_result",
          "data": {
            "text/html": [
              "<div>\n",
              "<style scoped>\n",
              "    .dataframe tbody tr th:only-of-type {\n",
              "        vertical-align: middle;\n",
              "    }\n",
              "\n",
              "    .dataframe tbody tr th {\n",
              "        vertical-align: top;\n",
              "    }\n",
              "\n",
              "    .dataframe thead th {\n",
              "        text-align: right;\n",
              "    }\n",
              "</style>\n",
              "<table border=\"1\" class=\"dataframe\">\n",
              "  <thead>\n",
              "    <tr style=\"text-align: right;\">\n",
              "      <th></th>\n",
              "      <th>air_store_id</th>\n",
              "      <th>dow</th>\n",
              "    </tr>\n",
              "  </thead>\n",
              "  <tbody>\n",
              "    <tr>\n",
              "      <th>5742</th>\n",
              "      <td>air_fea5dc9594450608</td>\n",
              "      <td>6</td>\n",
              "    </tr>\n",
              "    <tr>\n",
              "      <th>5743</th>\n",
              "      <td>air_fee8dcf4d619598e</td>\n",
              "      <td>6</td>\n",
              "    </tr>\n",
              "    <tr>\n",
              "      <th>5744</th>\n",
              "      <td>air_fef9ccb3ba0da2f7</td>\n",
              "      <td>6</td>\n",
              "    </tr>\n",
              "    <tr>\n",
              "      <th>5745</th>\n",
              "      <td>air_ffcc2d5087e1b476</td>\n",
              "      <td>6</td>\n",
              "    </tr>\n",
              "    <tr>\n",
              "      <th>5746</th>\n",
              "      <td>air_fff68b929994bfbd</td>\n",
              "      <td>6</td>\n",
              "    </tr>\n",
              "  </tbody>\n",
              "</table>\n",
              "</div>"
            ],
            "text/plain": [
              "              air_store_id  dow\n",
              "5742  air_fea5dc9594450608    6\n",
              "5743  air_fee8dcf4d619598e    6\n",
              "5744  air_fef9ccb3ba0da2f7    6\n",
              "5745  air_ffcc2d5087e1b476    6\n",
              "5746  air_fff68b929994bfbd    6"
            ]
          },
          "metadata": {
            "tags": []
          },
          "execution_count": 20
        }
      ]
    },
    {
      "cell_type": "markdown",
      "metadata": {
        "id": "zAdkIvVY-vIE"
      },
      "source": [
        "## 가게의 '요일별' `visitors`의 산술 통계량 계산\n",
        "- `min`\n",
        "- `mean`\n",
        "- `median`\n",
        "- `max`\n",
        "- `count`: 단순히 NaN/Null이 아닌 값의 수"
      ]
    },
    {
      "cell_type": "code",
      "metadata": {
        "colab": {
          "base_uri": "https://localhost:8080/",
          "height": 204
        },
        "id": "olbj1WGKUh0g",
        "outputId": "403430e4-097b-4e6c-b45a-8ad7893b24cd"
      },
      "source": [
        "tmp = data['tra'].groupby(['air_store_id','dow'], as_index=False)['visitors'].min().rename(columns={'visitors':'min_visitors'})\n",
        "stores = pd.merge(stores, tmp, how='left', on=['air_store_id','dow']) \n",
        "\n",
        "tmp = data['tra'].groupby(['air_store_id','dow'], as_index=False)['visitors'].mean().rename(columns={'visitors':'mean_visitors'})\n",
        "stores = pd.merge(stores, tmp, how='left', on=['air_store_id','dow'])\n",
        "\n",
        "tmp = data['tra'].groupby(['air_store_id','dow'], as_index=False)['visitors'].median().rename(columns={'visitors':'median_visitors'})\n",
        "stores = pd.merge(stores, tmp, how='left', on=['air_store_id','dow'])\n",
        "\n",
        "tmp = data['tra'].groupby(['air_store_id','dow'], as_index=False)['visitors'].max().rename(columns={'visitors':'max_visitors'})\n",
        "stores = pd.merge(stores, tmp, how='left', on=['air_store_id','dow'])\n",
        "\n",
        "tmp = data['tra'].groupby(['air_store_id','dow'], as_index=False)['visitors'].count().rename(columns={'visitors':'count_observations'})\n",
        "stores = pd.merge(stores, tmp, how='left', on=['air_store_id','dow']) \n",
        "\n",
        "stores.head()"
      ],
      "execution_count": 21,
      "outputs": [
        {
          "output_type": "execute_result",
          "data": {
            "text/html": [
              "<div>\n",
              "<style scoped>\n",
              "    .dataframe tbody tr th:only-of-type {\n",
              "        vertical-align: middle;\n",
              "    }\n",
              "\n",
              "    .dataframe tbody tr th {\n",
              "        vertical-align: top;\n",
              "    }\n",
              "\n",
              "    .dataframe thead th {\n",
              "        text-align: right;\n",
              "    }\n",
              "</style>\n",
              "<table border=\"1\" class=\"dataframe\">\n",
              "  <thead>\n",
              "    <tr style=\"text-align: right;\">\n",
              "      <th></th>\n",
              "      <th>air_store_id</th>\n",
              "      <th>dow</th>\n",
              "      <th>min_visitors</th>\n",
              "      <th>mean_visitors</th>\n",
              "      <th>median_visitors</th>\n",
              "      <th>max_visitors</th>\n",
              "      <th>count_observations</th>\n",
              "    </tr>\n",
              "  </thead>\n",
              "  <tbody>\n",
              "    <tr>\n",
              "      <th>0</th>\n",
              "      <td>air_00a91d42b08b08d9</td>\n",
              "      <td>0</td>\n",
              "      <td>1.0</td>\n",
              "      <td>22.457143</td>\n",
              "      <td>19.0</td>\n",
              "      <td>47.0</td>\n",
              "      <td>35.0</td>\n",
              "    </tr>\n",
              "    <tr>\n",
              "      <th>1</th>\n",
              "      <td>air_0164b9927d20bcc3</td>\n",
              "      <td>0</td>\n",
              "      <td>2.0</td>\n",
              "      <td>7.500000</td>\n",
              "      <td>6.0</td>\n",
              "      <td>19.0</td>\n",
              "      <td>20.0</td>\n",
              "    </tr>\n",
              "    <tr>\n",
              "      <th>2</th>\n",
              "      <td>air_0241aa3964b7f861</td>\n",
              "      <td>0</td>\n",
              "      <td>2.0</td>\n",
              "      <td>8.920635</td>\n",
              "      <td>8.0</td>\n",
              "      <td>23.0</td>\n",
              "      <td>63.0</td>\n",
              "    </tr>\n",
              "    <tr>\n",
              "      <th>3</th>\n",
              "      <td>air_0328696196e46f18</td>\n",
              "      <td>0</td>\n",
              "      <td>2.0</td>\n",
              "      <td>6.416667</td>\n",
              "      <td>4.0</td>\n",
              "      <td>27.0</td>\n",
              "      <td>12.0</td>\n",
              "    </tr>\n",
              "    <tr>\n",
              "      <th>4</th>\n",
              "      <td>air_034a3d5b40d5b1b1</td>\n",
              "      <td>0</td>\n",
              "      <td>1.0</td>\n",
              "      <td>11.864865</td>\n",
              "      <td>10.0</td>\n",
              "      <td>66.0</td>\n",
              "      <td>37.0</td>\n",
              "    </tr>\n",
              "  </tbody>\n",
              "</table>\n",
              "</div>"
            ],
            "text/plain": [
              "           air_store_id  dow  ...  max_visitors  count_observations\n",
              "0  air_00a91d42b08b08d9    0  ...          47.0                35.0\n",
              "1  air_0164b9927d20bcc3    0  ...          19.0                20.0\n",
              "2  air_0241aa3964b7f861    0  ...          23.0                63.0\n",
              "3  air_0328696196e46f18    0  ...          27.0                12.0\n",
              "4  air_034a3d5b40d5b1b1    0  ...          66.0                37.0\n",
              "\n",
              "[5 rows x 7 columns]"
            ]
          },
          "metadata": {
            "tags": []
          },
          "execution_count": 21
        }
      ]
    },
    {
      "cell_type": "markdown",
      "metadata": {
        "id": "U_X5DnXQ_rEl"
      },
      "source": [
        "## `stores`에 `air_store_info` merge"
      ]
    },
    {
      "cell_type": "code",
      "metadata": {
        "colab": {
          "base_uri": "https://localhost:8080/",
          "height": 272
        },
        "id": "eObtL54SVGgM",
        "outputId": "08776a3a-8386-49d0-8541-a75ab99f4339"
      },
      "source": [
        "# air store를 stores에 merge\n",
        "stores = pd.merge(stores, data['as'], how='left', on=['air_store_id']) \n",
        "stores.head()"
      ],
      "execution_count": 22,
      "outputs": [
        {
          "output_type": "execute_result",
          "data": {
            "text/html": [
              "<div>\n",
              "<style scoped>\n",
              "    .dataframe tbody tr th:only-of-type {\n",
              "        vertical-align: middle;\n",
              "    }\n",
              "\n",
              "    .dataframe tbody tr th {\n",
              "        vertical-align: top;\n",
              "    }\n",
              "\n",
              "    .dataframe thead th {\n",
              "        text-align: right;\n",
              "    }\n",
              "</style>\n",
              "<table border=\"1\" class=\"dataframe\">\n",
              "  <thead>\n",
              "    <tr style=\"text-align: right;\">\n",
              "      <th></th>\n",
              "      <th>air_store_id</th>\n",
              "      <th>dow</th>\n",
              "      <th>min_visitors</th>\n",
              "      <th>mean_visitors</th>\n",
              "      <th>median_visitors</th>\n",
              "      <th>max_visitors</th>\n",
              "      <th>count_observations</th>\n",
              "      <th>air_genre_name</th>\n",
              "      <th>air_area_name</th>\n",
              "      <th>latitude</th>\n",
              "      <th>longitude</th>\n",
              "    </tr>\n",
              "  </thead>\n",
              "  <tbody>\n",
              "    <tr>\n",
              "      <th>0</th>\n",
              "      <td>air_00a91d42b08b08d9</td>\n",
              "      <td>0</td>\n",
              "      <td>1.0</td>\n",
              "      <td>22.457143</td>\n",
              "      <td>19.0</td>\n",
              "      <td>47.0</td>\n",
              "      <td>35.0</td>\n",
              "      <td>Italian/French</td>\n",
              "      <td>Tōkyō-to Chiyoda-ku Kudanminami</td>\n",
              "      <td>35.694003</td>\n",
              "      <td>139.753595</td>\n",
              "    </tr>\n",
              "    <tr>\n",
              "      <th>1</th>\n",
              "      <td>air_0164b9927d20bcc3</td>\n",
              "      <td>0</td>\n",
              "      <td>2.0</td>\n",
              "      <td>7.500000</td>\n",
              "      <td>6.0</td>\n",
              "      <td>19.0</td>\n",
              "      <td>20.0</td>\n",
              "      <td>Italian/French</td>\n",
              "      <td>Tōkyō-to Minato-ku Shibakōen</td>\n",
              "      <td>35.658068</td>\n",
              "      <td>139.751599</td>\n",
              "    </tr>\n",
              "    <tr>\n",
              "      <th>2</th>\n",
              "      <td>air_0241aa3964b7f861</td>\n",
              "      <td>0</td>\n",
              "      <td>2.0</td>\n",
              "      <td>8.920635</td>\n",
              "      <td>8.0</td>\n",
              "      <td>23.0</td>\n",
              "      <td>63.0</td>\n",
              "      <td>Izakaya</td>\n",
              "      <td>Tōkyō-to Taitō-ku Higashiueno</td>\n",
              "      <td>35.712607</td>\n",
              "      <td>139.779996</td>\n",
              "    </tr>\n",
              "    <tr>\n",
              "      <th>3</th>\n",
              "      <td>air_0328696196e46f18</td>\n",
              "      <td>0</td>\n",
              "      <td>2.0</td>\n",
              "      <td>6.416667</td>\n",
              "      <td>4.0</td>\n",
              "      <td>27.0</td>\n",
              "      <td>12.0</td>\n",
              "      <td>Dining bar</td>\n",
              "      <td>Ōsaka-fu Ōsaka-shi Nakanochō</td>\n",
              "      <td>34.701279</td>\n",
              "      <td>135.528090</td>\n",
              "    </tr>\n",
              "    <tr>\n",
              "      <th>4</th>\n",
              "      <td>air_034a3d5b40d5b1b1</td>\n",
              "      <td>0</td>\n",
              "      <td>1.0</td>\n",
              "      <td>11.864865</td>\n",
              "      <td>10.0</td>\n",
              "      <td>66.0</td>\n",
              "      <td>37.0</td>\n",
              "      <td>Cafe/Sweets</td>\n",
              "      <td>Ōsaka-fu Ōsaka-shi Ōhiraki</td>\n",
              "      <td>34.692337</td>\n",
              "      <td>135.472229</td>\n",
              "    </tr>\n",
              "  </tbody>\n",
              "</table>\n",
              "</div>"
            ],
            "text/plain": [
              "           air_store_id  dow  ...   latitude   longitude\n",
              "0  air_00a91d42b08b08d9    0  ...  35.694003  139.753595\n",
              "1  air_0164b9927d20bcc3    0  ...  35.658068  139.751599\n",
              "2  air_0241aa3964b7f861    0  ...  35.712607  139.779996\n",
              "3  air_0328696196e46f18    0  ...  34.701279  135.528090\n",
              "4  air_034a3d5b40d5b1b1    0  ...  34.692337  135.472229\n",
              "\n",
              "[5 rows x 11 columns]"
            ]
          },
          "metadata": {
            "tags": []
          },
          "execution_count": 22
        }
      ]
    },
    {
      "cell_type": "markdown",
      "metadata": {
        "id": "YRLc2x2gAnAo"
      },
      "source": [
        "## 업종(`air_genre_name`)과 식당 위치(`air_area_name`)를 라벨 인코딩(label encoding)\n",
        "\n",
        "원-핫 인코딩을 하면 sparse matrix가 되므로 label encoding을 해준다."
      ]
    },
    {
      "cell_type": "code",
      "metadata": {
        "colab": {
          "base_uri": "https://localhost:8080/",
          "height": 204
        },
        "id": "Oq_mBd2BUxwk",
        "outputId": "a54d1752-b36c-471f-b400-182508f28a01"
      },
      "source": [
        "lbl = preprocessing.LabelEncoder()\n",
        "  # labelEncoding 진행 \n",
        "stores['air_genre_name'] = lbl.fit_transform(stores['air_genre_name'])\n",
        "stores['air_area_name'] = lbl.fit_transform(stores['air_area_name'])\n",
        "\n",
        "stores.head()"
      ],
      "execution_count": 23,
      "outputs": [
        {
          "output_type": "execute_result",
          "data": {
            "text/html": [
              "<div>\n",
              "<style scoped>\n",
              "    .dataframe tbody tr th:only-of-type {\n",
              "        vertical-align: middle;\n",
              "    }\n",
              "\n",
              "    .dataframe tbody tr th {\n",
              "        vertical-align: top;\n",
              "    }\n",
              "\n",
              "    .dataframe thead th {\n",
              "        text-align: right;\n",
              "    }\n",
              "</style>\n",
              "<table border=\"1\" class=\"dataframe\">\n",
              "  <thead>\n",
              "    <tr style=\"text-align: right;\">\n",
              "      <th></th>\n",
              "      <th>air_store_id</th>\n",
              "      <th>dow</th>\n",
              "      <th>min_visitors</th>\n",
              "      <th>mean_visitors</th>\n",
              "      <th>median_visitors</th>\n",
              "      <th>max_visitors</th>\n",
              "      <th>count_observations</th>\n",
              "      <th>air_genre_name</th>\n",
              "      <th>air_area_name</th>\n",
              "      <th>latitude</th>\n",
              "      <th>longitude</th>\n",
              "    </tr>\n",
              "  </thead>\n",
              "  <tbody>\n",
              "    <tr>\n",
              "      <th>0</th>\n",
              "      <td>air_00a91d42b08b08d9</td>\n",
              "      <td>0</td>\n",
              "      <td>1.0</td>\n",
              "      <td>22.457143</td>\n",
              "      <td>19.0</td>\n",
              "      <td>47.0</td>\n",
              "      <td>35.0</td>\n",
              "      <td>6</td>\n",
              "      <td>44</td>\n",
              "      <td>35.694003</td>\n",
              "      <td>139.753595</td>\n",
              "    </tr>\n",
              "    <tr>\n",
              "      <th>1</th>\n",
              "      <td>air_0164b9927d20bcc3</td>\n",
              "      <td>0</td>\n",
              "      <td>2.0</td>\n",
              "      <td>7.500000</td>\n",
              "      <td>6.0</td>\n",
              "      <td>19.0</td>\n",
              "      <td>20.0</td>\n",
              "      <td>6</td>\n",
              "      <td>62</td>\n",
              "      <td>35.658068</td>\n",
              "      <td>139.751599</td>\n",
              "    </tr>\n",
              "    <tr>\n",
              "      <th>2</th>\n",
              "      <td>air_0241aa3964b7f861</td>\n",
              "      <td>0</td>\n",
              "      <td>2.0</td>\n",
              "      <td>8.920635</td>\n",
              "      <td>8.0</td>\n",
              "      <td>23.0</td>\n",
              "      <td>63.0</td>\n",
              "      <td>7</td>\n",
              "      <td>82</td>\n",
              "      <td>35.712607</td>\n",
              "      <td>139.779996</td>\n",
              "    </tr>\n",
              "    <tr>\n",
              "      <th>3</th>\n",
              "      <td>air_0328696196e46f18</td>\n",
              "      <td>0</td>\n",
              "      <td>2.0</td>\n",
              "      <td>6.416667</td>\n",
              "      <td>4.0</td>\n",
              "      <td>27.0</td>\n",
              "      <td>12.0</td>\n",
              "      <td>4</td>\n",
              "      <td>98</td>\n",
              "      <td>34.701279</td>\n",
              "      <td>135.528090</td>\n",
              "    </tr>\n",
              "    <tr>\n",
              "      <th>4</th>\n",
              "      <td>air_034a3d5b40d5b1b1</td>\n",
              "      <td>0</td>\n",
              "      <td>1.0</td>\n",
              "      <td>11.864865</td>\n",
              "      <td>10.0</td>\n",
              "      <td>66.0</td>\n",
              "      <td>37.0</td>\n",
              "      <td>2</td>\n",
              "      <td>102</td>\n",
              "      <td>34.692337</td>\n",
              "      <td>135.472229</td>\n",
              "    </tr>\n",
              "  </tbody>\n",
              "</table>\n",
              "</div>"
            ],
            "text/plain": [
              "           air_store_id  dow  ...   latitude   longitude\n",
              "0  air_00a91d42b08b08d9    0  ...  35.694003  139.753595\n",
              "1  air_0164b9927d20bcc3    0  ...  35.658068  139.751599\n",
              "2  air_0241aa3964b7f861    0  ...  35.712607  139.779996\n",
              "3  air_0328696196e46f18    0  ...  34.701279  135.528090\n",
              "4  air_034a3d5b40d5b1b1    0  ...  34.692337  135.472229\n",
              "\n",
              "[5 rows x 11 columns]"
            ]
          },
          "metadata": {
            "tags": []
          },
          "execution_count": 23
        }
      ]
    },
    {
      "cell_type": "markdown",
      "metadata": {
        "id": "3yKUYMTMAzjm"
      },
      "source": [
        "## 연휴 데이터(`date_info`) 전처리\n",
        "\n",
        "`date_info`는 날짜와, 요일, 일본의 연휴 여부(`1`이면 연휴)가 담겨있다."
      ]
    },
    {
      "cell_type": "code",
      "metadata": {
        "colab": {
          "base_uri": "https://localhost:8080/",
          "height": 204
        },
        "id": "c_1AKs8ozdmK",
        "outputId": "940b6df9-6f04-4cf9-a879-c24490db37fd"
      },
      "source": [
        "data['hol'].head()"
      ],
      "execution_count": 24,
      "outputs": [
        {
          "output_type": "execute_result",
          "data": {
            "text/html": [
              "<div>\n",
              "<style scoped>\n",
              "    .dataframe tbody tr th:only-of-type {\n",
              "        vertical-align: middle;\n",
              "    }\n",
              "\n",
              "    .dataframe tbody tr th {\n",
              "        vertical-align: top;\n",
              "    }\n",
              "\n",
              "    .dataframe thead th {\n",
              "        text-align: right;\n",
              "    }\n",
              "</style>\n",
              "<table border=\"1\" class=\"dataframe\">\n",
              "  <thead>\n",
              "    <tr style=\"text-align: right;\">\n",
              "      <th></th>\n",
              "      <th>visit_date</th>\n",
              "      <th>day_of_week</th>\n",
              "      <th>holiday_flg</th>\n",
              "    </tr>\n",
              "  </thead>\n",
              "  <tbody>\n",
              "    <tr>\n",
              "      <th>0</th>\n",
              "      <td>2016-01-01</td>\n",
              "      <td>Friday</td>\n",
              "      <td>1</td>\n",
              "    </tr>\n",
              "    <tr>\n",
              "      <th>1</th>\n",
              "      <td>2016-01-02</td>\n",
              "      <td>Saturday</td>\n",
              "      <td>1</td>\n",
              "    </tr>\n",
              "    <tr>\n",
              "      <th>2</th>\n",
              "      <td>2016-01-03</td>\n",
              "      <td>Sunday</td>\n",
              "      <td>1</td>\n",
              "    </tr>\n",
              "    <tr>\n",
              "      <th>3</th>\n",
              "      <td>2016-01-04</td>\n",
              "      <td>Monday</td>\n",
              "      <td>0</td>\n",
              "    </tr>\n",
              "    <tr>\n",
              "      <th>4</th>\n",
              "      <td>2016-01-05</td>\n",
              "      <td>Tuesday</td>\n",
              "      <td>0</td>\n",
              "    </tr>\n",
              "  </tbody>\n",
              "</table>\n",
              "</div>"
            ],
            "text/plain": [
              "   visit_date day_of_week  holiday_flg\n",
              "0  2016-01-01      Friday            1\n",
              "1  2016-01-02    Saturday            1\n",
              "2  2016-01-03      Sunday            1\n",
              "3  2016-01-04      Monday            0\n",
              "4  2016-01-05     Tuesday            0"
            ]
          },
          "metadata": {
            "tags": []
          },
          "execution_count": 24
        }
      ]
    },
    {
      "cell_type": "markdown",
      "metadata": {
        "id": "EevoPP5ZA5bC"
      },
      "source": [
        "### 요일을 라벨 인코딩\n",
        "\n",
        "`visit_date`를 `datetime`으로 바꿔주고 요일을 label encoding 해준다."
      ]
    },
    {
      "cell_type": "code",
      "metadata": {
        "colab": {
          "base_uri": "https://localhost:8080/",
          "height": 0
        },
        "id": "jgbX-QbQVODY",
        "outputId": "d5b7a3a4-e4c4-4bc8-c8df-4bb67b13960b"
      },
      "source": [
        "data['hol']['visit_date'] = pd.to_datetime(data['hol']['visit_date'])\n",
        "data['hol']['visit_date'] = data['hol']['visit_date'].dt.date\n",
        "\n",
        "data['hol']['day_of_week'] = lbl.fit_transform(data['hol']['day_of_week'])\n",
        "data['hol']"
      ],
      "execution_count": 25,
      "outputs": [
        {
          "output_type": "execute_result",
          "data": {
            "text/html": [
              "<div>\n",
              "<style scoped>\n",
              "    .dataframe tbody tr th:only-of-type {\n",
              "        vertical-align: middle;\n",
              "    }\n",
              "\n",
              "    .dataframe tbody tr th {\n",
              "        vertical-align: top;\n",
              "    }\n",
              "\n",
              "    .dataframe thead th {\n",
              "        text-align: right;\n",
              "    }\n",
              "</style>\n",
              "<table border=\"1\" class=\"dataframe\">\n",
              "  <thead>\n",
              "    <tr style=\"text-align: right;\">\n",
              "      <th></th>\n",
              "      <th>visit_date</th>\n",
              "      <th>day_of_week</th>\n",
              "      <th>holiday_flg</th>\n",
              "    </tr>\n",
              "  </thead>\n",
              "  <tbody>\n",
              "    <tr>\n",
              "      <th>0</th>\n",
              "      <td>2016-01-01</td>\n",
              "      <td>0</td>\n",
              "      <td>1</td>\n",
              "    </tr>\n",
              "    <tr>\n",
              "      <th>1</th>\n",
              "      <td>2016-01-02</td>\n",
              "      <td>2</td>\n",
              "      <td>1</td>\n",
              "    </tr>\n",
              "    <tr>\n",
              "      <th>2</th>\n",
              "      <td>2016-01-03</td>\n",
              "      <td>3</td>\n",
              "      <td>1</td>\n",
              "    </tr>\n",
              "    <tr>\n",
              "      <th>3</th>\n",
              "      <td>2016-01-04</td>\n",
              "      <td>1</td>\n",
              "      <td>0</td>\n",
              "    </tr>\n",
              "    <tr>\n",
              "      <th>4</th>\n",
              "      <td>2016-01-05</td>\n",
              "      <td>5</td>\n",
              "      <td>0</td>\n",
              "    </tr>\n",
              "    <tr>\n",
              "      <th>...</th>\n",
              "      <td>...</td>\n",
              "      <td>...</td>\n",
              "      <td>...</td>\n",
              "    </tr>\n",
              "    <tr>\n",
              "      <th>512</th>\n",
              "      <td>2017-05-27</td>\n",
              "      <td>2</td>\n",
              "      <td>0</td>\n",
              "    </tr>\n",
              "    <tr>\n",
              "      <th>513</th>\n",
              "      <td>2017-05-28</td>\n",
              "      <td>3</td>\n",
              "      <td>0</td>\n",
              "    </tr>\n",
              "    <tr>\n",
              "      <th>514</th>\n",
              "      <td>2017-05-29</td>\n",
              "      <td>1</td>\n",
              "      <td>0</td>\n",
              "    </tr>\n",
              "    <tr>\n",
              "      <th>515</th>\n",
              "      <td>2017-05-30</td>\n",
              "      <td>5</td>\n",
              "      <td>0</td>\n",
              "    </tr>\n",
              "    <tr>\n",
              "      <th>516</th>\n",
              "      <td>2017-05-31</td>\n",
              "      <td>6</td>\n",
              "      <td>0</td>\n",
              "    </tr>\n",
              "  </tbody>\n",
              "</table>\n",
              "<p>517 rows × 3 columns</p>\n",
              "</div>"
            ],
            "text/plain": [
              "     visit_date  day_of_week  holiday_flg\n",
              "0    2016-01-01            0            1\n",
              "1    2016-01-02            2            1\n",
              "2    2016-01-03            3            1\n",
              "3    2016-01-04            1            0\n",
              "4    2016-01-05            5            0\n",
              "..          ...          ...          ...\n",
              "512  2017-05-27            2            0\n",
              "513  2017-05-28            3            0\n",
              "514  2017-05-29            1            0\n",
              "515  2017-05-30            5            0\n",
              "516  2017-05-31            6            0\n",
              "\n",
              "[517 rows x 3 columns]"
            ]
          },
          "metadata": {
            "tags": []
          },
          "execution_count": 25
        }
      ]
    },
    {
      "cell_type": "markdown",
      "metadata": {
        "id": "XJ4s1nJJBAbG"
      },
      "source": [
        "### train 데이터에 holiday 데이터 merge"
      ]
    },
    {
      "cell_type": "code",
      "metadata": {
        "colab": {
          "base_uri": "https://localhost:8080/",
          "height": 0
        },
        "id": "ncrhEARczlD2",
        "outputId": "760159d4-2c59-4ad4-e13e-7262f07e7175"
      },
      "source": [
        "train = pd.merge(data['tra'], data['hol'], how='left', on=['visit_date']) \n",
        "train.head()"
      ],
      "execution_count": 26,
      "outputs": [
        {
          "output_type": "execute_result",
          "data": {
            "text/html": [
              "<div>\n",
              "<style scoped>\n",
              "    .dataframe tbody tr th:only-of-type {\n",
              "        vertical-align: middle;\n",
              "    }\n",
              "\n",
              "    .dataframe tbody tr th {\n",
              "        vertical-align: top;\n",
              "    }\n",
              "\n",
              "    .dataframe thead th {\n",
              "        text-align: right;\n",
              "    }\n",
              "</style>\n",
              "<table border=\"1\" class=\"dataframe\">\n",
              "  <thead>\n",
              "    <tr style=\"text-align: right;\">\n",
              "      <th></th>\n",
              "      <th>air_store_id</th>\n",
              "      <th>visit_date</th>\n",
              "      <th>visitors</th>\n",
              "      <th>dow</th>\n",
              "      <th>year</th>\n",
              "      <th>month</th>\n",
              "      <th>day_of_week</th>\n",
              "      <th>holiday_flg</th>\n",
              "    </tr>\n",
              "  </thead>\n",
              "  <tbody>\n",
              "    <tr>\n",
              "      <th>0</th>\n",
              "      <td>air_ba937bf13d40fb24</td>\n",
              "      <td>2016-01-13</td>\n",
              "      <td>25</td>\n",
              "      <td>2</td>\n",
              "      <td>2016</td>\n",
              "      <td>1</td>\n",
              "      <td>6</td>\n",
              "      <td>0</td>\n",
              "    </tr>\n",
              "    <tr>\n",
              "      <th>1</th>\n",
              "      <td>air_ba937bf13d40fb24</td>\n",
              "      <td>2016-01-14</td>\n",
              "      <td>32</td>\n",
              "      <td>3</td>\n",
              "      <td>2016</td>\n",
              "      <td>1</td>\n",
              "      <td>4</td>\n",
              "      <td>0</td>\n",
              "    </tr>\n",
              "    <tr>\n",
              "      <th>2</th>\n",
              "      <td>air_ba937bf13d40fb24</td>\n",
              "      <td>2016-01-15</td>\n",
              "      <td>29</td>\n",
              "      <td>4</td>\n",
              "      <td>2016</td>\n",
              "      <td>1</td>\n",
              "      <td>0</td>\n",
              "      <td>0</td>\n",
              "    </tr>\n",
              "    <tr>\n",
              "      <th>3</th>\n",
              "      <td>air_ba937bf13d40fb24</td>\n",
              "      <td>2016-01-16</td>\n",
              "      <td>22</td>\n",
              "      <td>5</td>\n",
              "      <td>2016</td>\n",
              "      <td>1</td>\n",
              "      <td>2</td>\n",
              "      <td>0</td>\n",
              "    </tr>\n",
              "    <tr>\n",
              "      <th>4</th>\n",
              "      <td>air_ba937bf13d40fb24</td>\n",
              "      <td>2016-01-18</td>\n",
              "      <td>6</td>\n",
              "      <td>0</td>\n",
              "      <td>2016</td>\n",
              "      <td>1</td>\n",
              "      <td>1</td>\n",
              "      <td>0</td>\n",
              "    </tr>\n",
              "  </tbody>\n",
              "</table>\n",
              "</div>"
            ],
            "text/plain": [
              "           air_store_id  visit_date  visitors  ...  month  day_of_week  holiday_flg\n",
              "0  air_ba937bf13d40fb24  2016-01-13        25  ...      1            6            0\n",
              "1  air_ba937bf13d40fb24  2016-01-14        32  ...      1            4            0\n",
              "2  air_ba937bf13d40fb24  2016-01-15        29  ...      1            0            0\n",
              "3  air_ba937bf13d40fb24  2016-01-16        22  ...      1            2            0\n",
              "4  air_ba937bf13d40fb24  2016-01-18         6  ...      1            1            0\n",
              "\n",
              "[5 rows x 8 columns]"
            ]
          },
          "metadata": {
            "tags": []
          },
          "execution_count": 26
        }
      ]
    },
    {
      "cell_type": "markdown",
      "metadata": {
        "id": "UGHnKZgpBFm1"
      },
      "source": [
        "### test 데이터에 holiday 데이터 merge"
      ]
    },
    {
      "cell_type": "code",
      "metadata": {
        "colab": {
          "base_uri": "https://localhost:8080/",
          "height": 0
        },
        "id": "9M11Fdr8VaFC",
        "outputId": "fb09a7d2-1441-444c-8a65-84e726738101"
      },
      "source": [
        "test = pd.merge(data['tes'], data['hol'], how='left', on=['visit_date'])\n",
        "test.head()"
      ],
      "execution_count": 27,
      "outputs": [
        {
          "output_type": "execute_result",
          "data": {
            "text/html": [
              "<div>\n",
              "<style scoped>\n",
              "    .dataframe tbody tr th:only-of-type {\n",
              "        vertical-align: middle;\n",
              "    }\n",
              "\n",
              "    .dataframe tbody tr th {\n",
              "        vertical-align: top;\n",
              "    }\n",
              "\n",
              "    .dataframe thead th {\n",
              "        text-align: right;\n",
              "    }\n",
              "</style>\n",
              "<table border=\"1\" class=\"dataframe\">\n",
              "  <thead>\n",
              "    <tr style=\"text-align: right;\">\n",
              "      <th></th>\n",
              "      <th>id</th>\n",
              "      <th>visitors</th>\n",
              "      <th>visit_date</th>\n",
              "      <th>air_store_id</th>\n",
              "      <th>dow</th>\n",
              "      <th>year</th>\n",
              "      <th>month</th>\n",
              "      <th>day_of_week</th>\n",
              "      <th>holiday_flg</th>\n",
              "    </tr>\n",
              "  </thead>\n",
              "  <tbody>\n",
              "    <tr>\n",
              "      <th>0</th>\n",
              "      <td>air_00a91d42b08b08d9_2017-04-23</td>\n",
              "      <td>0</td>\n",
              "      <td>2017-04-23</td>\n",
              "      <td>air_00a91d42b08b08d9</td>\n",
              "      <td>6</td>\n",
              "      <td>2017</td>\n",
              "      <td>4</td>\n",
              "      <td>3</td>\n",
              "      <td>0</td>\n",
              "    </tr>\n",
              "    <tr>\n",
              "      <th>1</th>\n",
              "      <td>air_00a91d42b08b08d9_2017-04-24</td>\n",
              "      <td>0</td>\n",
              "      <td>2017-04-24</td>\n",
              "      <td>air_00a91d42b08b08d9</td>\n",
              "      <td>0</td>\n",
              "      <td>2017</td>\n",
              "      <td>4</td>\n",
              "      <td>1</td>\n",
              "      <td>0</td>\n",
              "    </tr>\n",
              "    <tr>\n",
              "      <th>2</th>\n",
              "      <td>air_00a91d42b08b08d9_2017-04-25</td>\n",
              "      <td>0</td>\n",
              "      <td>2017-04-25</td>\n",
              "      <td>air_00a91d42b08b08d9</td>\n",
              "      <td>1</td>\n",
              "      <td>2017</td>\n",
              "      <td>4</td>\n",
              "      <td>5</td>\n",
              "      <td>0</td>\n",
              "    </tr>\n",
              "    <tr>\n",
              "      <th>3</th>\n",
              "      <td>air_00a91d42b08b08d9_2017-04-26</td>\n",
              "      <td>0</td>\n",
              "      <td>2017-04-26</td>\n",
              "      <td>air_00a91d42b08b08d9</td>\n",
              "      <td>2</td>\n",
              "      <td>2017</td>\n",
              "      <td>4</td>\n",
              "      <td>6</td>\n",
              "      <td>0</td>\n",
              "    </tr>\n",
              "    <tr>\n",
              "      <th>4</th>\n",
              "      <td>air_00a91d42b08b08d9_2017-04-27</td>\n",
              "      <td>0</td>\n",
              "      <td>2017-04-27</td>\n",
              "      <td>air_00a91d42b08b08d9</td>\n",
              "      <td>3</td>\n",
              "      <td>2017</td>\n",
              "      <td>4</td>\n",
              "      <td>4</td>\n",
              "      <td>0</td>\n",
              "    </tr>\n",
              "  </tbody>\n",
              "</table>\n",
              "</div>"
            ],
            "text/plain": [
              "                                id  visitors  ... day_of_week holiday_flg\n",
              "0  air_00a91d42b08b08d9_2017-04-23         0  ...           3           0\n",
              "1  air_00a91d42b08b08d9_2017-04-24         0  ...           1           0\n",
              "2  air_00a91d42b08b08d9_2017-04-25         0  ...           5           0\n",
              "3  air_00a91d42b08b08d9_2017-04-26         0  ...           6           0\n",
              "4  air_00a91d42b08b08d9_2017-04-27         0  ...           4           0\n",
              "\n",
              "[5 rows x 9 columns]"
            ]
          },
          "metadata": {
            "tags": []
          },
          "execution_count": 27
        }
      ]
    },
    {
      "cell_type": "markdown",
      "metadata": {
        "id": "0e016nHdBI-Y"
      },
      "source": [
        "## train 데이터에 `stores` 데이터(요일별 데이터) merge"
      ]
    },
    {
      "cell_type": "code",
      "metadata": {
        "colab": {
          "base_uri": "https://localhost:8080/",
          "height": 224
        },
        "id": "IYWsZNJTVqNY",
        "outputId": "f753cd31-a808-4769-c823-85ec75affcfc"
      },
      "source": [
        "train = pd.merge(train, stores, how='left', on=['air_store_id','dow']) \n",
        "train.head()"
      ],
      "execution_count": 28,
      "outputs": [
        {
          "output_type": "execute_result",
          "data": {
            "text/html": [
              "<div>\n",
              "<style scoped>\n",
              "    .dataframe tbody tr th:only-of-type {\n",
              "        vertical-align: middle;\n",
              "    }\n",
              "\n",
              "    .dataframe tbody tr th {\n",
              "        vertical-align: top;\n",
              "    }\n",
              "\n",
              "    .dataframe thead th {\n",
              "        text-align: right;\n",
              "    }\n",
              "</style>\n",
              "<table border=\"1\" class=\"dataframe\">\n",
              "  <thead>\n",
              "    <tr style=\"text-align: right;\">\n",
              "      <th></th>\n",
              "      <th>air_store_id</th>\n",
              "      <th>visit_date</th>\n",
              "      <th>visitors</th>\n",
              "      <th>dow</th>\n",
              "      <th>year</th>\n",
              "      <th>month</th>\n",
              "      <th>day_of_week</th>\n",
              "      <th>holiday_flg</th>\n",
              "      <th>min_visitors</th>\n",
              "      <th>mean_visitors</th>\n",
              "      <th>median_visitors</th>\n",
              "      <th>max_visitors</th>\n",
              "      <th>count_observations</th>\n",
              "      <th>air_genre_name</th>\n",
              "      <th>air_area_name</th>\n",
              "      <th>latitude</th>\n",
              "      <th>longitude</th>\n",
              "    </tr>\n",
              "  </thead>\n",
              "  <tbody>\n",
              "    <tr>\n",
              "      <th>0</th>\n",
              "      <td>air_ba937bf13d40fb24</td>\n",
              "      <td>2016-01-13</td>\n",
              "      <td>25</td>\n",
              "      <td>2</td>\n",
              "      <td>2016</td>\n",
              "      <td>1</td>\n",
              "      <td>6</td>\n",
              "      <td>0</td>\n",
              "      <td>7.0</td>\n",
              "      <td>23.843750</td>\n",
              "      <td>25.0</td>\n",
              "      <td>57.0</td>\n",
              "      <td>64.0</td>\n",
              "      <td>4.0</td>\n",
              "      <td>62.0</td>\n",
              "      <td>35.658068</td>\n",
              "      <td>139.751599</td>\n",
              "    </tr>\n",
              "    <tr>\n",
              "      <th>1</th>\n",
              "      <td>air_ba937bf13d40fb24</td>\n",
              "      <td>2016-01-14</td>\n",
              "      <td>32</td>\n",
              "      <td>3</td>\n",
              "      <td>2016</td>\n",
              "      <td>1</td>\n",
              "      <td>4</td>\n",
              "      <td>0</td>\n",
              "      <td>2.0</td>\n",
              "      <td>20.292308</td>\n",
              "      <td>21.0</td>\n",
              "      <td>54.0</td>\n",
              "      <td>65.0</td>\n",
              "      <td>4.0</td>\n",
              "      <td>62.0</td>\n",
              "      <td>35.658068</td>\n",
              "      <td>139.751599</td>\n",
              "    </tr>\n",
              "    <tr>\n",
              "      <th>2</th>\n",
              "      <td>air_ba937bf13d40fb24</td>\n",
              "      <td>2016-01-15</td>\n",
              "      <td>29</td>\n",
              "      <td>4</td>\n",
              "      <td>2016</td>\n",
              "      <td>1</td>\n",
              "      <td>0</td>\n",
              "      <td>0</td>\n",
              "      <td>4.0</td>\n",
              "      <td>34.738462</td>\n",
              "      <td>35.0</td>\n",
              "      <td>61.0</td>\n",
              "      <td>65.0</td>\n",
              "      <td>4.0</td>\n",
              "      <td>62.0</td>\n",
              "      <td>35.658068</td>\n",
              "      <td>139.751599</td>\n",
              "    </tr>\n",
              "    <tr>\n",
              "      <th>3</th>\n",
              "      <td>air_ba937bf13d40fb24</td>\n",
              "      <td>2016-01-16</td>\n",
              "      <td>22</td>\n",
              "      <td>5</td>\n",
              "      <td>2016</td>\n",
              "      <td>1</td>\n",
              "      <td>2</td>\n",
              "      <td>0</td>\n",
              "      <td>6.0</td>\n",
              "      <td>27.651515</td>\n",
              "      <td>27.0</td>\n",
              "      <td>53.0</td>\n",
              "      <td>66.0</td>\n",
              "      <td>4.0</td>\n",
              "      <td>62.0</td>\n",
              "      <td>35.658068</td>\n",
              "      <td>139.751599</td>\n",
              "    </tr>\n",
              "    <tr>\n",
              "      <th>4</th>\n",
              "      <td>air_ba937bf13d40fb24</td>\n",
              "      <td>2016-01-18</td>\n",
              "      <td>6</td>\n",
              "      <td>0</td>\n",
              "      <td>2016</td>\n",
              "      <td>1</td>\n",
              "      <td>1</td>\n",
              "      <td>0</td>\n",
              "      <td>2.0</td>\n",
              "      <td>13.754386</td>\n",
              "      <td>12.0</td>\n",
              "      <td>34.0</td>\n",
              "      <td>57.0</td>\n",
              "      <td>4.0</td>\n",
              "      <td>62.0</td>\n",
              "      <td>35.658068</td>\n",
              "      <td>139.751599</td>\n",
              "    </tr>\n",
              "  </tbody>\n",
              "</table>\n",
              "</div>"
            ],
            "text/plain": [
              "           air_store_id  visit_date  ...   latitude   longitude\n",
              "0  air_ba937bf13d40fb24  2016-01-13  ...  35.658068  139.751599\n",
              "1  air_ba937bf13d40fb24  2016-01-14  ...  35.658068  139.751599\n",
              "2  air_ba937bf13d40fb24  2016-01-15  ...  35.658068  139.751599\n",
              "3  air_ba937bf13d40fb24  2016-01-16  ...  35.658068  139.751599\n",
              "4  air_ba937bf13d40fb24  2016-01-18  ...  35.658068  139.751599\n",
              "\n",
              "[5 rows x 17 columns]"
            ]
          },
          "metadata": {
            "tags": []
          },
          "execution_count": 28
        }
      ]
    },
    {
      "cell_type": "markdown",
      "metadata": {
        "id": "TaFqMkyZBSTJ"
      },
      "source": [
        "## test 데이터에 stores 데이터(요일별 데이터) merge"
      ]
    },
    {
      "cell_type": "code",
      "metadata": {
        "colab": {
          "base_uri": "https://localhost:8080/",
          "height": 309
        },
        "id": "3hvoUPOnVslS",
        "outputId": "efe18ebf-f83f-4e8e-8bad-8b66b47d1db3"
      },
      "source": [
        "test = pd.merge(test, stores, how='left', on=['air_store_id','dow'])\n",
        "test.head()"
      ],
      "execution_count": 29,
      "outputs": [
        {
          "output_type": "execute_result",
          "data": {
            "text/html": [
              "<div>\n",
              "<style scoped>\n",
              "    .dataframe tbody tr th:only-of-type {\n",
              "        vertical-align: middle;\n",
              "    }\n",
              "\n",
              "    .dataframe tbody tr th {\n",
              "        vertical-align: top;\n",
              "    }\n",
              "\n",
              "    .dataframe thead th {\n",
              "        text-align: right;\n",
              "    }\n",
              "</style>\n",
              "<table border=\"1\" class=\"dataframe\">\n",
              "  <thead>\n",
              "    <tr style=\"text-align: right;\">\n",
              "      <th></th>\n",
              "      <th>id</th>\n",
              "      <th>visitors</th>\n",
              "      <th>visit_date</th>\n",
              "      <th>air_store_id</th>\n",
              "      <th>dow</th>\n",
              "      <th>year</th>\n",
              "      <th>month</th>\n",
              "      <th>day_of_week</th>\n",
              "      <th>holiday_flg</th>\n",
              "      <th>min_visitors</th>\n",
              "      <th>mean_visitors</th>\n",
              "      <th>median_visitors</th>\n",
              "      <th>max_visitors</th>\n",
              "      <th>count_observations</th>\n",
              "      <th>air_genre_name</th>\n",
              "      <th>air_area_name</th>\n",
              "      <th>latitude</th>\n",
              "      <th>longitude</th>\n",
              "    </tr>\n",
              "  </thead>\n",
              "  <tbody>\n",
              "    <tr>\n",
              "      <th>0</th>\n",
              "      <td>air_00a91d42b08b08d9_2017-04-23</td>\n",
              "      <td>0</td>\n",
              "      <td>2017-04-23</td>\n",
              "      <td>air_00a91d42b08b08d9</td>\n",
              "      <td>6</td>\n",
              "      <td>2017</td>\n",
              "      <td>4</td>\n",
              "      <td>3</td>\n",
              "      <td>0</td>\n",
              "      <td>2.0</td>\n",
              "      <td>2.000000</td>\n",
              "      <td>2.0</td>\n",
              "      <td>2.0</td>\n",
              "      <td>1.0</td>\n",
              "      <td>6</td>\n",
              "      <td>44</td>\n",
              "      <td>35.694003</td>\n",
              "      <td>139.753595</td>\n",
              "    </tr>\n",
              "    <tr>\n",
              "      <th>1</th>\n",
              "      <td>air_00a91d42b08b08d9_2017-04-24</td>\n",
              "      <td>0</td>\n",
              "      <td>2017-04-24</td>\n",
              "      <td>air_00a91d42b08b08d9</td>\n",
              "      <td>0</td>\n",
              "      <td>2017</td>\n",
              "      <td>4</td>\n",
              "      <td>1</td>\n",
              "      <td>0</td>\n",
              "      <td>1.0</td>\n",
              "      <td>22.457143</td>\n",
              "      <td>19.0</td>\n",
              "      <td>47.0</td>\n",
              "      <td>35.0</td>\n",
              "      <td>6</td>\n",
              "      <td>44</td>\n",
              "      <td>35.694003</td>\n",
              "      <td>139.753595</td>\n",
              "    </tr>\n",
              "    <tr>\n",
              "      <th>2</th>\n",
              "      <td>air_00a91d42b08b08d9_2017-04-25</td>\n",
              "      <td>0</td>\n",
              "      <td>2017-04-25</td>\n",
              "      <td>air_00a91d42b08b08d9</td>\n",
              "      <td>1</td>\n",
              "      <td>2017</td>\n",
              "      <td>4</td>\n",
              "      <td>5</td>\n",
              "      <td>0</td>\n",
              "      <td>1.0</td>\n",
              "      <td>24.350000</td>\n",
              "      <td>24.5</td>\n",
              "      <td>43.0</td>\n",
              "      <td>40.0</td>\n",
              "      <td>6</td>\n",
              "      <td>44</td>\n",
              "      <td>35.694003</td>\n",
              "      <td>139.753595</td>\n",
              "    </tr>\n",
              "    <tr>\n",
              "      <th>3</th>\n",
              "      <td>air_00a91d42b08b08d9_2017-04-26</td>\n",
              "      <td>0</td>\n",
              "      <td>2017-04-26</td>\n",
              "      <td>air_00a91d42b08b08d9</td>\n",
              "      <td>2</td>\n",
              "      <td>2017</td>\n",
              "      <td>4</td>\n",
              "      <td>6</td>\n",
              "      <td>0</td>\n",
              "      <td>15.0</td>\n",
              "      <td>28.125000</td>\n",
              "      <td>28.0</td>\n",
              "      <td>52.0</td>\n",
              "      <td>40.0</td>\n",
              "      <td>6</td>\n",
              "      <td>44</td>\n",
              "      <td>35.694003</td>\n",
              "      <td>139.753595</td>\n",
              "    </tr>\n",
              "    <tr>\n",
              "      <th>4</th>\n",
              "      <td>air_00a91d42b08b08d9_2017-04-27</td>\n",
              "      <td>0</td>\n",
              "      <td>2017-04-27</td>\n",
              "      <td>air_00a91d42b08b08d9</td>\n",
              "      <td>3</td>\n",
              "      <td>2017</td>\n",
              "      <td>4</td>\n",
              "      <td>4</td>\n",
              "      <td>0</td>\n",
              "      <td>15.0</td>\n",
              "      <td>29.868421</td>\n",
              "      <td>30.0</td>\n",
              "      <td>47.0</td>\n",
              "      <td>38.0</td>\n",
              "      <td>6</td>\n",
              "      <td>44</td>\n",
              "      <td>35.694003</td>\n",
              "      <td>139.753595</td>\n",
              "    </tr>\n",
              "  </tbody>\n",
              "</table>\n",
              "</div>"
            ],
            "text/plain": [
              "                                id  visitors  ...   latitude   longitude\n",
              "0  air_00a91d42b08b08d9_2017-04-23         0  ...  35.694003  139.753595\n",
              "1  air_00a91d42b08b08d9_2017-04-24         0  ...  35.694003  139.753595\n",
              "2  air_00a91d42b08b08d9_2017-04-25         0  ...  35.694003  139.753595\n",
              "3  air_00a91d42b08b08d9_2017-04-26         0  ...  35.694003  139.753595\n",
              "4  air_00a91d42b08b08d9_2017-04-27         0  ...  35.694003  139.753595\n",
              "\n",
              "[5 rows x 18 columns]"
            ]
          },
          "metadata": {
            "tags": []
          },
          "execution_count": 29
        }
      ]
    },
    {
      "cell_type": "markdown",
      "metadata": {
        "id": "5VhkK53mB1ik"
      },
      "source": [
        "## train과 test 데이터에 air 데이터, hpg 데이터 merge"
      ]
    },
    {
      "cell_type": "code",
      "metadata": {
        "id": "XcavZ35jV0EM"
      },
      "source": [
        "for df in ['ar', 'hr']:\n",
        "    train = pd.merge(train, data[df], how='left', on=['air_store_id','visit_date']) \n",
        "    test = pd.merge(test, data[df], how='left', on=['air_store_id','visit_date'])"
      ],
      "execution_count": 30,
      "outputs": []
    },
    {
      "cell_type": "code",
      "metadata": {
        "colab": {
          "base_uri": "https://localhost:8080/",
          "height": 224
        },
        "id": "_h0wJ79IB6hZ",
        "outputId": "781e964b-afd0-42dd-b00e-ef14d99c08a6"
      },
      "source": [
        "train.head()"
      ],
      "execution_count": 31,
      "outputs": [
        {
          "output_type": "execute_result",
          "data": {
            "text/html": [
              "<div>\n",
              "<style scoped>\n",
              "    .dataframe tbody tr th:only-of-type {\n",
              "        vertical-align: middle;\n",
              "    }\n",
              "\n",
              "    .dataframe tbody tr th {\n",
              "        vertical-align: top;\n",
              "    }\n",
              "\n",
              "    .dataframe thead th {\n",
              "        text-align: right;\n",
              "    }\n",
              "</style>\n",
              "<table border=\"1\" class=\"dataframe\">\n",
              "  <thead>\n",
              "    <tr style=\"text-align: right;\">\n",
              "      <th></th>\n",
              "      <th>air_store_id</th>\n",
              "      <th>visit_date</th>\n",
              "      <th>visitors</th>\n",
              "      <th>dow</th>\n",
              "      <th>year</th>\n",
              "      <th>month</th>\n",
              "      <th>day_of_week</th>\n",
              "      <th>holiday_flg</th>\n",
              "      <th>min_visitors</th>\n",
              "      <th>mean_visitors</th>\n",
              "      <th>median_visitors</th>\n",
              "      <th>max_visitors</th>\n",
              "      <th>count_observations</th>\n",
              "      <th>air_genre_name</th>\n",
              "      <th>air_area_name</th>\n",
              "      <th>latitude</th>\n",
              "      <th>longitude</th>\n",
              "      <th>reserve_datetime_diff_x</th>\n",
              "      <th>reserve_visitors_x</th>\n",
              "      <th>reserve_datetime_diff_y</th>\n",
              "      <th>reserve_visitors_y</th>\n",
              "    </tr>\n",
              "  </thead>\n",
              "  <tbody>\n",
              "    <tr>\n",
              "      <th>0</th>\n",
              "      <td>air_ba937bf13d40fb24</td>\n",
              "      <td>2016-01-13</td>\n",
              "      <td>25</td>\n",
              "      <td>2</td>\n",
              "      <td>2016</td>\n",
              "      <td>1</td>\n",
              "      <td>6</td>\n",
              "      <td>0</td>\n",
              "      <td>7.0</td>\n",
              "      <td>23.843750</td>\n",
              "      <td>25.0</td>\n",
              "      <td>57.0</td>\n",
              "      <td>64.0</td>\n",
              "      <td>4.0</td>\n",
              "      <td>62.0</td>\n",
              "      <td>35.658068</td>\n",
              "      <td>139.751599</td>\n",
              "      <td>NaN</td>\n",
              "      <td>NaN</td>\n",
              "      <td>NaN</td>\n",
              "      <td>NaN</td>\n",
              "    </tr>\n",
              "    <tr>\n",
              "      <th>1</th>\n",
              "      <td>air_ba937bf13d40fb24</td>\n",
              "      <td>2016-01-14</td>\n",
              "      <td>32</td>\n",
              "      <td>3</td>\n",
              "      <td>2016</td>\n",
              "      <td>1</td>\n",
              "      <td>4</td>\n",
              "      <td>0</td>\n",
              "      <td>2.0</td>\n",
              "      <td>20.292308</td>\n",
              "      <td>21.0</td>\n",
              "      <td>54.0</td>\n",
              "      <td>65.0</td>\n",
              "      <td>4.0</td>\n",
              "      <td>62.0</td>\n",
              "      <td>35.658068</td>\n",
              "      <td>139.751599</td>\n",
              "      <td>NaN</td>\n",
              "      <td>NaN</td>\n",
              "      <td>NaN</td>\n",
              "      <td>NaN</td>\n",
              "    </tr>\n",
              "    <tr>\n",
              "      <th>2</th>\n",
              "      <td>air_ba937bf13d40fb24</td>\n",
              "      <td>2016-01-15</td>\n",
              "      <td>29</td>\n",
              "      <td>4</td>\n",
              "      <td>2016</td>\n",
              "      <td>1</td>\n",
              "      <td>0</td>\n",
              "      <td>0</td>\n",
              "      <td>4.0</td>\n",
              "      <td>34.738462</td>\n",
              "      <td>35.0</td>\n",
              "      <td>61.0</td>\n",
              "      <td>65.0</td>\n",
              "      <td>4.0</td>\n",
              "      <td>62.0</td>\n",
              "      <td>35.658068</td>\n",
              "      <td>139.751599</td>\n",
              "      <td>NaN</td>\n",
              "      <td>NaN</td>\n",
              "      <td>NaN</td>\n",
              "      <td>NaN</td>\n",
              "    </tr>\n",
              "    <tr>\n",
              "      <th>3</th>\n",
              "      <td>air_ba937bf13d40fb24</td>\n",
              "      <td>2016-01-16</td>\n",
              "      <td>22</td>\n",
              "      <td>5</td>\n",
              "      <td>2016</td>\n",
              "      <td>1</td>\n",
              "      <td>2</td>\n",
              "      <td>0</td>\n",
              "      <td>6.0</td>\n",
              "      <td>27.651515</td>\n",
              "      <td>27.0</td>\n",
              "      <td>53.0</td>\n",
              "      <td>66.0</td>\n",
              "      <td>4.0</td>\n",
              "      <td>62.0</td>\n",
              "      <td>35.658068</td>\n",
              "      <td>139.751599</td>\n",
              "      <td>NaN</td>\n",
              "      <td>NaN</td>\n",
              "      <td>NaN</td>\n",
              "      <td>NaN</td>\n",
              "    </tr>\n",
              "    <tr>\n",
              "      <th>4</th>\n",
              "      <td>air_ba937bf13d40fb24</td>\n",
              "      <td>2016-01-18</td>\n",
              "      <td>6</td>\n",
              "      <td>0</td>\n",
              "      <td>2016</td>\n",
              "      <td>1</td>\n",
              "      <td>1</td>\n",
              "      <td>0</td>\n",
              "      <td>2.0</td>\n",
              "      <td>13.754386</td>\n",
              "      <td>12.0</td>\n",
              "      <td>34.0</td>\n",
              "      <td>57.0</td>\n",
              "      <td>4.0</td>\n",
              "      <td>62.0</td>\n",
              "      <td>35.658068</td>\n",
              "      <td>139.751599</td>\n",
              "      <td>NaN</td>\n",
              "      <td>NaN</td>\n",
              "      <td>NaN</td>\n",
              "      <td>NaN</td>\n",
              "    </tr>\n",
              "  </tbody>\n",
              "</table>\n",
              "</div>"
            ],
            "text/plain": [
              "           air_store_id  ... reserve_visitors_y\n",
              "0  air_ba937bf13d40fb24  ...                NaN\n",
              "1  air_ba937bf13d40fb24  ...                NaN\n",
              "2  air_ba937bf13d40fb24  ...                NaN\n",
              "3  air_ba937bf13d40fb24  ...                NaN\n",
              "4  air_ba937bf13d40fb24  ...                NaN\n",
              "\n",
              "[5 rows x 21 columns]"
            ]
          },
          "metadata": {
            "tags": []
          },
          "execution_count": 31
        }
      ]
    },
    {
      "cell_type": "code",
      "metadata": {
        "colab": {
          "base_uri": "https://localhost:8080/",
          "height": 309
        },
        "id": "jas9Kx8vB7NE",
        "outputId": "4f92d999-50b3-48ad-c988-cc658225775f"
      },
      "source": [
        "test.head()"
      ],
      "execution_count": 32,
      "outputs": [
        {
          "output_type": "execute_result",
          "data": {
            "text/html": [
              "<div>\n",
              "<style scoped>\n",
              "    .dataframe tbody tr th:only-of-type {\n",
              "        vertical-align: middle;\n",
              "    }\n",
              "\n",
              "    .dataframe tbody tr th {\n",
              "        vertical-align: top;\n",
              "    }\n",
              "\n",
              "    .dataframe thead th {\n",
              "        text-align: right;\n",
              "    }\n",
              "</style>\n",
              "<table border=\"1\" class=\"dataframe\">\n",
              "  <thead>\n",
              "    <tr style=\"text-align: right;\">\n",
              "      <th></th>\n",
              "      <th>id</th>\n",
              "      <th>visitors</th>\n",
              "      <th>visit_date</th>\n",
              "      <th>air_store_id</th>\n",
              "      <th>dow</th>\n",
              "      <th>year</th>\n",
              "      <th>month</th>\n",
              "      <th>day_of_week</th>\n",
              "      <th>holiday_flg</th>\n",
              "      <th>min_visitors</th>\n",
              "      <th>mean_visitors</th>\n",
              "      <th>median_visitors</th>\n",
              "      <th>max_visitors</th>\n",
              "      <th>count_observations</th>\n",
              "      <th>air_genre_name</th>\n",
              "      <th>air_area_name</th>\n",
              "      <th>latitude</th>\n",
              "      <th>longitude</th>\n",
              "      <th>reserve_datetime_diff_x</th>\n",
              "      <th>reserve_visitors_x</th>\n",
              "      <th>reserve_datetime_diff_y</th>\n",
              "      <th>reserve_visitors_y</th>\n",
              "    </tr>\n",
              "  </thead>\n",
              "  <tbody>\n",
              "    <tr>\n",
              "      <th>0</th>\n",
              "      <td>air_00a91d42b08b08d9_2017-04-23</td>\n",
              "      <td>0</td>\n",
              "      <td>2017-04-23</td>\n",
              "      <td>air_00a91d42b08b08d9</td>\n",
              "      <td>6</td>\n",
              "      <td>2017</td>\n",
              "      <td>4</td>\n",
              "      <td>3</td>\n",
              "      <td>0</td>\n",
              "      <td>2.0</td>\n",
              "      <td>2.000000</td>\n",
              "      <td>2.0</td>\n",
              "      <td>2.0</td>\n",
              "      <td>1.0</td>\n",
              "      <td>6</td>\n",
              "      <td>44</td>\n",
              "      <td>35.694003</td>\n",
              "      <td>139.753595</td>\n",
              "      <td>NaN</td>\n",
              "      <td>NaN</td>\n",
              "      <td>NaN</td>\n",
              "      <td>NaN</td>\n",
              "    </tr>\n",
              "    <tr>\n",
              "      <th>1</th>\n",
              "      <td>air_00a91d42b08b08d9_2017-04-24</td>\n",
              "      <td>0</td>\n",
              "      <td>2017-04-24</td>\n",
              "      <td>air_00a91d42b08b08d9</td>\n",
              "      <td>0</td>\n",
              "      <td>2017</td>\n",
              "      <td>4</td>\n",
              "      <td>1</td>\n",
              "      <td>0</td>\n",
              "      <td>1.0</td>\n",
              "      <td>22.457143</td>\n",
              "      <td>19.0</td>\n",
              "      <td>47.0</td>\n",
              "      <td>35.0</td>\n",
              "      <td>6</td>\n",
              "      <td>44</td>\n",
              "      <td>35.694003</td>\n",
              "      <td>139.753595</td>\n",
              "      <td>NaN</td>\n",
              "      <td>NaN</td>\n",
              "      <td>NaN</td>\n",
              "      <td>NaN</td>\n",
              "    </tr>\n",
              "    <tr>\n",
              "      <th>2</th>\n",
              "      <td>air_00a91d42b08b08d9_2017-04-25</td>\n",
              "      <td>0</td>\n",
              "      <td>2017-04-25</td>\n",
              "      <td>air_00a91d42b08b08d9</td>\n",
              "      <td>1</td>\n",
              "      <td>2017</td>\n",
              "      <td>4</td>\n",
              "      <td>5</td>\n",
              "      <td>0</td>\n",
              "      <td>1.0</td>\n",
              "      <td>24.350000</td>\n",
              "      <td>24.5</td>\n",
              "      <td>43.0</td>\n",
              "      <td>40.0</td>\n",
              "      <td>6</td>\n",
              "      <td>44</td>\n",
              "      <td>35.694003</td>\n",
              "      <td>139.753595</td>\n",
              "      <td>NaN</td>\n",
              "      <td>NaN</td>\n",
              "      <td>NaN</td>\n",
              "      <td>NaN</td>\n",
              "    </tr>\n",
              "    <tr>\n",
              "      <th>3</th>\n",
              "      <td>air_00a91d42b08b08d9_2017-04-26</td>\n",
              "      <td>0</td>\n",
              "      <td>2017-04-26</td>\n",
              "      <td>air_00a91d42b08b08d9</td>\n",
              "      <td>2</td>\n",
              "      <td>2017</td>\n",
              "      <td>4</td>\n",
              "      <td>6</td>\n",
              "      <td>0</td>\n",
              "      <td>15.0</td>\n",
              "      <td>28.125000</td>\n",
              "      <td>28.0</td>\n",
              "      <td>52.0</td>\n",
              "      <td>40.0</td>\n",
              "      <td>6</td>\n",
              "      <td>44</td>\n",
              "      <td>35.694003</td>\n",
              "      <td>139.753595</td>\n",
              "      <td>NaN</td>\n",
              "      <td>NaN</td>\n",
              "      <td>NaN</td>\n",
              "      <td>NaN</td>\n",
              "    </tr>\n",
              "    <tr>\n",
              "      <th>4</th>\n",
              "      <td>air_00a91d42b08b08d9_2017-04-27</td>\n",
              "      <td>0</td>\n",
              "      <td>2017-04-27</td>\n",
              "      <td>air_00a91d42b08b08d9</td>\n",
              "      <td>3</td>\n",
              "      <td>2017</td>\n",
              "      <td>4</td>\n",
              "      <td>4</td>\n",
              "      <td>0</td>\n",
              "      <td>15.0</td>\n",
              "      <td>29.868421</td>\n",
              "      <td>30.0</td>\n",
              "      <td>47.0</td>\n",
              "      <td>38.0</td>\n",
              "      <td>6</td>\n",
              "      <td>44</td>\n",
              "      <td>35.694003</td>\n",
              "      <td>139.753595</td>\n",
              "      <td>NaN</td>\n",
              "      <td>NaN</td>\n",
              "      <td>NaN</td>\n",
              "      <td>NaN</td>\n",
              "    </tr>\n",
              "  </tbody>\n",
              "</table>\n",
              "</div>"
            ],
            "text/plain": [
              "                                id  ...  reserve_visitors_y\n",
              "0  air_00a91d42b08b08d9_2017-04-23  ...                 NaN\n",
              "1  air_00a91d42b08b08d9_2017-04-24  ...                 NaN\n",
              "2  air_00a91d42b08b08d9_2017-04-25  ...                 NaN\n",
              "3  air_00a91d42b08b08d9_2017-04-26  ...                 NaN\n",
              "4  air_00a91d42b08b08d9_2017-04-27  ...                 NaN\n",
              "\n",
              "[5 rows x 22 columns]"
            ]
          },
          "metadata": {
            "tags": []
          },
          "execution_count": 32
        }
      ]
    },
    {
      "cell_type": "markdown",
      "metadata": {
        "id": "CZV1Mj4RCWJA"
      },
      "source": [
        "## train과 test 데이터에서 reserve관련 데이터 NaN 값들을 -1로 채워준다\n",
        "\n",
        "이 값들은 예약을 하지 않고 온 손님들을 의미한다."
      ]
    },
    {
      "cell_type": "code",
      "metadata": {
        "colab": {
          "base_uri": "https://localhost:8080/"
        },
        "id": "VGJzJE-ZWL9h",
        "outputId": "04d53e37-f6de-4a59-d937-4dd5eb9f4f48"
      },
      "source": [
        "print(train.head())\n",
        "print(train.info())"
      ],
      "execution_count": 33,
      "outputs": [
        {
          "output_type": "stream",
          "text": [
            "           air_store_id  ... reserve_visitors_y\n",
            "0  air_ba937bf13d40fb24  ...                NaN\n",
            "1  air_ba937bf13d40fb24  ...                NaN\n",
            "2  air_ba937bf13d40fb24  ...                NaN\n",
            "3  air_ba937bf13d40fb24  ...                NaN\n",
            "4  air_ba937bf13d40fb24  ...                NaN\n",
            "\n",
            "[5 rows x 21 columns]\n",
            "<class 'pandas.core.frame.DataFrame'>\n",
            "Int64Index: 252108 entries, 0 to 252107\n",
            "Data columns (total 21 columns):\n",
            " #   Column                   Non-Null Count   Dtype  \n",
            "---  ------                   --------------   -----  \n",
            " 0   air_store_id             252108 non-null  object \n",
            " 1   visit_date               252108 non-null  object \n",
            " 2   visitors                 252108 non-null  int64  \n",
            " 3   dow                      252108 non-null  int64  \n",
            " 4   year                     252108 non-null  int64  \n",
            " 5   month                    252108 non-null  int64  \n",
            " 6   day_of_week              252108 non-null  int64  \n",
            " 7   holiday_flg              252108 non-null  int64  \n",
            " 8   min_visitors             250468 non-null  float64\n",
            " 9   mean_visitors            250468 non-null  float64\n",
            " 10  median_visitors          250468 non-null  float64\n",
            " 11  max_visitors             250468 non-null  float64\n",
            " 12  count_observations       250468 non-null  float64\n",
            " 13  air_genre_name           250468 non-null  float64\n",
            " 14  air_area_name            250468 non-null  float64\n",
            " 15  latitude                 250468 non-null  float64\n",
            " 16  longitude                250468 non-null  float64\n",
            " 17  reserve_datetime_diff_x  28064 non-null   float64\n",
            " 18  reserve_visitors_x       28064 non-null   float64\n",
            " 19  reserve_datetime_diff_y  13550 non-null   float64\n",
            " 20  reserve_visitors_y       13550 non-null   float64\n",
            "dtypes: float64(13), int64(6), object(2)\n",
            "memory usage: 42.3+ MB\n",
            "None\n"
          ],
          "name": "stdout"
        }
      ]
    },
    {
      "cell_type": "code",
      "metadata": {
        "id": "lTGgPHHwWOWU"
      },
      "source": [
        "# col = [c for c in train if c not in ['id', 'air_store_id','visit_date','visitors']]\n",
        "train = train.fillna(-1)\n",
        "test = test.fillna(-1)"
      ],
      "execution_count": 34,
      "outputs": []
    },
    {
      "cell_type": "code",
      "metadata": {
        "colab": {
          "base_uri": "https://localhost:8080/"
        },
        "id": "xfAIQIvCaZvI",
        "outputId": "12a0cfb2-9e30-47cf-9b74-0e26f6e663b7"
      },
      "source": [
        "# train.head()\n",
        "print(train.head())\n",
        "print(train.info())"
      ],
      "execution_count": 35,
      "outputs": [
        {
          "output_type": "stream",
          "text": [
            "           air_store_id  ... reserve_visitors_y\n",
            "0  air_ba937bf13d40fb24  ...               -1.0\n",
            "1  air_ba937bf13d40fb24  ...               -1.0\n",
            "2  air_ba937bf13d40fb24  ...               -1.0\n",
            "3  air_ba937bf13d40fb24  ...               -1.0\n",
            "4  air_ba937bf13d40fb24  ...               -1.0\n",
            "\n",
            "[5 rows x 21 columns]\n",
            "<class 'pandas.core.frame.DataFrame'>\n",
            "Int64Index: 252108 entries, 0 to 252107\n",
            "Data columns (total 21 columns):\n",
            " #   Column                   Non-Null Count   Dtype  \n",
            "---  ------                   --------------   -----  \n",
            " 0   air_store_id             252108 non-null  object \n",
            " 1   visit_date               252108 non-null  object \n",
            " 2   visitors                 252108 non-null  int64  \n",
            " 3   dow                      252108 non-null  int64  \n",
            " 4   year                     252108 non-null  int64  \n",
            " 5   month                    252108 non-null  int64  \n",
            " 6   day_of_week              252108 non-null  int64  \n",
            " 7   holiday_flg              252108 non-null  int64  \n",
            " 8   min_visitors             252108 non-null  float64\n",
            " 9   mean_visitors            252108 non-null  float64\n",
            " 10  median_visitors          252108 non-null  float64\n",
            " 11  max_visitors             252108 non-null  float64\n",
            " 12  count_observations       252108 non-null  float64\n",
            " 13  air_genre_name           252108 non-null  float64\n",
            " 14  air_area_name            252108 non-null  float64\n",
            " 15  latitude                 252108 non-null  float64\n",
            " 16  longitude                252108 non-null  float64\n",
            " 17  reserve_datetime_diff_x  252108 non-null  float64\n",
            " 18  reserve_visitors_x       252108 non-null  float64\n",
            " 19  reserve_datetime_diff_y  252108 non-null  float64\n",
            " 20  reserve_visitors_y       252108 non-null  float64\n",
            "dtypes: float64(13), int64(6), object(2)\n",
            "memory usage: 42.3+ MB\n",
            "None\n"
          ],
          "name": "stdout"
        }
      ]
    },
    {
      "cell_type": "markdown",
      "metadata": {
        "id": "rdvpvHuoJ9tg"
      },
      "source": [
        "## Correlation between variables"
      ]
    },
    {
      "cell_type": "code",
      "metadata": {
        "id": "OXXDb2pyKHVv"
      },
      "source": [
        "import matplotlib.pyplot as plt\n",
        "import seaborn as sns\n",
        "\n",
        "corr_date = train.drop(['visit_date', 'air_store_id'], axis = 1)\n",
        "\n",
        "corr_m = np.corrcoef(corr_date.values.T)"
      ],
      "execution_count": 36,
      "outputs": []
    },
    {
      "cell_type": "code",
      "metadata": {
        "id": "0hj075sxKIBx",
        "outputId": "4e7e2428-db37-46e1-c400-02d0570f15fa",
        "colab": {
          "base_uri": "https://localhost:8080/",
          "height": 1000
        }
      },
      "source": [
        "plt.rcParams['figure.figsize'] = [20, 20]\n",
        "plt.title(\"Correlation between variables\",fontsize=30)\n",
        "sns.set(font_scale=2)\n",
        "hm = sns.heatmap(corr_m,\n",
        "                 cbar=True,\n",
        "                 annot=True,\n",
        "                 square=True,\n",
        "                 fmt='.2f',    # 소수점 아래 두자리 표현\n",
        "                 annot_kws={'size': 20},\n",
        "                 yticklabels=corr_date.columns[0:],\n",
        "                 xticklabels=corr_date.columns[0:])\n",
        "plt.show()"
      ],
      "execution_count": 37,
      "outputs": [
        {
          "output_type": "display_data",
          "data": {
            "image/png": "[encoded data removed]",
            "text/plain": [
              "<Figure size 1440x1440 with 2 Axes>"
            ]
          },
          "metadata": {
            "tags": [],
            "needs_background": "light"
          }
        }
      ]
    },
    {
      "cell_type": "markdown",
      "metadata": {
        "id": "bQhGTh4MLxrR"
      },
      "source": [
        "- 고객수의 평균이나 중간값이 `visitors`와 강한 상관관계를 가지는 것을 확인할 수 있다."
      ]
    },
    {
      "cell_type": "markdown",
      "metadata": {
        "id": "4dQxMj4nKQbB"
      },
      "source": [
        "## `visitors` 분포 확인\n",
        "\n"
      ]
    },
    {
      "cell_type": "code",
      "metadata": {
        "id": "pQCAQsSVKZ_u",
        "outputId": "b52bc658-af9a-46f8-8f06-683c090c1e1e",
        "colab": {
          "base_uri": "https://localhost:8080/",
          "height": 433
        }
      },
      "source": [
        "fig = plt.figure(figsize = (12, 6))\n",
        "gs = fig.add_gridspec(1, 2)\n",
        "plt.rc('xtick', labelsize=12) \n",
        "\n",
        "f_ax1 = fig.add_subplot(gs[0, 0])\n",
        "sns.kdeplot(train['visitors'])\n",
        "plt.title('Visitors (raw)')\n",
        "\n",
        "f_ax2 = fig.add_subplot(gs[-1, -1])\n",
        "visitors_log_t = np.log1p(train['visitors'])\n",
        "sns.kdeplot(visitors_log_t)\n",
        "plt.title('Visitors (log_transformation)')\n",
        "plt.show()"
      ],
      "execution_count": 38,
      "outputs": [
        {
          "output_type": "display_data",
          "data": {
            "image/png": "[encoded data removed]",
            "text/plain": [
              "<Figure size 864x432 with 2 Axes>"
            ]
          },
          "metadata": {
            "tags": []
          }
        }
      ]
    },
    {
      "cell_type": "markdown",
      "metadata": {
        "id": "4v2TlX1HLi4G"
      },
      "source": [
        "- `visitors`가 치우쳐 있는 것을 볼 수 있는데 `log` 변환을 해줘서 정규분포가 되도록 만들어줘야 한다."
      ]
    },
    {
      "cell_type": "markdown",
      "metadata": {
        "id": "OSayo8Q7DDr-"
      },
      "source": [
        "# 학습 및 예측\n",
        "\n",
        "- [더욱 랜덤한 포레스트-익스트림 랜덤 트리(ExtraTreesClassifier)](https://tensorflow.blog/2017/11/30/%EB%8D%94%EC%9A%B1-%EB%9E%9C%EB%8D%A4%ED%95%9C-%ED%8F%AC%EB%A0%88%EC%8A%A4%ED%8A%B8-%EC%9D%B5%EC%8A%A4%ED%8A%B8%EB%A6%BC-%EB%9E%9C%EB%8D%A4-%ED%8A%B8%EB%A6%ACextratreesclassifier/)\n",
        "- [KNN 알고리즘으로 Regression 하는 방법](https://eunsukimme.github.io/ml/2019/10/20/KNN-regression/)\n",
        "\n",
        "\n",
        "---\n",
        "\n",
        "랜덤 포레스트 모델의 변종으로 **익스트림 랜덤 트리extremely randomized trees** 혹은 **엑스트라 트리ExtraTrees**라 부르는 모델이 있다. 엑스트라 트리는 포레스트 트리의 각 후보 특성을 무작위로 분할하는 식으로 무작위성을 증가 시킨다.\n",
        "\n",
        "회귀에 대응하는 엑스트라 트리인 **ExtraTreesRegressor**도 있다. \n",
        "\n",
        "ExtraTreesClassifier와 ExtraTreesRegressor의 매개변수 기본값은 부스트랩 샘플을 사용하지 않도록 bootstrap=False인 것을 제외하고는 랜덤 포레스트와 동일하다."
      ]
    },
    {
      "cell_type": "code",
      "metadata": {
        "id": "EsQssH7JWRno"
      },
      "source": [
        "def RMSLE(y, pred):\n",
        "    return metrics.mean_squared_error(y, pred)**0.5"
      ],
      "execution_count": 39,
      "outputs": []
    },
    {
      "cell_type": "code",
      "metadata": {
        "colab": {
          "base_uri": "https://localhost:8080/"
        },
        "id": "bnWA3E1NWUW8",
        "outputId": "5e71f59a-1ebc-4e97-f514-cbcd9bda16d6"
      },
      "source": [
        "# lr = linear_model.LinearRegression(n_jobs=-1)\n",
        "etc = ensemble.ExtraTreesRegressor(n_estimators=225, max_depth=5, n_jobs=-1, random_state=3)\n",
        "knn = neighbors.KNeighborsRegressor(n_jobs=-1, n_neighbors=4)\n",
        "\n",
        "col = [c for c in train if c not in ['id', 'air_store_id','visit_date','visitors']]\n",
        "\n",
        "# lr.fit(train[col], np.log1p(train['visitors'].values))\n",
        "etc.fit(train[col], np.log1p(train['visitors'].values))\n",
        "knn.fit(train[col], np.log1p(train['visitors'].values))\n",
        "\n",
        "\n",
        "# print('RMSE LinearRegressor: ', RMSLE(np.log1p(train['visitors'].values), lr.predict(train[col])))\n",
        "print('RMSE ExtraTreesRegressor: ', RMSLE(np.log1p(train['visitors'].values), etc.predict(train[col])))\n",
        "print('RMSE KNNRegressor: ', RMSLE(np.log1p(train['visitors'].values), knn.predict(train[col])))\n",
        "\n",
        "test['visitors'] = (etc.predict(test[col]) / 2) +(knn.predict(test[col]) / 2) # ensemble\n",
        "test['visitors'] = np.expm1(test['visitors']).clip(lower=0.)\n",
        "test[['id','visitors']].to_csv('submission_final.csv', index=False, float_format='%.2f')"
      ],
      "execution_count": 40,
      "outputs": [
        {
          "output_type": "stream",
          "text": [
            "RMSE ExtraTreesRegressor:  0.5240595190546888\n",
            "RMSE KNNRegressor:  0.4210877654778437\n"
          ],
          "name": "stdout"
        }
      ]
    }
  ]
}